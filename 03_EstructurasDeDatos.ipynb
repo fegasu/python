{
  "nbformat": 4,
  "nbformat_minor": 0,
  "metadata": {
    "kernelspec": {
      "display_name": "Python 3",
      "language": "python",
      "name": "python3"
    },
    "language_info": {
      "codemirror_mode": {
        "name": "ipython",
        "version": 3
      },
      "file_extension": ".py",
      "mimetype": "text/x-python",
      "name": "python",
      "nbconvert_exporter": "python",
      "pygments_lexer": "ipython3",
      "version": "3.7.3"
    },
    "toc": {
      "base_numbering": 1,
      "nav_menu": {},
      "number_sections": false,
      "sideBar": true,
      "skip_h1_title": false,
      "title_cell": "Table of Contents",
      "title_sidebar": "Contents",
      "toc_cell": false,
      "toc_position": {},
      "toc_section_display": true,
      "toc_window_display": false
    },
    "colab": {
      "name": "03_EstructurasDeDatos.ipynb",
      "provenance": [],
      "include_colab_link": true
    }
  },
  "cells": [
    {
      "cell_type": "markdown",
      "metadata": {
        "id": "view-in-github",
        "colab_type": "text"
      },
      "source": [
        "<a href=\"https://colab.research.google.com/github/fegasu/python/blob/master/03_EstructurasDeDatos.ipynb\" target=\"_parent\"><img src=\"https://colab.research.google.com/assets/colab-badge.svg\" alt=\"Open In Colab\"/></a>"
      ]
    },
    {
      "cell_type": "markdown",
      "metadata": {
        "id": "rLeOevLUFSPk"
      },
      "source": [
        "# Estructuras de Datos"
      ]
    },
    {
      "cell_type": "markdown",
      "metadata": {
        "id": "vm2CW_KDFSPo"
      },
      "source": [
        "## Tuplas\n",
        "Son secuencias ordenadas de tamaño fijo e inmutables"
      ]
    },
    {
      "cell_type": "code",
      "metadata": {
        "id": "Qwoej6iIFSPq",
        "outputId": "9c8eb51c-a99e-41d5-aed3-6d33ec3f50b9"
      },
      "source": [
        "tupla = 4, 5, 6\n",
        "print(tupla)\n",
        "print(type(tupla))\n",
        "\n",
        "tupla2=(1,2,3)\n",
        "print(tupla2)\n",
        "print(type(tupla2))\n",
        "# Pueden ser anidadas de la siguiente forma\n",
        "tupla_anidada = tupla, tupla2\n",
        "print(tupla_anidada)\n",
        "print(type(tupla_anidada))\n",
        "print(tupla_anidada[1])"
      ],
      "execution_count": null,
      "outputs": [
        {
          "output_type": "stream",
          "text": [
            "(4, 5, 6)\n",
            "<class 'tuple'>\n",
            "(1, 2, 3)\n",
            "<class 'tuple'>\n",
            "((4, 5, 6), (1, 2, 3))\n",
            "<class 'tuple'>\n",
            "(1, 2, 3)\n"
          ],
          "name": "stdout"
        }
      ]
    },
    {
      "cell_type": "markdown",
      "metadata": {
        "id": "hwIuC0yLFSPw"
      },
      "source": [
        "Es posible convertir una secuencia o iterador en una tupla."
      ]
    },
    {
      "cell_type": "code",
      "metadata": {
        "id": "3dSheem9FSPx",
        "outputId": "327f001a-c34e-4115-ad87-6031f387e0b8"
      },
      "source": [
        "x=[4,0,2]\n",
        "print(type(x))\n",
        "\n",
        "\n",
        "tupla2 = tuple([4, 0, 2])\n",
        "tupla3 = tuple(\"string\")\n",
        "print(tupla3)"
      ],
      "execution_count": null,
      "outputs": [
        {
          "output_type": "stream",
          "text": [
            "<class 'list'>\n",
            "('s', 't', 'r', 'i', 'n', 'g')\n"
          ],
          "name": "stdout"
        }
      ]
    },
    {
      "cell_type": "markdown",
      "metadata": {
        "id": "XNBa56U5FSP4"
      },
      "source": [
        "Para consultar los elmentos de la tupla se usan corchetes cuadrados \"_[ ]_\"."
      ]
    },
    {
      "cell_type": "code",
      "metadata": {
        "id": "9aymUwCKFSP5",
        "outputId": "2e16ebad-1c2e-45a1-ed12-1f76c8529ab3"
      },
      "source": [
        "print(tupla3[0])\n",
        "tupla3[1]\n",
        "tupla3[2]\n",
        "tupla3[3]"
      ],
      "execution_count": null,
      "outputs": [
        {
          "output_type": "stream",
          "text": [
            "s\n"
          ],
          "name": "stdout"
        },
        {
          "output_type": "execute_result",
          "data": {
            "text/plain": [
              "'i'"
            ]
          },
          "metadata": {
            "tags": []
          },
          "execution_count": 275
        }
      ]
    },
    {
      "cell_type": "markdown",
      "metadata": {
        "id": "wP3vd8U4FSP-"
      },
      "source": [
        "Es posible concatenar tuplas con el operador `+`"
      ]
    },
    {
      "cell_type": "code",
      "metadata": {
        "id": "0naxVq4BFSP_",
        "colab": {
          "base_uri": "https://localhost:8080/",
          "height": 34
        },
        "outputId": "badf30d5-6591-415d-e682-a483c44a5c82"
      },
      "source": [
        "w=(1, 2, 8) + (4, \"9\", 6)\n",
        "w\n",
        "type(w[2])\n",
        "\n",
        "\n",
        "\n",
        "\n"
      ],
      "execution_count": null,
      "outputs": [
        {
          "output_type": "execute_result",
          "data": {
            "text/plain": [
              "int"
            ]
          },
          "metadata": {
            "tags": []
          },
          "execution_count": 9
        }
      ]
    },
    {
      "cell_type": "markdown",
      "metadata": {
        "id": "Uy1M_pXHFSQD"
      },
      "source": [
        "De forma antiintuitiva también es posible multiplicar tuplas por números enteros"
      ]
    },
    {
      "cell_type": "code",
      "metadata": {
        "id": "kCTHhHOQFSQF",
        "colab": {
          "base_uri": "https://localhost:8080/",
          "height": 51
        },
        "outputId": "86bf7440-d988-41c8-829c-cf26286c2bec"
      },
      "source": [
        "w=(1, 2, 3) * 5\n",
        "print(w)\n",
        "type(w)"
      ],
      "execution_count": null,
      "outputs": [
        {
          "output_type": "stream",
          "text": [
            "(1, 2, 3, 1, 2, 3, 1, 2, 3, 1, 2, 3, 1, 2, 3)\n"
          ],
          "name": "stdout"
        },
        {
          "output_type": "execute_result",
          "data": {
            "text/plain": [
              "tuple"
            ]
          },
          "metadata": {
            "tags": []
          },
          "execution_count": 10
        }
      ]
    },
    {
      "cell_type": "markdown",
      "metadata": {
        "id": "FCpN5lXOFSQJ"
      },
      "source": [
        "\"_Desempacar una tupla_\" es una forma en la cual se asignan los elementos de una tupla a una variable"
      ]
    },
    {
      "cell_type": "code",
      "metadata": {
        "id": "ZxTEALiIFSQK",
        "outputId": "29451e2c-94b4-41b4-a65d-06e1176cb597"
      },
      "source": [
        "tupla = (1, 2, 3)\n",
        "x, y,r = tupla\n",
        "print(y)\n",
        "type(y)"
      ],
      "execution_count": null,
      "outputs": [
        {
          "output_type": "stream",
          "text": [
            "2\n"
          ],
          "name": "stdout"
        },
        {
          "output_type": "execute_result",
          "data": {
            "text/plain": [
              "int"
            ]
          },
          "metadata": {
            "tags": []
          },
          "execution_count": 278
        }
      ]
    },
    {
      "cell_type": "markdown",
      "metadata": {
        "id": "AYZp6x5kFSQO"
      },
      "source": [
        "Usando este proceso para intercambiar nombres de variables"
      ]
    },
    {
      "cell_type": "code",
      "metadata": {
        "id": "e6rV5JqBFSQP",
        "colab": {
          "base_uri": "https://localhost:8080/",
          "height": 51
        },
        "outputId": "88268107-d700-4e9b-a928-dc70b4225113"
      },
      "source": [
        "a, b = 10, 5\n",
        "b, a = a, b\n",
        "r = 10,5\n",
        "type(r)\n",
        "print(a)\n",
        "print(r)\n"
      ],
      "execution_count": null,
      "outputs": [
        {
          "output_type": "stream",
          "text": [
            "5\n",
            "(10, 5)\n"
          ],
          "name": "stdout"
        }
      ]
    },
    {
      "cell_type": "markdown",
      "metadata": {
        "id": "y3hZqMFoFSQT"
      },
      "source": [
        "\"_Plucking_\" es una forma alternativa de desempaquetamiento en la que solo se toman los primeros elementos de la tupla.  \n",
        "Por convención, las variables no deseadas se marcan con \"\\_\", esto no significa que la variable no exista."
      ]
    },
    {
      "cell_type": "code",
      "metadata": {
        "scrolled": true,
        "id": "DfYcyUEYFSQU",
        "colab": {
          "base_uri": "https://localhost:8080/",
          "height": 85
        },
        "outputId": "7e02168b-1113-43e7-8cf5-6b1f7a3ebdad"
      },
      "source": [
        "values = tuple(range(10))\n",
        "a, b, c, *mama= values\n",
        "print(a, b, c)\n",
        "print(mama)\n",
        "print(type(mama))\n",
        "a, b, c, *_ = values\n",
        "print(a, b, c, _)"
      ],
      "execution_count": null,
      "outputs": [
        {
          "output_type": "stream",
          "text": [
            "0 1 2\n",
            "[3, 4, 5, 6, 7, 8, 9]\n",
            "<class 'list'>\n",
            "0 1 2 [3, 4, 5, 6, 7, 8, 9]\n"
          ],
          "name": "stdout"
        }
      ]
    },
    {
      "cell_type": "code",
      "metadata": {
        "scrolled": true,
        "id": "iGsZiKG7FSQY",
        "colab": {
          "base_uri": "https://localhost:8080/",
          "height": 181
        },
        "outputId": "cb5c7a5f-c780-4e94-9193-e31c90a58510"
      },
      "source": [
        "l=tuple(range(10))\n",
        "l[0]=5  ###  Las tuplas son inmutables, no se pueden modificar"
      ],
      "execution_count": null,
      "outputs": [
        {
          "output_type": "error",
          "ename": "TypeError",
          "evalue": "ignored",
          "traceback": [
            "\u001b[0;31m---------------------------------------------------------------------------\u001b[0m",
            "\u001b[0;31mTypeError\u001b[0m                                 Traceback (most recent call last)",
            "\u001b[0;32m<ipython-input-16-8325ab853ac6>\u001b[0m in \u001b[0;36m<module>\u001b[0;34m()\u001b[0m\n\u001b[1;32m      1\u001b[0m \u001b[0ml\u001b[0m\u001b[0;34m=\u001b[0m\u001b[0mtuple\u001b[0m\u001b[0;34m(\u001b[0m\u001b[0mrange\u001b[0m\u001b[0;34m(\u001b[0m\u001b[0;36m10\u001b[0m\u001b[0;34m)\u001b[0m\u001b[0;34m)\u001b[0m\u001b[0;34m\u001b[0m\u001b[0;34m\u001b[0m\u001b[0m\n\u001b[0;32m----> 2\u001b[0;31m \u001b[0ml\u001b[0m\u001b[0;34m[\u001b[0m\u001b[0;36m0\u001b[0m\u001b[0;34m]\u001b[0m\u001b[0;34m=\u001b[0m\u001b[0;36m5\u001b[0m  \u001b[0;31m###  Las tuplas son inmutables, no se pueden modificar\u001b[0m\u001b[0;34m\u001b[0m\u001b[0;34m\u001b[0m\u001b[0m\n\u001b[0m",
            "\u001b[0;31mTypeError\u001b[0m: 'tuple' object does not support item assignment"
          ]
        }
      ]
    },
    {
      "cell_type": "markdown",
      "metadata": {
        "id": "odwDbamgFSQc"
      },
      "source": [
        "## Listas\n",
        "Son secuencias de longitud variable, y mutables.\n",
        "Se definen con \"[]\" o usando la función `list`"
      ]
    },
    {
      "cell_type": "code",
      "metadata": {
        "id": "ker9_riZFSQd",
        "outputId": "0dbc6cc0-7665-40e4-f452-07739c7acb86"
      },
      "source": [
        "lista_0 = [2, 3, 5, 7]\n",
        "\n",
        "tupla = (1, 2, 3, 4, 5)\n",
        "lista_1 = list(tupla)\n",
        "\n",
        "gen = range(15)\n",
        "list(gen)"
      ],
      "execution_count": null,
      "outputs": [
        {
          "output_type": "execute_result",
          "data": {
            "text/plain": [
              "[0, 1, 2, 3, 4, 5, 6, 7, 8, 9, 10, 11, 12, 13, 14]"
            ]
          },
          "metadata": {
            "tags": []
          },
          "execution_count": 282
        }
      ]
    },
    {
      "cell_type": "markdown",
      "metadata": {
        "id": "--T1PXaGFSQh"
      },
      "source": [
        "### Inserción y remoción\n",
        "Para agregar elementos existen varios métodos.  \n",
        "Pueden usarse las funciones `append` o `insert`, ó pueden usarse asignaciones dentro de un campo"
      ]
    },
    {
      "cell_type": "code",
      "metadata": {
        "id": "RZN7IxagFSQi",
        "colab": {
          "base_uri": "https://localhost:8080/",
          "height": 187
        },
        "outputId": "8ced837d-8120-4ef0-94d4-edb674f5117e"
      },
      "source": [
        "lista_2 = ['uno', 'dos', 'tres']\n",
        "print(lista_2)\n",
        "print(len(lista_2))\n",
        "\n",
        "lista_2.append('cuatro')\n",
        "print(lista_2)\n",
        "print(len(lista_2))\n",
        "\n",
        "\n",
        "lista_2.extend([\"a\",\"b\",\"c\",\"d\"])\n",
        "\n",
        "lista_2.insert(1, 'uno y medio')\n",
        "print(lista_2)\n",
        "print(len(lista_2))\n",
        "\n",
        "# Esta es otra forma de acceder al último elemento de una lista\n",
        "lista_2[-1] = 'seis'\n",
        "print(lista_2)\n",
        "print(len(lista_2))\n",
        "\n",
        "lista_2.insert(2,\"Ensayito\")\n",
        "print(lista_2)\n",
        "print(len(lista_2))"
      ],
      "execution_count": null,
      "outputs": [
        {
          "output_type": "stream",
          "text": [
            "['uno', 'dos', 'tres']\n",
            "3\n",
            "['uno', 'dos', 'tres', 'cuatro']\n",
            "4\n",
            "['uno', 'uno y medio', 'dos', 'tres', 'cuatro', 'a', 'b', 'c', 'd']\n",
            "9\n",
            "['uno', 'uno y medio', 'dos', 'tres', 'cuatro', 'a', 'b', 'c', 'seis']\n",
            "9\n",
            "['uno', 'uno y medio', 'Ensayito', 'dos', 'tres', 'cuatro', 'a', 'b', 'c', 'seis']\n",
            "10\n"
          ],
          "name": "stdout"
        }
      ]
    },
    {
      "cell_type": "markdown",
      "metadata": {
        "id": "kMrOjE2-FSQm"
      },
      "source": [
        "El inverso de `insert` es `pop`. Se quitan elementos con `pop` usando un indice o el último elemento sin ningún argumento"
      ]
    },
    {
      "cell_type": "code",
      "metadata": {
        "id": "dljVM4MxFSQn",
        "colab": {
          "base_uri": "https://localhost:8080/",
          "height": 51
        },
        "outputId": "1a8bd1a0-955b-4a97-cb4d-a7a6058beb63"
      },
      "source": [
        "print(lista_2)\n",
        "#lista_2.pop(1)\n",
        "lista_2.pop()\n",
        "print(lista_2)"
      ],
      "execution_count": null,
      "outputs": [
        {
          "output_type": "stream",
          "text": [
            "['uno']\n",
            "[]\n"
          ],
          "name": "stdout"
        }
      ]
    },
    {
      "cell_type": "markdown",
      "metadata": {
        "id": "q7VR9m3aFSQs"
      },
      "source": [
        "La función `remove` busca el primer elemento cuyo valor es igual al parametro y lo borra"
      ]
    },
    {
      "cell_type": "code",
      "metadata": {
        "id": "NfKa9MuDFSQt",
        "colab": {
          "base_uri": "https://localhost:8080/",
          "height": 51
        },
        "outputId": "fb574a85-48f2-4e51-a2fe-f539e40ab872"
      },
      "source": [
        "print(lista_2)\n",
        "lista_2.remove('uno y medio')\n",
        "print(lista_2)"
      ],
      "execution_count": null,
      "outputs": [
        {
          "output_type": "stream",
          "text": [
            "['uno', 'uno y medio', 'Ensayito', 'dos', 'tres', 'cuatro', 'a', 'b', 'c', 'seis']\n",
            "['uno', 'Ensayito', 'dos', 'tres', 'cuatro', 'a', 'b', 'c', 'seis']\n"
          ],
          "name": "stdout"
        }
      ]
    },
    {
      "cell_type": "markdown",
      "metadata": {
        "id": "VK3rzqeZFSQw"
      },
      "source": [
        "Se puede revisar si un elemento está en la lista"
      ]
    },
    {
      "cell_type": "code",
      "metadata": {
        "id": "GZZj9kznFSQx",
        "colab": {
          "base_uri": "https://localhost:8080/",
          "height": 68
        },
        "outputId": "d4fbb2f2-7eda-43fe-b145-f27104bc000d"
      },
      "source": [
        "print(lista_2)\n",
        "print('dos' in lista_2)\n",
        "\n",
        "##o si no está\n",
        "\n",
        "'tres' not in lista_2"
      ],
      "execution_count": null,
      "outputs": [
        {
          "output_type": "stream",
          "text": [
            "['uno', 'Ensayito', 'dos', 'tres', 'cuatro', 'a', 'b', 'c', 'seis']\n",
            "True\n"
          ],
          "name": "stdout"
        },
        {
          "output_type": "execute_result",
          "data": {
            "text/plain": [
              "False"
            ]
          },
          "metadata": {
            "tags": []
          },
          "execution_count": 47
        }
      ]
    },
    {
      "cell_type": "markdown",
      "metadata": {
        "id": "RBmCnNZFFSQ1"
      },
      "source": [
        "De forma similar a las tuplas, las listas pueden ser concatenadas con `+`"
      ]
    },
    {
      "cell_type": "code",
      "metadata": {
        "scrolled": true,
        "id": "NZS2G6v6FSQ2",
        "outputId": "6ce9420c-95e4-40c9-851e-2af2b264ad85"
      },
      "source": [
        "[1, 2, 3, 4] + [5, 6, 7, 8]"
      ],
      "execution_count": null,
      "outputs": [
        {
          "output_type": "execute_result",
          "data": {
            "text/plain": [
              "[1, 2, 3, 4, 5, 6, 7, 8]"
            ]
          },
          "metadata": {
            "tags": []
          },
          "execution_count": 287
        }
      ]
    },
    {
      "cell_type": "code",
      "metadata": {
        "id": "Mdnh24PoFSQ5",
        "outputId": "5f95311f-a33c-46d5-e2e6-97dde79075a6"
      },
      "source": [
        "seq=[(1,2,3),(4,5,6),(7,8,9)]\n",
        "\n",
        "a, b, c= seq\n",
        "j=1\n",
        "for a,b,c in seq:\n",
        "    j=a\n",
        "    x=b\n",
        "    k=c\n",
        "    print(\"j={0},x={1},y={2}\".format(a,b,c))\n",
        "b \n"
      ],
      "execution_count": null,
      "outputs": [
        {
          "output_type": "stream",
          "text": [
            "j=1,x=2,y=3\n",
            "j=4,x=5,y=6\n",
            "j=7,x=8,y=9\n"
          ],
          "name": "stdout"
        },
        {
          "output_type": "execute_result",
          "data": {
            "text/plain": [
              "8"
            ]
          },
          "metadata": {
            "tags": []
          },
          "execution_count": 288
        }
      ]
    },
    {
      "cell_type": "code",
      "metadata": {
        "id": "FfqTnNGoFSQ-",
        "colab": {
          "base_uri": "https://localhost:8080/",
          "height": 34
        },
        "outputId": "b7b217cc-caf8-4495-e9d2-caadd15d0c18"
      },
      "source": [
        "####Contar cuántas veces aparece un elemento en una tupla\n",
        "a=(1,2,2,2,3,3,3)\n",
        "a.count(2)"
      ],
      "execution_count": null,
      "outputs": [
        {
          "output_type": "execute_result",
          "data": {
            "text/plain": [
              "3"
            ]
          },
          "metadata": {
            "tags": []
          },
          "execution_count": 49
        }
      ]
    },
    {
      "cell_type": "markdown",
      "metadata": {
        "id": "c1o1I8ujFSRB"
      },
      "source": [
        "### Slicing\n",
        "En el operador de indice, se introducen valores de inicio y fin de la forma `lista[inicio:fin]`"
      ]
    },
    {
      "cell_type": "code",
      "metadata": {
        "id": "OkwXEVOsFSRC",
        "outputId": "8fe6940e-4ee7-4d69-c005-be3765639990"
      },
      "source": [
        "seq = [7, 2, 3, 7, 5, 6, 0, 1]\n",
        "print(type(seq))\n",
        "seq[1:5]"
      ],
      "execution_count": null,
      "outputs": [
        {
          "output_type": "stream",
          "text": [
            "<class 'list'>\n"
          ],
          "name": "stdout"
        },
        {
          "output_type": "execute_result",
          "data": {
            "text/plain": [
              "[2, 3, 7, 5]"
            ]
          },
          "metadata": {
            "tags": []
          },
          "execution_count": 290
        }
      ]
    },
    {
      "cell_type": "markdown",
      "metadata": {
        "id": "6Dtf1QXmFSRG"
      },
      "source": [
        "Es posible omitir alguno de los indices"
      ]
    },
    {
      "cell_type": "code",
      "metadata": {
        "id": "EmL1xuIwFSRH",
        "outputId": "b90e936f-7e5f-4612-e838-b19421190412"
      },
      "source": [
        "seq[3:]"
      ],
      "execution_count": null,
      "outputs": [
        {
          "output_type": "execute_result",
          "data": {
            "text/plain": [
              "[7, 5, 6, 0, 1]"
            ]
          },
          "metadata": {
            "tags": []
          },
          "execution_count": 291
        }
      ]
    },
    {
      "cell_type": "code",
      "metadata": {
        "id": "stpDD61qFSRM",
        "outputId": "fefd44e2-83a5-4786-c805-acc08a2459f4"
      },
      "source": [
        "seq[:5]"
      ],
      "execution_count": null,
      "outputs": [
        {
          "output_type": "execute_result",
          "data": {
            "text/plain": [
              "[7, 2, 3, 7, 5]"
            ]
          },
          "metadata": {
            "tags": []
          },
          "execution_count": 292
        }
      ]
    },
    {
      "cell_type": "markdown",
      "metadata": {
        "id": "b0MKg1D_FSRQ"
      },
      "source": [
        "Se puede agregar un tercer valor en el índice para indicar saltos"
      ]
    },
    {
      "cell_type": "code",
      "metadata": {
        "id": "F3WFRH-GFSRQ",
        "outputId": "3d7879ed-f24f-4c4f-d2ea-02969b75091b"
      },
      "source": [
        "seq[:8:4]"
      ],
      "execution_count": null,
      "outputs": [
        {
          "output_type": "execute_result",
          "data": {
            "text/plain": [
              "[7, 5]"
            ]
          },
          "metadata": {
            "tags": []
          },
          "execution_count": 293
        }
      ]
    },
    {
      "cell_type": "markdown",
      "metadata": {
        "id": "ZIj1ix5mFSRU"
      },
      "source": [
        "### Ejercicio\n",
        "\n",
        "Modelar un tablero de ajedrez con arreglos, de tal forma que podamos recuperar el color de la casilla dada su posición en 𝑥 y 𝑦."
      ]
    },
    {
      "cell_type": "code",
      "metadata": {
        "id": "1GC6Pzq9FSRV"
      },
      "source": [
        "tablero = []\n",
        "for i in range(8):\n",
        "    tablero.append([])\n",
        "    for j in range(8):\n",
        "        tablero[i].append('Negro' if (i + j) % 2 == 0 else 'Blanco')"
      ],
      "execution_count": null,
      "outputs": []
    },
    {
      "cell_type": "code",
      "metadata": {
        "id": "6XGnMB8OFSRX",
        "outputId": "41db091d-703b-48ba-c2ac-3bebd6227179"
      },
      "source": [
        "tablero = []\n",
        "#tablero.append([])\n",
        "for i in range(8):\n",
        "    tablero.append([])\n",
        "    for j in range(8):\n",
        "        tablero[i].append('Negro' if (i + j) % 2 == 0 else 'Blanco')\n",
        "\n",
        "print(\"Valores del tablero\")\n",
        "print(tablero)\n",
        "\n",
        "print(\"Una fila del tablero\")\n",
        "print(tablero[2])\n",
        "\n",
        "print(\"cuadrado posición 0,0\")\n",
        "print(tablero[0][0])"
      ],
      "execution_count": null,
      "outputs": [
        {
          "output_type": "stream",
          "text": [
            "Valores del tablero\n",
            "[['Negro', 'Blanco', 'Negro', 'Blanco', 'Negro', 'Blanco', 'Negro', 'Blanco'], ['Blanco', 'Negro', 'Blanco', 'Negro', 'Blanco', 'Negro', 'Blanco', 'Negro'], ['Negro', 'Blanco', 'Negro', 'Blanco', 'Negro', 'Blanco', 'Negro', 'Blanco'], ['Blanco', 'Negro', 'Blanco', 'Negro', 'Blanco', 'Negro', 'Blanco', 'Negro'], ['Negro', 'Blanco', 'Negro', 'Blanco', 'Negro', 'Blanco', 'Negro', 'Blanco'], ['Blanco', 'Negro', 'Blanco', 'Negro', 'Blanco', 'Negro', 'Blanco', 'Negro'], ['Negro', 'Blanco', 'Negro', 'Blanco', 'Negro', 'Blanco', 'Negro', 'Blanco'], ['Blanco', 'Negro', 'Blanco', 'Negro', 'Blanco', 'Negro', 'Blanco', 'Negro']]\n",
            "Una fila del tablero\n",
            "['Negro', 'Blanco', 'Negro', 'Blanco', 'Negro', 'Blanco', 'Negro', 'Blanco']\n",
            "cuadrado posición 0,0\n",
            "Negro\n"
          ],
          "name": "stdout"
        }
      ]
    },
    {
      "cell_type": "markdown",
      "metadata": {
        "id": "KYj7Dej5FSRb"
      },
      "source": [
        "### Ejercicio\n",
        "\n",
        "Usando comprensión de listas modelar una baraja de cartas, donde cada una de las cartas se escriba con una tupla. Asuma que J = 10, Q = 11 y K = 12. "
      ]
    },
    {
      "cell_type": "code",
      "metadata": {
        "id": "wgJb42FVFSRc",
        "outputId": "62d79ded-c28e-4cf7-a86b-0f417052e10a"
      },
      "source": [
        "### Ordenar listas\n",
        "\n",
        "a = [7,5,3,1,9,3]\n",
        "a.sort()\n",
        "print(a)\n",
        "\n",
        "### Ordenar descendente\n",
        "\n",
        "a.reverse()\n",
        "print(a)\n",
        "\n",
        "\n",
        "### Ordenar por tamaño de string\n",
        "b = [\"dddd\",\"a\",\"eeeee\",\"ccc\",\"bb\"]\n",
        "b.sort(key=len)\n",
        "print(b)\n"
      ],
      "execution_count": null,
      "outputs": [
        {
          "output_type": "stream",
          "text": [
            "[1, 3, 3, 5, 7, 9]\n",
            "[9, 7, 5, 3, 3, 1]\n",
            "['a', 'bb', 'ccc', 'dddd', 'eeeee']\n"
          ],
          "name": "stdout"
        }
      ]
    },
    {
      "cell_type": "code",
      "metadata": {
        "id": "4BicwyECFSRh",
        "outputId": "8404fc2c-e60b-4520-8d8d-28f6854cd8fa"
      },
      "source": [
        "### Implementación y búsqueda de inserción binaria. Sólo funciona para listas ordenadas.\n",
        "import bisect\n",
        "\n",
        "c=[1,2,2,2,5,8,10]\n",
        "\n",
        "bisect.bisect(c,6)\n",
        "bisect.insort(c,6)\n",
        "print(c)\n"
      ],
      "execution_count": null,
      "outputs": [
        {
          "output_type": "stream",
          "text": [
            "[1, 2, 2, 2, 5, 6, 8, 10]\n"
          ],
          "name": "stdout"
        }
      ]
    },
    {
      "cell_type": "code",
      "metadata": {
        "scrolled": true,
        "id": "HbrfLb12FSRk",
        "outputId": "07825d29-7daa-4834-9a5b-f7f3513fadeb"
      },
      "source": [
        "### Enumerar listas\n",
        "\n",
        "y = [\"a\",\"b\",\"c\",\"d\",\"e\",\"f\"]\n",
        "\n",
        "i=0\n",
        "\n",
        "print(\"Solo utilizando valores\")\n",
        "for valor in y:\n",
        "    print(\"la letra {0:s} está en la posición {1:d}\".format(valor,i))\n",
        "    i+=1\n",
        "\n",
        "print(\"Utilizando enumerate\")\n",
        "for i,valor in enumerate(y):\n",
        "    print(\"la letra {0:s} está en la posición {1:d}\".format(valor,i))"
      ],
      "execution_count": null,
      "outputs": [
        {
          "output_type": "stream",
          "text": [
            "Solo utilizando valores\n",
            "la letra a está en la posición 0\n",
            "la letra b está en la posición 1\n",
            "la letra c está en la posición 2\n",
            "la letra d está en la posición 3\n",
            "la letra e está en la posición 4\n",
            "la letra f está en la posición 5\n",
            "Utilizando enumerate\n",
            "la letra a está en la posición 0\n",
            "la letra b está en la posición 1\n",
            "la letra c está en la posición 2\n",
            "la letra d está en la posición 3\n",
            "la letra e está en la posición 4\n",
            "la letra f está en la posición 5\n"
          ],
          "name": "stdout"
        }
      ]
    },
    {
      "cell_type": "code",
      "metadata": {
        "id": "NA4KxVdSFSRo",
        "outputId": "e779b10e-d7c0-4973-bfaf-90190205709b"
      },
      "source": [
        "### ordenar los valores de un objeto\n",
        "print(sorted((1,4,8,2)))\n",
        "print(sorted([5,7,1,-5]))\n",
        "print(sorted('buenas tardes'))"
      ],
      "execution_count": null,
      "outputs": [
        {
          "output_type": "stream",
          "text": [
            "[1, 2, 4, 8]\n",
            "[-5, 1, 5, 7]\n",
            "[' ', 'a', 'a', 'b', 'd', 'e', 'e', 'n', 'r', 's', 's', 't', 'u']\n"
          ],
          "name": "stdout"
        }
      ]
    },
    {
      "cell_type": "code",
      "metadata": {
        "id": "9CyCvAqKFSRq",
        "outputId": "e13da4cc-7775-45e1-dd23-f7371565adb9"
      },
      "source": [
        "## emparejar listas\n",
        "seq1 = [\"uno\",\"dos\",\"tres\"]\n",
        "seq2 = [1,4,9]\n",
        "seq=zip(seq1,seq2)\n",
        "print(seq)\n",
        "print(type(seq))\n",
        "print(list(seq))\n"
      ],
      "execution_count": null,
      "outputs": [
        {
          "output_type": "stream",
          "text": [
            "<zip object at 0x00855AD0>\n",
            "<class 'zip'>\n",
            "[('uno', 1), ('dos', 4), ('tres', 9)]\n"
          ],
          "name": "stdout"
        }
      ]
    },
    {
      "cell_type": "code",
      "metadata": {
        "id": "hi-qDBFhFSRt",
        "outputId": "c0f76ec1-5d41-4614-abf2-14a36bc597f3"
      },
      "source": [
        "## desemparejar listas\n",
        "seq1 = [\"uno\",\"dos\",\"tres\"]\n",
        "seq2 = [1,4,9]\n",
        "seq=list(zip(seq1,seq2))\n",
        "print(seq)\n",
        "\n",
        "rseq1,rseq2 =zip(*seq)\n",
        "print(rseq1)\n",
        "\n",
        "\n",
        "#rseq1,rseq2=zip(*seq)"
      ],
      "execution_count": null,
      "outputs": [
        {
          "output_type": "stream",
          "text": [
            "[('uno', 1), ('dos', 4), ('tres', 9)]\n",
            "('uno', 'dos', 'tres')\n"
          ],
          "name": "stdout"
        }
      ]
    },
    {
      "cell_type": "code",
      "metadata": {
        "id": "BJsK3ukgFSRx",
        "outputId": "29492b73-2c86-41cd-f6a0-10034e66f197"
      },
      "source": [
        "seq1 = ['uno', 'dos', 'tres']\n",
        "seq2 = ['a', 'be', 'ce']\n",
        "for i, (a, b) in enumerate(zip(seq1, seq2)):\n",
        "    print('i={0} a={1} b={2}'.format(i, a, b))\n"
      ],
      "execution_count": null,
      "outputs": [
        {
          "output_type": "stream",
          "text": [
            "i=0 a=uno b=a\n",
            "i=1 a=dos b=be\n",
            "i=2 a=tres b=ce\n"
          ],
          "name": "stdout"
        }
      ]
    },
    {
      "cell_type": "markdown",
      "metadata": {
        "id": "nWBWQgvdFSR0"
      },
      "source": [
        "## Diccionarios\n",
        "Los diccionarios con la implementación de Python de Hash maps. Es una de las estructuras de datos más importantes.\n",
        "Es una colección de tamaño flñexible de parejas llave:valor, donde ambas son objetos de Python.\n",
        "Pueden ser creados con \"{}\" o con la función `dict`"
      ]
    },
    {
      "cell_type": "code",
      "metadata": {
        "id": "8rKLwKR0FSR1"
      },
      "source": [
        "diccionario = dict()\n",
        "d1 = {'a': 'un valor', 'b': 'otro valor'}"
      ],
      "execution_count": null,
      "outputs": []
    },
    {
      "cell_type": "markdown",
      "metadata": {
        "id": "7Vt1PUD8FSR5"
      },
      "source": [
        "Se pueden acceder o insertar elementos usando la misma sintaxis que las listas."
      ]
    },
    {
      "cell_type": "code",
      "metadata": {
        "scrolled": true,
        "id": "4CM2pZoKFSR6",
        "colab": {
          "base_uri": "https://localhost:8080/",
          "height": 102
        },
        "outputId": "98f2561d-f1ba-4caf-fa14-c486ac2fd4b5"
      },
      "source": [
        "d1['c'] = 'todavía otra'\n",
        "print(d1['c'])\n",
        "print(d1)\n",
        "\n",
        "d1[7]=\"Un entero\"\n",
        "print(d1)\n",
        "\n",
        "#d1['b']\n",
        "\n",
        "#Se puede indagar si una llave está en un diccionario\n",
        "\n",
        "print(\"a\" in d1)\n",
        "\n",
        "print(\"w\" in d1)\n"
      ],
      "execution_count": null,
      "outputs": [
        {
          "output_type": "stream",
          "text": [
            "todavía otra\n",
            "{'a': 'un valor', 'b': 'otro valor', 'c': 'todavía otra'}\n",
            "{'a': 'un valor', 'b': 'otro valor', 'c': 'todavía otra', 7: 'Un entero'}\n",
            "True\n",
            "False\n"
          ],
          "name": "stdout"
        }
      ]
    },
    {
      "cell_type": "markdown",
      "metadata": {
        "id": "0XeX2B8dFSR8"
      },
      "source": [
        "Es posible pedir una lista con las llaves o los valores del diccionario. Las listas retornadas por ambos tienen el mismo orden."
      ]
    },
    {
      "cell_type": "code",
      "metadata": {
        "id": "bD6S1lQ7FSR9",
        "colab": {
          "base_uri": "https://localhost:8080/",
          "height": 34
        },
        "outputId": "58073c2e-7441-41fa-a4fd-bc92ba4d4ad0"
      },
      "source": [
        "d1.keys()"
      ],
      "execution_count": null,
      "outputs": [
        {
          "output_type": "execute_result",
          "data": {
            "text/plain": [
              "dict_keys(['a', 'b', 'c', 7])"
            ]
          },
          "metadata": {
            "tags": []
          },
          "execution_count": 54
        }
      ]
    },
    {
      "cell_type": "code",
      "metadata": {
        "id": "qS4M4V05FSSA",
        "outputId": "ace2966c-62ee-4a77-d1fa-42fd9e8d540d"
      },
      "source": [
        "d1.values()"
      ],
      "execution_count": null,
      "outputs": [
        {
          "output_type": "execute_result",
          "data": {
            "text/plain": [
              "dict_values(['un valor', 'otro valor', 'todavía otra', 'Un entero'])"
            ]
          },
          "metadata": {
            "tags": []
          },
          "execution_count": 306
        }
      ]
    },
    {
      "cell_type": "code",
      "metadata": {
        "id": "-WBIttMFFSSF",
        "colab": {
          "base_uri": "https://localhost:8080/",
          "height": 266
        },
        "outputId": "d791cc5f-5fec-44e8-a562-840b0d6c86cc"
      },
      "source": [
        "#Borrar valores\n",
        "print(d1)\n",
        "del d1[\"c\"]\n",
        "print(d1)\n",
        "\n",
        "d1.pop(\"b\")\n",
        "print(type(a_borrar))\n",
        "print(d1)\n",
        "\n",
        "\n",
        "\n"
      ],
      "execution_count": null,
      "outputs": [
        {
          "output_type": "stream",
          "text": [
            "{'a': 'un valor', 'b': 'otro valor', 'c': 'todavía otra', 7: 'Un entero'}\n",
            "{'a': 'un valor', 'b': 'otro valor', 7: 'Un entero'}\n"
          ],
          "name": "stdout"
        },
        {
          "output_type": "error",
          "ename": "NameError",
          "evalue": "ignored",
          "traceback": [
            "\u001b[0;31m---------------------------------------------------------------------------\u001b[0m",
            "\u001b[0;31mNameError\u001b[0m                                 Traceback (most recent call last)",
            "\u001b[0;32m<ipython-input-55-066e6b151dde>\u001b[0m in \u001b[0;36m<module>\u001b[0;34m()\u001b[0m\n\u001b[1;32m      4\u001b[0m \u001b[0;34m\u001b[0m\u001b[0m\n\u001b[1;32m      5\u001b[0m \u001b[0md1\u001b[0m\u001b[0;34m.\u001b[0m\u001b[0mpop\u001b[0m\u001b[0;34m(\u001b[0m\u001b[0;34m\"b\"\u001b[0m\u001b[0;34m)\u001b[0m\u001b[0;34m\u001b[0m\u001b[0;34m\u001b[0m\u001b[0m\n\u001b[0;32m----> 6\u001b[0;31m \u001b[0mprint\u001b[0m\u001b[0;34m(\u001b[0m\u001b[0mtype\u001b[0m\u001b[0;34m(\u001b[0m\u001b[0ma_borrar\u001b[0m\u001b[0;34m)\u001b[0m\u001b[0;34m)\u001b[0m\u001b[0;34m\u001b[0m\u001b[0;34m\u001b[0m\u001b[0m\n\u001b[0m\u001b[1;32m      7\u001b[0m \u001b[0mprint\u001b[0m\u001b[0;34m(\u001b[0m\u001b[0md1\u001b[0m\u001b[0;34m)\u001b[0m\u001b[0;34m\u001b[0m\u001b[0;34m\u001b[0m\u001b[0m\n\u001b[1;32m      8\u001b[0m \u001b[0;34m\u001b[0m\u001b[0m\n",
            "\u001b[0;31mNameError\u001b[0m: name 'a_borrar' is not defined"
          ]
        }
      ]
    },
    {
      "cell_type": "markdown",
      "metadata": {
        "id": "ks2sX1OVFSSI"
      },
      "source": [
        "Es posible \"concatenar\" diccionarios en con la función `update`"
      ]
    },
    {
      "cell_type": "code",
      "metadata": {
        "id": "HwUFnvdGFSSJ"
      },
      "source": [
        "diccionario.update(d1)"
      ],
      "execution_count": null,
      "outputs": []
    },
    {
      "cell_type": "code",
      "metadata": {
        "id": "zXqUrJ8cFSSM",
        "colab": {
          "base_uri": "https://localhost:8080/",
          "height": 34
        },
        "outputId": "67457eb8-f9e4-4918-e925-7b653a33679c"
      },
      "source": [
        "#### Unión de diccionarios\n",
        "\n",
        "d1.update({\"q\":\"otro valor\",\"m\":\"otro más\"})\n",
        "d1\n"
      ],
      "execution_count": null,
      "outputs": [
        {
          "output_type": "execute_result",
          "data": {
            "text/plain": [
              "{7: 'Un entero', 'a': 'un valor', 'm': 'otro más', 'q': 'otro valor'}"
            ]
          },
          "metadata": {
            "tags": []
          },
          "execution_count": 57
        }
      ]
    },
    {
      "cell_type": "markdown",
      "metadata": {
        "id": "uySoVEJDFSSR"
      },
      "source": [
        "## Mapear valores a un diccionario"
      ]
    },
    {
      "cell_type": "code",
      "metadata": {
        "id": "QKuvkxPAFSST",
        "colab": {
          "base_uri": "https://localhost:8080/",
          "height": 51
        },
        "outputId": "bec88ffa-ddfc-4df2-86ec-6a00cc7f44ba"
      },
      "source": [
        "una_lista = ['Andres', 'Beatriz', 'Carlos']\n",
        "mapping = {}\n",
        "print(type(mapping))\n",
        "for indice, valor in enumerate(una_lista):\n",
        "    mapping[str(indice)] = valor\n",
        "\n",
        "print(mapping)"
      ],
      "execution_count": null,
      "outputs": [
        {
          "output_type": "stream",
          "text": [
            "<class 'dict'>\n",
            "{'0': 'Andres', '1': 'Beatriz', '2': 'Carlos'}\n"
          ],
          "name": "stdout"
        }
      ]
    },
    {
      "cell_type": "code",
      "metadata": {
        "id": "d1Gv0U9GFSSV",
        "outputId": "a04ff2af-3572-4094-e528-99d3511a92c2"
      },
      "source": [
        "#### Diccionarios de secuencias\n",
        "\n",
        "lista_llaves = ['llave1','llave2','llave3']\n",
        "lista_valores = ['valor1','valor2','valor3']\n",
        "mapping = {}\n",
        "for llave, valor in zip(lista_llaves, lista_valores):\n",
        "    mapping[llave] = valor\n",
        "print(\"imprimiendo mapping\",mapping)\n",
        "\n",
        "\n",
        "mapping_2 =dict(zip(lista_llaves,lista_valores))\n",
        "print(\"imprimiendo mapping_2 \",mapping_2)"
      ],
      "execution_count": null,
      "outputs": [
        {
          "output_type": "stream",
          "text": [
            "imprimiendo mapping {'llave1': 'valor1', 'llave2': 'valor2', 'llave3': 'valor3'}\n",
            "imprimiendo mapping_2  {'llave1': 'valor1', 'llave2': 'valor2', 'llave3': 'valor3'}\n"
          ],
          "name": "stdout"
        }
      ]
    },
    {
      "cell_type": "markdown",
      "metadata": {
        "id": "cg3sihGMFSSY"
      },
      "source": [
        "Valores por defecto"
      ]
    },
    {
      "cell_type": "code",
      "metadata": {
        "id": "BHebWth5FSSZ",
        "outputId": "d5471d9c-3177-4333-b30d-b8ffa47bfa32"
      },
      "source": [
        "palabras = ['amarillo', 'bate', 'bosque', 'ahorro', 'burro']\n",
        "por_letra_v2 = {}\n",
        "for palabra in palabras:\n",
        "    inicial = palabra[0]\n",
        "    por_letra_v2.setdefault(inicial, []).append(palabra)\n",
        "    \n",
        "print(por_letra_v2)\n",
        "print(por_letra_v2[\"a\"])\n"
      ],
      "execution_count": null,
      "outputs": [
        {
          "output_type": "stream",
          "text": [
            "{'a': ['amarillo', 'ahorro'], 'b': ['bate', 'bosque', 'burro']}\n",
            "['amarillo', 'ahorro']\n"
          ],
          "name": "stdout"
        }
      ]
    },
    {
      "cell_type": "markdown",
      "metadata": {
        "id": "EWvw4lhSFSSf"
      },
      "source": [
        "## Conjuntos\n",
        "Los conjuntos son colecciones sin orden y elementos únicos, se declara de forma similar a los diccionarios con \"{}\" o con la función `set`.  \n",
        "Soportan operaciones de conjuntos como unión, intersección, diferencia y diferencia simétrica."
      ]
    },
    {
      "cell_type": "code",
      "metadata": {
        "id": "1XoGaPj_FSSg",
        "outputId": "47ab9237-2555-4678-bdac-905a73beeb69"
      },
      "source": [
        "m={1,2,3}\n",
        "m\n",
        "print(type(m))\n",
        "\n",
        "n=set([3,4,5])\n",
        "print(type(n))\n",
        "\n",
        "### Unión de conjuntos\n",
        "print(\"Union \",m.union(n))\n",
        "\n",
        "### Intersección\n",
        "print(\"Intersección \",m.intersection(n))\n",
        "\n",
        "### diferencia\n",
        "print(m-n)\n"
      ],
      "execution_count": null,
      "outputs": [
        {
          "output_type": "stream",
          "text": [
            "<class 'set'>\n",
            "<class 'set'>\n",
            "Union  {1, 2, 3, 4, 5}\n",
            "Intersección  {3}\n",
            "{1, 2}\n"
          ],
          "name": "stdout"
        }
      ]
    },
    {
      "cell_type": "markdown",
      "metadata": {
        "id": "2jSj64SOFSSj"
      },
      "source": [
        "## Creación de objetos por comprensión"
      ]
    },
    {
      "cell_type": "code",
      "metadata": {
        "id": "jz2QlFwTFSSk",
        "outputId": "ecc13520-01db-4f47-bdbf-fe9e39505d37"
      },
      "source": [
        "strings = ['a', 'as', 'bat', 'car', 'dove', 'python']\n",
        "\n",
        "[x.upper() for x in strings if len(x) > 2]"
      ],
      "execution_count": null,
      "outputs": [
        {
          "output_type": "execute_result",
          "data": {
            "text/plain": [
              "['BAT', 'CAR', 'DOVE', 'PYTHON']"
            ]
          },
          "metadata": {
            "tags": []
          },
          "execution_count": 314
        }
      ]
    },
    {
      "cell_type": "code",
      "metadata": {
        "id": "lI48HcKiFSSm",
        "outputId": "52548ecc-b4c9-4a72-a0cd-90b3170b8a68"
      },
      "source": [
        "#### Creación de una lista por comprensión\n",
        "list_Com=[]\n",
        "[list_Com.append(val) for val in strings]\n",
        "print(list_Com)"
      ],
      "execution_count": null,
      "outputs": [
        {
          "output_type": "stream",
          "text": [
            "['a', 'as', 'bat', 'car', 'dove', 'python']\n"
          ],
          "name": "stdout"
        }
      ]
    },
    {
      "cell_type": "code",
      "metadata": {
        "id": "XIoIw1K3FSSp",
        "outputId": "c6e5e531-63d4-4677-cce9-5d6e9f3f14b6"
      },
      "source": [
        "### Creación de un conjunto con la cantidad de caracteres de los elementos de una lista\n",
        "long_unicas = {len(x) for x in strings}\n",
        "print(long_unicas)"
      ],
      "execution_count": null,
      "outputs": [
        {
          "output_type": "stream",
          "text": [
            "{1, 2, 3, 4, 6}\n"
          ],
          "name": "stdout"
        }
      ]
    },
    {
      "cell_type": "code",
      "metadata": {
        "id": "JPPW8K5jFSSs",
        "outputId": "5153febf-5955-4f1e-d997-c0d626760c1e"
      },
      "source": [
        "### Creación de un diccionario por comprensión\n",
        "\n",
        "loc_mapping = {val : index for index, val in enumerate(strings)}\n",
        "print(loc_mapping)\n"
      ],
      "execution_count": null,
      "outputs": [
        {
          "output_type": "stream",
          "text": [
            "{'a': 0, 'as': 1, 'bat': 2, 'car': 3, 'dove': 4, 'python': 5}\n"
          ],
          "name": "stdout"
        }
      ]
    }
  ]
}