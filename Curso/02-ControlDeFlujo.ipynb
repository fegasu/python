{
 "cells": [
  {
   "cell_type": "markdown",
   "metadata": {},
   "source": [
    "# Control de Flujo"
   ]
  },
  {
   "cell_type": "markdown",
   "metadata": {},
   "source": [
    "Al igual que otros lenguajes python posee la capacidad de controlar el flujo de ejecución del programa."
   ]
  },
  {
   "cell_type": "markdown",
   "metadata": {},
   "source": [
    "## `if`, `elif` & `else`\n",
    "la declaración `if` evalua una condición; en caso de evaluar `True`, se ejecuta el código en el bloque indentado."
   ]
  },
  {
   "cell_type": "code",
   "execution_count": null,
   "metadata": {},
   "outputs": [],
   "source": [
    "if True:\n",
    "    print('Solo True')\n",
    "\n",
    "if False: # Este bloque no va a ejecutarse\n",
    "    print('Solo False')"
   ]
  },
  {
   "cell_type": "markdown",
   "metadata": {},
   "source": [
    "Una declaración `if` puede tener uno o más bloques `elif`.  \n",
    "Cada uno de estos bloques son ejecutados en orden; si alguna de las expresiones es `True` el bloque indentado es ejecutado y se detiene la ejecución del `if`.  \n",
    "También es posible tener un bloque `else` que se ejecuta en caso que ninguna de las condiciones previas sean `True`."
   ]
  },
  {
   "cell_type": "code",
   "execution_count": null,
   "metadata": {},
   "outputs": [],
   "source": [
    "x = 3\n",
    "\n",
    "if x < 0:\n",
    "    print('x es negativo')\n",
    "elif x == 0:\n",
    "    print('x es cero')\n",
    "elif x < 5:\n",
    "    print('x es un positivo menor a 5')\n",
    "else:\n",
    "    print('x es un positivo mayor o igual a cinco')"
   ]
  },
  {
   "cell_type": "markdown",
   "metadata": {},
   "source": [
    "En el caso de tener una condición compuesta `and` o `or`, las condiciones se evalúan de izquierda a derecha y pueden hacer corto circuito."
   ]
  },
  {
   "cell_type": "code",
   "execution_count": null,
   "metadata": {},
   "outputs": [],
   "source": [
    "a = 5; b = 7;\n",
    "c = 8; d = 4;\n",
    "\n",
    "if a < b or c > d: # c>d no se evalúa\n",
    "    print('Se cumple la condición')"
   ]
  },
  {
   "cell_type": "markdown",
   "metadata": {},
   "source": [
    "### Ejercicio\n",
    "\n",
    "Cree una declaración que permita encontrar el valor absoluto de un número"
   ]
  },
  {
   "cell_type": "code",
   "execution_count": null,
   "metadata": {},
   "outputs": [],
   "source": []
  },
  {
   "cell_type": "markdown",
   "metadata": {},
   "source": [
    "## Ciclos `for`\n",
    "Los ciclos permiten ejecutar un fragmento de codigo de forma repetitiva, especificamente recorrer un rango númerico o una lista"
   ]
  },
  {
   "cell_type": "code",
   "execution_count": null,
   "metadata": {},
   "outputs": [],
   "source": [
    "c = [1, 2, 3, 4]\n",
    "\n",
    "for valor in c:\n",
    "    print('Imprimendo el valor {0:d}'.format(valor))"
   ]
  },
  {
   "cell_type": "markdown",
   "metadata": {},
   "source": [
    "Es posible continuar terminar la iteración actual con la palabra `continue`"
   ]
  },
  {
   "cell_type": "code",
   "execution_count": null,
   "metadata": {},
   "outputs": [],
   "source": [
    "coleccion = [1,2,None,3,None,4]\n",
    "total = 0\n",
    "\n",
    "for valor in coleccion:\n",
    "    if valor is None:\n",
    "        continue\n",
    "    total += valor\n",
    "\n",
    "print('El total es {0:d}'.format(total))"
   ]
  },
  {
   "cell_type": "markdown",
   "metadata": {},
   "source": [
    "De igual forma la palabra `break` rompe (termina) la ejecución del ciclo."
   ]
  },
  {
   "cell_type": "code",
   "execution_count": null,
   "metadata": {},
   "outputs": [],
   "source": [
    "coleccion = [1,2,9,3,8,6,9,4]\n",
    "total_hasta_8 = 0\n",
    "\n",
    "for valor in coleccion:\n",
    "    if valor == 8:\n",
    "        break\n",
    "    total_hasta_8 += valor\n",
    "\n",
    "print('El total hasta el valor 8 es {0:d}'.format(total_hasta_8))"
   ]
  },
  {
   "cell_type": "markdown",
   "metadata": {},
   "source": [
    "Es importante tener en cuenta que `break` solo interrumpe el ciclo del bloque en el que está."
   ]
  },
  {
   "cell_type": "code",
   "execution_count": null,
   "metadata": {},
   "outputs": [],
   "source": [
    "for i in range(4):\n",
    "    for j in range(4):\n",
    "        if j > i:\n",
    "            break\n",
    "        print((i,j))"
   ]
  },
  {
   "cell_type": "markdown",
   "metadata": {},
   "source": [
    "### Ejercicio 1\n",
    "\n",
    "Haga un ciclo que imprima los números impares del 1 al 50. Bonificación si no usa una declaración `if`."
   ]
  },
  {
   "cell_type": "code",
   "execution_count": null,
   "metadata": {},
   "outputs": [],
   "source": []
  },
  {
   "cell_type": "markdown",
   "metadata": {},
   "source": [
    "### Ejercicio 2\n",
    "\n",
    "Plantear un ejercicio que cumpla las siguientes condiciones:\n",
    "* Uso de ciclos anidados (dos ciclos)\n",
    "* Uso de anomalo del ciclo (break, continue)\n",
    "* Un condicional (if/else)"
   ]
  },
  {
   "cell_type": "markdown",
   "metadata": {},
   "source": [
    "#### Ejercicio propuesto y solución:\n",
    "\n"
   ]
  },
  {
   "cell_type": "code",
   "execution_count": null,
   "metadata": {},
   "outputs": [],
   "source": []
  },
  {
   "cell_type": "markdown",
   "metadata": {},
   "source": [
    "## Ciclos `while`\n",
    "Los ciclos `while` se ejecutan hasta que la condición del ciclo sea `False`."
   ]
  },
  {
   "cell_type": "code",
   "execution_count": null,
   "metadata": {},
   "outputs": [],
   "source": [
    "x = 256\n",
    "total = 0\n",
    "\n",
    "while x > 0:\n",
    "    if total > 500:\n",
    "        break\n",
    "    total += x\n",
    "    x = x//2\n",
    "\n",
    "print(total)"
   ]
  },
  {
   "cell_type": "markdown",
   "metadata": {},
   "source": [
    "### Ejercicio\n",
    "\n",
    "Escriba un código que permita calcular los primos de un número entero positivo usando un `while`."
   ]
  },
  {
   "cell_type": "code",
   "execution_count": null,
   "metadata": {},
   "outputs": [],
   "source": []
  },
  {
   "cell_type": "markdown",
   "metadata": {},
   "source": [
    "## Utilidades"
   ]
  },
  {
   "cell_type": "markdown",
   "metadata": {},
   "source": [
    "### palabra `pass`\n",
    "Esta palabra indica que no se realiza ninguna operación"
   ]
  },
  {
   "cell_type": "code",
   "execution_count": null,
   "metadata": {},
   "outputs": [],
   "source": [
    "if True:\n",
    "    pass    # No se ejecuta nada"
   ]
  },
  {
   "cell_type": "markdown",
   "metadata": {},
   "source": [
    "### Función `range`\n",
    "La función `range` retorna un iterador que tiene una secuencia de enteros igualmente espaciados."
   ]
  },
  {
   "cell_type": "code",
   "execution_count": null,
   "metadata": {},
   "outputs": [],
   "source": [
    "range(10)\n",
    "range(0,10)\n",
    "range(0,10, 2)"
   ]
  },
  {
   "cell_type": "markdown",
   "metadata": {},
   "source": [
    "## Expresiones Ternarias\n",
    "Estas expresiones resumen una expresión `if/else` a una sola linea"
   ]
  },
  {
   "cell_type": "markdown",
   "metadata": {},
   "source": [
    "### Bloque `if/else`\n",
    "\n",
    "```python\n",
    "if condición:\n",
    "    expresión True\n",
    "else:\n",
    "    expresión false\n",
    "```\n",
    "\n",
    "### Expresión Ternaria\n",
    "\n",
    "```python\n",
    "expresión True if condición else expresión False\n",
    "```"
   ]
  },
  {
   "cell_type": "code",
   "execution_count": null,
   "metadata": {},
   "outputs": [],
   "source": [
    "x = 10\n",
    "'Positivo' if x > 0 else 'Negativo o cero'"
   ]
  },
  {
   "cell_type": "markdown",
   "metadata": {},
   "source": [
    "### Ejercicio\n",
    "\n",
    "Escribir a través de una expresión terniaria un código que permita calcular el valor absoluto de un número "
   ]
  },
  {
   "cell_type": "code",
   "execution_count": null,
   "metadata": {},
   "outputs": [],
   "source": []
  }
 ],
 "metadata": {
  "kernelspec": {
   "display_name": "Python 3",
   "language": "python",
   "name": "python3"
  },
  "language_info": {
   "codemirror_mode": {
    "name": "ipython",
    "version": 3
   },
   "file_extension": ".py",
   "mimetype": "text/x-python",
   "name": "python",
   "nbconvert_exporter": "python",
   "pygments_lexer": "ipython3",
   "version": "3.7.3"
  },
  "toc": {
   "base_numbering": 1,
   "nav_menu": {},
   "number_sections": false,
   "sideBar": true,
   "skip_h1_title": false,
   "title_cell": "Table of Contents",
   "title_sidebar": "Contents",
   "toc_cell": false,
   "toc_position": {},
   "toc_section_display": true,
   "toc_window_display": false
  }
 },
 "nbformat": 4,
 "nbformat_minor": 2
}
