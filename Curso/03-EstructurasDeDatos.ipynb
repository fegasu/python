{
 "cells": [
  {
   "cell_type": "markdown",
   "metadata": {},
   "source": [
    "# Estructuras de Datos"
   ]
  },
  {
   "cell_type": "markdown",
   "metadata": {},
   "source": [
    "## Tuplas\n",
    "Son secuencias ordenadas de tamaño fijo e inmutables"
   ]
  },
  {
   "cell_type": "code",
   "execution_count": 273,
   "metadata": {},
   "outputs": [
    {
     "name": "stdout",
     "output_type": "stream",
     "text": [
      "(4, 5, 6)\n",
      "<class 'tuple'>\n",
      "(1, 2, 3)\n",
      "<class 'tuple'>\n",
      "((4, 5, 6), (1, 2, 3))\n",
      "<class 'tuple'>\n",
      "(1, 2, 3)\n"
     ]
    }
   ],
   "source": [
    "tupla = 4, 5, 6\n",
    "print(tupla)\n",
    "print(type(tupla))\n",
    "\n",
    "tupla2=(1,2,3)\n",
    "print(tupla2)\n",
    "print(type(tupla2))\n",
    "# Pueden ser anidadas de la siguiente forma\n",
    "tupla_anidada = tupla, tupla2\n",
    "print(tupla_anidada)\n",
    "print(type(tupla_anidada))\n",
    "print(tupla_anidada[1])"
   ]
  },
  {
   "cell_type": "markdown",
   "metadata": {},
   "source": [
    "Es posible convertir una secuencia o iterador en una tupla."
   ]
  },
  {
   "cell_type": "code",
   "execution_count": 274,
   "metadata": {},
   "outputs": [
    {
     "name": "stdout",
     "output_type": "stream",
     "text": [
      "<class 'list'>\n",
      "('s', 't', 'r', 'i', 'n', 'g')\n"
     ]
    }
   ],
   "source": [
    "x=[4,0,2]\n",
    "print(type(x))\n",
    "\n",
    "\n",
    "tupla2 = tuple([4, 0, 2])\n",
    "tupla3 = tuple(\"string\")\n",
    "print(tupla3)"
   ]
  },
  {
   "cell_type": "markdown",
   "metadata": {},
   "source": [
    "Para consultar los elmentos de la tupla se usan corchetes cuadrados \"_[ ]_\"."
   ]
  },
  {
   "cell_type": "code",
   "execution_count": 275,
   "metadata": {},
   "outputs": [
    {
     "name": "stdout",
     "output_type": "stream",
     "text": [
      "s\n"
     ]
    },
    {
     "data": {
      "text/plain": [
       "'i'"
      ]
     },
     "execution_count": 275,
     "metadata": {},
     "output_type": "execute_result"
    }
   ],
   "source": [
    "print(tupla3[0])\n",
    "tupla3[1]\n",
    "tupla3[2]\n",
    "tupla3[3]"
   ]
  },
  {
   "cell_type": "markdown",
   "metadata": {},
   "source": [
    "Es posible concatenar tuplas con el operador `+`"
   ]
  },
  {
   "cell_type": "code",
   "execution_count": 276,
   "metadata": {},
   "outputs": [
    {
     "data": {
      "text/plain": [
       "5"
      ]
     },
     "execution_count": 276,
     "metadata": {},
     "output_type": "execute_result"
    }
   ],
   "source": [
    "w=(1, 2, 3) + (4, 5, 6)\n",
    "w\n",
    "type(w[4])\n",
    "w[4]\n",
    "\n"
   ]
  },
  {
   "cell_type": "markdown",
   "metadata": {},
   "source": [
    "De forma antiintuitiva también es posible multiplicar tuplas por números enteros"
   ]
  },
  {
   "cell_type": "code",
   "execution_count": 277,
   "metadata": {},
   "outputs": [
    {
     "name": "stdout",
     "output_type": "stream",
     "text": [
      "(1, 2, 3, 1, 2, 3)\n"
     ]
    },
    {
     "data": {
      "text/plain": [
       "tuple"
      ]
     },
     "execution_count": 277,
     "metadata": {},
     "output_type": "execute_result"
    }
   ],
   "source": [
    "w=(1, 2, 3) * 2\n",
    "print(w)\n",
    "type(w)"
   ]
  },
  {
   "cell_type": "markdown",
   "metadata": {},
   "source": [
    "\"_Desempacar una tupla_\" es una forma en la cual se asignan los elementos de una tupla a una variable"
   ]
  },
  {
   "cell_type": "code",
   "execution_count": 278,
   "metadata": {},
   "outputs": [
    {
     "name": "stdout",
     "output_type": "stream",
     "text": [
      "2\n"
     ]
    },
    {
     "data": {
      "text/plain": [
       "int"
      ]
     },
     "execution_count": 278,
     "metadata": {},
     "output_type": "execute_result"
    }
   ],
   "source": [
    "tupla = (1, 2, 3)\n",
    "x, y,r = tupla\n",
    "print(y)\n",
    "type(y)"
   ]
  },
  {
   "cell_type": "markdown",
   "metadata": {},
   "source": [
    "Usando este proceso para intercambiar nombres de variables"
   ]
  },
  {
   "cell_type": "code",
   "execution_count": 279,
   "metadata": {},
   "outputs": [
    {
     "name": "stdout",
     "output_type": "stream",
     "text": [
      "10\n"
     ]
    }
   ],
   "source": [
    "a, b = 10, 5\n",
    "b, a = a, b\n",
    "r = 10,5\n",
    "type(r)\n",
    "print(b)\n"
   ]
  },
  {
   "cell_type": "markdown",
   "metadata": {},
   "source": [
    "\"_Plucking_\" es una forma alternativa de desempaquetamiento en la que solo se toman los primeros elementos de la tupla.  \n",
    "Por convención, las variables no deseadas se marcan con \"\\_\", esto no significa que la variable no exista."
   ]
  },
  {
   "cell_type": "code",
   "execution_count": 280,
   "metadata": {
    "scrolled": true
   },
   "outputs": [
    {
     "name": "stdout",
     "output_type": "stream",
     "text": [
      "0 1 2\n",
      "[3, 4, 5, 6, 7, 8, 9]\n",
      "<class 'list'>\n",
      "0 1 2 [3, 4, 5, 6, 7, 8, 9]\n"
     ]
    }
   ],
   "source": [
    "values = tuple(range(10))\n",
    "a, b, c, *mama= values\n",
    "print(a, b, c)\n",
    "print(mama)\n",
    "print(type(mama))\n",
    "a, b, c, *_ = values\n",
    "print(a, b, c, _)"
   ]
  },
  {
   "cell_type": "code",
   "execution_count": 281,
   "metadata": {
    "scrolled": true
   },
   "outputs": [
    {
     "ename": "TypeError",
     "evalue": "'tuple' object does not support item assignment",
     "output_type": "error",
     "traceback": [
      "\u001b[1;31m---------------------------------------------------------------------------\u001b[0m",
      "\u001b[1;31mTypeError\u001b[0m                                 Traceback (most recent call last)",
      "\u001b[1;32m<ipython-input-281-8325ab853ac6>\u001b[0m in \u001b[0;36m<module>\u001b[1;34m\u001b[0m\n\u001b[0;32m      1\u001b[0m \u001b[0ml\u001b[0m\u001b[1;33m=\u001b[0m\u001b[0mtuple\u001b[0m\u001b[1;33m(\u001b[0m\u001b[0mrange\u001b[0m\u001b[1;33m(\u001b[0m\u001b[1;36m10\u001b[0m\u001b[1;33m)\u001b[0m\u001b[1;33m)\u001b[0m\u001b[1;33m\u001b[0m\u001b[1;33m\u001b[0m\u001b[0m\n\u001b[1;32m----> 2\u001b[1;33m \u001b[0ml\u001b[0m\u001b[1;33m[\u001b[0m\u001b[1;36m0\u001b[0m\u001b[1;33m]\u001b[0m\u001b[1;33m=\u001b[0m\u001b[1;36m5\u001b[0m  \u001b[1;31m###  Las tuplas son inmutables, no se pueden modificar\u001b[0m\u001b[1;33m\u001b[0m\u001b[1;33m\u001b[0m\u001b[0m\n\u001b[0m",
      "\u001b[1;31mTypeError\u001b[0m: 'tuple' object does not support item assignment"
     ]
    }
   ],
   "source": [
    "l=tuple(range(10))\n",
    "l[0]=5  ###  Las tuplas son inmutables, no se pueden modificar"
   ]
  },
  {
   "cell_type": "markdown",
   "metadata": {},
   "source": [
    "## Listas\n",
    "Son secuencias de longitud variable, y mutables.\n",
    "Se definen con \"[]\" o usando la función `list`"
   ]
  },
  {
   "cell_type": "code",
   "execution_count": 282,
   "metadata": {},
   "outputs": [
    {
     "data": {
      "text/plain": [
       "[0, 1, 2, 3, 4, 5, 6, 7, 8, 9, 10, 11, 12, 13, 14]"
      ]
     },
     "execution_count": 282,
     "metadata": {},
     "output_type": "execute_result"
    }
   ],
   "source": [
    "lista_0 = [2, 3, 5, 7]\n",
    "\n",
    "tupla = (1, 2, 3, 4, 5)\n",
    "lista_1 = list(tupla)\n",
    "\n",
    "gen = range(15)\n",
    "list(gen)"
   ]
  },
  {
   "cell_type": "markdown",
   "metadata": {},
   "source": [
    "### Inserción y remoción\n",
    "Para agregar elementos existen varios métodos.  \n",
    "Pueden usarse las funciones `append` o `insert`, ó pueden usarse asignaciones dentro de un campo"
   ]
  },
  {
   "cell_type": "code",
   "execution_count": 283,
   "metadata": {},
   "outputs": [
    {
     "name": "stdout",
     "output_type": "stream",
     "text": [
      "['uno', 'dos', 'tres']\n",
      "3\n",
      "['uno', 'dos', 'tres', 'cuatro']\n",
      "4\n",
      "['uno', 'uno y medio', 'dos', 'tres', 'cuatro', 'a', 'b', 'c', 'd']\n",
      "9\n",
      "['uno', 'uno y medio', 'dos', 'tres', 'cuatro', 'a', 'b', 'cinco', 'd']\n",
      "9\n",
      "['uno', 'uno y medio', 'dos', 'tres', 'cuatro', 'a', 'b', 'Ensayo', 'cinco', 'd']\n",
      "10\n"
     ]
    }
   ],
   "source": [
    "lista_2 = ['uno', 'dos', 'tres']\n",
    "print(lista_2)\n",
    "print(len(lista_2))\n",
    "\n",
    "lista_2.append('cuatro')\n",
    "print(lista_2)\n",
    "print(len(lista_2))\n",
    "\n",
    "\n",
    "lista_2.extend([\"a\",\"b\",\"c\",\"d\"])\n",
    "\n",
    "lista_2.insert(1, 'uno y medio')\n",
    "print(lista_2)\n",
    "print(len(lista_2))\n",
    "\n",
    "# Esta es otra forma de acceder al último elemento de una lista\n",
    "lista_2[-2] = 'cinco'\n",
    "print(lista_2)\n",
    "print(len(lista_2))\n",
    "\n",
    "lista_2.insert(-2,\"Ensayo\")\n",
    "print(lista_2)\n",
    "print(len(lista_2))"
   ]
  },
  {
   "cell_type": "markdown",
   "metadata": {},
   "source": [
    "El inverso de `insert` es `pop`. Se quitan elementos con `pop` usando un indice o el último elemento sin ningún argumento"
   ]
  },
  {
   "cell_type": "code",
   "execution_count": 284,
   "metadata": {},
   "outputs": [
    {
     "name": "stdout",
     "output_type": "stream",
     "text": [
      "['uno', 'uno y medio', 'dos', 'cuatro', 'a', 'b', 'Ensayo', 'cinco']\n"
     ]
    }
   ],
   "source": [
    "lista_2.pop(3)\n",
    "lista_2.pop()\n",
    "print(lista_2)"
   ]
  },
  {
   "cell_type": "markdown",
   "metadata": {},
   "source": [
    "La función `remove` busca el primer elemento cuyo valor es igual al parametro y lo borra"
   ]
  },
  {
   "cell_type": "code",
   "execution_count": 285,
   "metadata": {},
   "outputs": [],
   "source": [
    "lista_2.remove('uno y medio')"
   ]
  },
  {
   "cell_type": "markdown",
   "metadata": {},
   "source": [
    "Se puede revisar si un elemento está en la lista"
   ]
  },
  {
   "cell_type": "code",
   "execution_count": 286,
   "metadata": {},
   "outputs": [
    {
     "name": "stdout",
     "output_type": "stream",
     "text": [
      "['uno', 'dos', 'cuatro', 'a', 'b', 'Ensayo', 'cinco']\n",
      "True\n"
     ]
    },
    {
     "data": {
      "text/plain": [
       "True"
      ]
     },
     "execution_count": 286,
     "metadata": {},
     "output_type": "execute_result"
    }
   ],
   "source": [
    "print(lista_2)\n",
    "print('dos' in lista_2)\n",
    "\n",
    "##o si no está\n",
    "\n",
    "'tres' not in lista_2"
   ]
  },
  {
   "cell_type": "markdown",
   "metadata": {},
   "source": [
    "De forma similar a las tuplas, las listas pueden ser concatenadas con `+`"
   ]
  },
  {
   "cell_type": "code",
   "execution_count": 287,
   "metadata": {
    "scrolled": true
   },
   "outputs": [
    {
     "data": {
      "text/plain": [
       "[1, 2, 3, 4, 5, 6, 7, 8]"
      ]
     },
     "execution_count": 287,
     "metadata": {},
     "output_type": "execute_result"
    }
   ],
   "source": [
    "[1, 2, 3, 4] + [5, 6, 7, 8]"
   ]
  },
  {
   "cell_type": "code",
   "execution_count": 288,
   "metadata": {},
   "outputs": [
    {
     "name": "stdout",
     "output_type": "stream",
     "text": [
      "j=1,x=2,y=3\n",
      "j=4,x=5,y=6\n",
      "j=7,x=8,y=9\n"
     ]
    },
    {
     "data": {
      "text/plain": [
       "8"
      ]
     },
     "execution_count": 288,
     "metadata": {},
     "output_type": "execute_result"
    }
   ],
   "source": [
    "seq=[(1,2,3),(4,5,6),(7,8,9)]\n",
    "\n",
    "a, b, c= seq\n",
    "j=1\n",
    "for a,b,c in seq:\n",
    "    j=a\n",
    "    x=b\n",
    "    k=c\n",
    "    print(\"j={0},x={1},y={2}\".format(a,b,c))\n",
    "b \n"
   ]
  },
  {
   "cell_type": "code",
   "execution_count": 289,
   "metadata": {},
   "outputs": [
    {
     "data": {
      "text/plain": [
       "3"
      ]
     },
     "execution_count": 289,
     "metadata": {},
     "output_type": "execute_result"
    }
   ],
   "source": [
    "####Contar cuántas veces aparece un elemento en una tupla\n",
    "a=(1,2,2,3,3,3)\n",
    "a.count(3)"
   ]
  },
  {
   "cell_type": "markdown",
   "metadata": {},
   "source": [
    "### Slicing\n",
    "En el operador de indice, se introducen valores de inicio y fin de la forma `lista[inicio:fin]`"
   ]
  },
  {
   "cell_type": "code",
   "execution_count": 290,
   "metadata": {},
   "outputs": [
    {
     "name": "stdout",
     "output_type": "stream",
     "text": [
      "<class 'list'>\n"
     ]
    },
    {
     "data": {
      "text/plain": [
       "[2, 3, 7, 5]"
      ]
     },
     "execution_count": 290,
     "metadata": {},
     "output_type": "execute_result"
    }
   ],
   "source": [
    "seq = [7, 2, 3, 7, 5, 6, 0, 1]\n",
    "print(type(seq))\n",
    "seq[1:5]"
   ]
  },
  {
   "cell_type": "markdown",
   "metadata": {},
   "source": [
    "Es posible omitir alguno de los indices"
   ]
  },
  {
   "cell_type": "code",
   "execution_count": 291,
   "metadata": {},
   "outputs": [
    {
     "data": {
      "text/plain": [
       "[7, 5, 6, 0, 1]"
      ]
     },
     "execution_count": 291,
     "metadata": {},
     "output_type": "execute_result"
    }
   ],
   "source": [
    "seq[3:]"
   ]
  },
  {
   "cell_type": "code",
   "execution_count": 292,
   "metadata": {},
   "outputs": [
    {
     "data": {
      "text/plain": [
       "[7, 2, 3, 7, 5]"
      ]
     },
     "execution_count": 292,
     "metadata": {},
     "output_type": "execute_result"
    }
   ],
   "source": [
    "seq[:5]"
   ]
  },
  {
   "cell_type": "markdown",
   "metadata": {},
   "source": [
    "Se puede agregar un tercer valor en el índice para indicar saltos"
   ]
  },
  {
   "cell_type": "code",
   "execution_count": 293,
   "metadata": {},
   "outputs": [
    {
     "data": {
      "text/plain": [
       "[7, 5]"
      ]
     },
     "execution_count": 293,
     "metadata": {},
     "output_type": "execute_result"
    }
   ],
   "source": [
    "seq[:8:4]"
   ]
  },
  {
   "attachments": {},
   "cell_type": "markdown",
   "metadata": {},
   "source": [
    "### Ejercicio\n",
    "\n",
    "Modelar un tablero de ajedrez con arreglos, de tal forma que podamos recuperar el color de la casilla dada su posición en 𝑥 y 𝑦."
   ]
  },
  {
   "cell_type": "code",
   "execution_count": 294,
   "metadata": {},
   "outputs": [],
   "source": [
    "tablero = []\n",
    "for i in range(8):\n",
    "    tablero.append([])\n",
    "    for j in range(8):\n",
    "        tablero[i].append('Negro' if (i + j) % 2 == 0 else 'Blanco')"
   ]
  },
  {
   "cell_type": "code",
   "execution_count": 295,
   "metadata": {},
   "outputs": [
    {
     "name": "stdout",
     "output_type": "stream",
     "text": [
      "Valores del tablero\n",
      "[['Negro', 'Blanco', 'Negro', 'Blanco', 'Negro', 'Blanco', 'Negro', 'Blanco'], ['Blanco', 'Negro', 'Blanco', 'Negro', 'Blanco', 'Negro', 'Blanco', 'Negro'], ['Negro', 'Blanco', 'Negro', 'Blanco', 'Negro', 'Blanco', 'Negro', 'Blanco'], ['Blanco', 'Negro', 'Blanco', 'Negro', 'Blanco', 'Negro', 'Blanco', 'Negro'], ['Negro', 'Blanco', 'Negro', 'Blanco', 'Negro', 'Blanco', 'Negro', 'Blanco'], ['Blanco', 'Negro', 'Blanco', 'Negro', 'Blanco', 'Negro', 'Blanco', 'Negro'], ['Negro', 'Blanco', 'Negro', 'Blanco', 'Negro', 'Blanco', 'Negro', 'Blanco'], ['Blanco', 'Negro', 'Blanco', 'Negro', 'Blanco', 'Negro', 'Blanco', 'Negro']]\n",
      "Una fila del tablero\n",
      "['Negro', 'Blanco', 'Negro', 'Blanco', 'Negro', 'Blanco', 'Negro', 'Blanco']\n",
      "cuadrado posición 0,0\n",
      "Negro\n"
     ]
    }
   ],
   "source": [
    "tablero = []\n",
    "#tablero.append([])\n",
    "for i in range(8):\n",
    "    tablero.append([])\n",
    "    for j in range(8):\n",
    "        tablero[i].append('Negro' if (i + j) % 2 == 0 else 'Blanco')\n",
    "\n",
    "print(\"Valores del tablero\")\n",
    "print(tablero)\n",
    "\n",
    "print(\"Una fila del tablero\")\n",
    "print(tablero[2])\n",
    "\n",
    "print(\"cuadrado posición 0,0\")\n",
    "print(tablero[0][0])"
   ]
  },
  {
   "cell_type": "markdown",
   "metadata": {},
   "source": [
    "### Ejercicio\n",
    "\n",
    "Usando comprensión de listas modelar una baraja de cartas, donde cada una de las cartas se escriba con una tupla. Asuma que J = 10, Q = 11 y K = 12. "
   ]
  },
  {
   "cell_type": "code",
   "execution_count": 296,
   "metadata": {},
   "outputs": [
    {
     "name": "stdout",
     "output_type": "stream",
     "text": [
      "[1, 3, 3, 5, 7, 9]\n",
      "[9, 7, 5, 3, 3, 1]\n",
      "['a', 'bb', 'ccc', 'dddd', 'eeeee']\n"
     ]
    }
   ],
   "source": [
    "### Ordenar listas\n",
    "\n",
    "a = [7,5,3,1,9,3]\n",
    "a.sort()\n",
    "print(a)\n",
    "\n",
    "### Ordenar descendente\n",
    "\n",
    "a.reverse()\n",
    "print(a)\n",
    "\n",
    "\n",
    "### Ordenar por tamaño de string\n",
    "b = [\"dddd\",\"a\",\"eeeee\",\"ccc\",\"bb\"]\n",
    "b.sort(key=len)\n",
    "print(b)\n"
   ]
  },
  {
   "cell_type": "code",
   "execution_count": 297,
   "metadata": {},
   "outputs": [
    {
     "name": "stdout",
     "output_type": "stream",
     "text": [
      "[1, 2, 2, 2, 5, 6, 8, 10]\n"
     ]
    }
   ],
   "source": [
    "### Implementación y búsqueda de inserción binaria. Sólo funciona para listas ordenadas.\n",
    "import bisect\n",
    "\n",
    "c=[1,2,2,2,5,8,10]\n",
    "\n",
    "bisect.bisect(c,6)\n",
    "bisect.insort(c,6)\n",
    "print(c)\n"
   ]
  },
  {
   "cell_type": "code",
   "execution_count": 298,
   "metadata": {
    "scrolled": true
   },
   "outputs": [
    {
     "name": "stdout",
     "output_type": "stream",
     "text": [
      "Solo utilizando valores\n",
      "la letra a está en la posición 0\n",
      "la letra b está en la posición 1\n",
      "la letra c está en la posición 2\n",
      "la letra d está en la posición 3\n",
      "la letra e está en la posición 4\n",
      "la letra f está en la posición 5\n",
      "Utilizando enumerate\n",
      "la letra a está en la posición 0\n",
      "la letra b está en la posición 1\n",
      "la letra c está en la posición 2\n",
      "la letra d está en la posición 3\n",
      "la letra e está en la posición 4\n",
      "la letra f está en la posición 5\n"
     ]
    }
   ],
   "source": [
    "### Enumerar listas\n",
    "\n",
    "y = [\"a\",\"b\",\"c\",\"d\",\"e\",\"f\"]\n",
    "\n",
    "i=0\n",
    "\n",
    "print(\"Solo utilizando valores\")\n",
    "for valor in y:\n",
    "    print(\"la letra {0:s} está en la posición {1:d}\".format(valor,i))\n",
    "    i+=1\n",
    "\n",
    "print(\"Utilizando enumerate\")\n",
    "for i,valor in enumerate(y):\n",
    "    print(\"la letra {0:s} está en la posición {1:d}\".format(valor,i))"
   ]
  },
  {
   "cell_type": "code",
   "execution_count": 299,
   "metadata": {},
   "outputs": [
    {
     "name": "stdout",
     "output_type": "stream",
     "text": [
      "[1, 2, 4, 8]\n",
      "[-5, 1, 5, 7]\n",
      "[' ', 'a', 'a', 'b', 'd', 'e', 'e', 'n', 'r', 's', 's', 't', 'u']\n"
     ]
    }
   ],
   "source": [
    "### ordenar los valores de un objeto\n",
    "print(sorted((1,4,8,2)))\n",
    "print(sorted([5,7,1,-5]))\n",
    "print(sorted('buenas tardes'))"
   ]
  },
  {
   "cell_type": "code",
   "execution_count": 300,
   "metadata": {},
   "outputs": [
    {
     "name": "stdout",
     "output_type": "stream",
     "text": [
      "<zip object at 0x00855AD0>\n",
      "<class 'zip'>\n",
      "[('uno', 1), ('dos', 4), ('tres', 9)]\n"
     ]
    }
   ],
   "source": [
    "## emparejar listas\n",
    "seq1 = [\"uno\",\"dos\",\"tres\"]\n",
    "seq2 = [1,4,9]\n",
    "seq=zip(seq1,seq2)\n",
    "print(seq)\n",
    "print(type(seq))\n",
    "print(list(seq))\n"
   ]
  },
  {
   "cell_type": "code",
   "execution_count": 301,
   "metadata": {},
   "outputs": [
    {
     "name": "stdout",
     "output_type": "stream",
     "text": [
      "[('uno', 1), ('dos', 4), ('tres', 9)]\n",
      "('uno', 'dos', 'tres')\n"
     ]
    }
   ],
   "source": [
    "## desemparejar listas\n",
    "seq1 = [\"uno\",\"dos\",\"tres\"]\n",
    "seq2 = [1,4,9]\n",
    "seq=list(zip(seq1,seq2))\n",
    "print(seq)\n",
    "\n",
    "rseq1,rseq2 =zip(*seq)\n",
    "print(rseq1)\n",
    "\n",
    "\n",
    "#rseq1,rseq2=zip(*seq)"
   ]
  },
  {
   "cell_type": "code",
   "execution_count": 302,
   "metadata": {},
   "outputs": [
    {
     "name": "stdout",
     "output_type": "stream",
     "text": [
      "i=0 a=uno b=a\n",
      "i=1 a=dos b=be\n",
      "i=2 a=tres b=ce\n"
     ]
    }
   ],
   "source": [
    "seq1 = ['uno', 'dos', 'tres']\n",
    "seq2 = ['a', 'be', 'ce']\n",
    "for i, (a, b) in enumerate(zip(seq1, seq2)):\n",
    "    print('i={0} a={1} b={2}'.format(i, a, b))\n"
   ]
  },
  {
   "cell_type": "markdown",
   "metadata": {},
   "source": [
    "## Diccionarios\n",
    "Los diccionarios con la implementación de Python de Hash maps. Es una de las estructuras de datos más importantes.\n",
    "Es una colección de tamaño flñexible de parejas llave:valor, donde ambas son objetos de Python.\n",
    "Pueden ser creados con \"{}\" o con la función `dict`"
   ]
  },
  {
   "cell_type": "code",
   "execution_count": 303,
   "metadata": {},
   "outputs": [],
   "source": [
    "diccionario = dict()\n",
    "d1 = {'a': 'un valor', 'b': 'otro valor'}"
   ]
  },
  {
   "cell_type": "markdown",
   "metadata": {},
   "source": [
    "Se pueden acceder o insertar elementos usando la misma sintaxis que las listas."
   ]
  },
  {
   "cell_type": "code",
   "execution_count": 304,
   "metadata": {
    "scrolled": true
   },
   "outputs": [
    {
     "name": "stdout",
     "output_type": "stream",
     "text": [
      "todavía otra\n",
      "{'a': 'un valor', 'b': 'otro valor', 'c': 'todavía otra'}\n",
      "{'a': 'un valor', 'b': 'otro valor', 'c': 'todavía otra', 7: 'Un entero'}\n",
      "True\n",
      "False\n"
     ]
    }
   ],
   "source": [
    "d1['c'] = 'todavía otra'\n",
    "print(d1['c'])\n",
    "print(d1)\n",
    "\n",
    "d1[7]=\"Un entero\"\n",
    "print(d1)\n",
    "\n",
    "#d1['b']\n",
    "\n",
    "#Se puede indagar si una llave está en un diccionario\n",
    "\n",
    "print(\"a\" in d1)\n",
    "\n",
    "print(\"w\" in d1)\n"
   ]
  },
  {
   "cell_type": "markdown",
   "metadata": {},
   "source": [
    "Es posible pedir una lista con las llaves o los valores del diccionario. Las listas retornadas por ambos tienen el mismo orden."
   ]
  },
  {
   "cell_type": "code",
   "execution_count": 305,
   "metadata": {},
   "outputs": [
    {
     "data": {
      "text/plain": [
       "dict_keys(['a', 'b', 'c', 7])"
      ]
     },
     "execution_count": 305,
     "metadata": {},
     "output_type": "execute_result"
    }
   ],
   "source": [
    "d1.keys()"
   ]
  },
  {
   "cell_type": "code",
   "execution_count": 306,
   "metadata": {},
   "outputs": [
    {
     "data": {
      "text/plain": [
       "dict_values(['un valor', 'otro valor', 'todavía otra', 'Un entero'])"
      ]
     },
     "execution_count": 306,
     "metadata": {},
     "output_type": "execute_result"
    }
   ],
   "source": [
    "d1.values()"
   ]
  },
  {
   "cell_type": "code",
   "execution_count": 307,
   "metadata": {},
   "outputs": [
    {
     "name": "stdout",
     "output_type": "stream",
     "text": [
      "{'a': 'un valor', 'b': 'otro valor', 'c': 'todavía otra', 7: 'Un entero'}\n",
      "{'a': 'un valor', 'b': 'otro valor', 7: 'Un entero'}\n",
      "<class 'str'>\n",
      "{'a': 'un valor', 7: 'Un entero'}\n"
     ]
    }
   ],
   "source": [
    "#Borrar valores\n",
    "print(d1)\n",
    "del d1[\"c\"]\n",
    "print(d1)\n",
    "\n",
    "d1.pop(\"b\")\n",
    "print(type(a_borrar))\n",
    "print(d1)\n",
    "\n",
    "\n",
    "\n"
   ]
  },
  {
   "cell_type": "markdown",
   "metadata": {},
   "source": [
    "Es posible \"concatenar\" diccionarios en con la función `update`"
   ]
  },
  {
   "cell_type": "code",
   "execution_count": 308,
   "metadata": {},
   "outputs": [],
   "source": [
    "diccionario.update(d1)"
   ]
  },
  {
   "cell_type": "code",
   "execution_count": 309,
   "metadata": {},
   "outputs": [
    {
     "data": {
      "text/plain": [
       "{'a': 'un valor', 7: 'Un entero', 'q': 'otro valor', 'm': 'otro más'}"
      ]
     },
     "execution_count": 309,
     "metadata": {},
     "output_type": "execute_result"
    }
   ],
   "source": [
    "#### Unión de diccionarios\n",
    "\n",
    "d1.update({\"q\":\"otro valor\",\"m\":\"otro más\"})\n",
    "d1\n"
   ]
  },
  {
   "cell_type": "markdown",
   "metadata": {},
   "source": [
    "## Mapear valores a un diccionario"
   ]
  },
  {
   "cell_type": "code",
   "execution_count": 310,
   "metadata": {},
   "outputs": [
    {
     "name": "stdout",
     "output_type": "stream",
     "text": [
      "<class 'dict'>\n",
      "{'0': 'Andres', '1': 'Beatriz', '2': 'Carlos'}\n"
     ]
    }
   ],
   "source": [
    "una_lista = ['Andres', 'Beatriz', 'Carlos']\n",
    "mapping = {}\n",
    "print(type(mapping))\n",
    "for indice, valor in enumerate(una_lista):\n",
    "    mapping[str(indice)] = valor\n",
    "\n",
    "print(mapping)"
   ]
  },
  {
   "cell_type": "code",
   "execution_count": 311,
   "metadata": {},
   "outputs": [
    {
     "name": "stdout",
     "output_type": "stream",
     "text": [
      "imprimiendo mapping {'llave1': 'valor1', 'llave2': 'valor2', 'llave3': 'valor3'}\n",
      "imprimiendo mapping_2  {'llave1': 'valor1', 'llave2': 'valor2', 'llave3': 'valor3'}\n"
     ]
    }
   ],
   "source": [
    "#### Diccionarios de secuencias\n",
    "\n",
    "lista_llaves = ['llave1','llave2','llave3']\n",
    "lista_valores = ['valor1','valor2','valor3']\n",
    "mapping = {}\n",
    "for llave, valor in zip(lista_llaves, lista_valores):\n",
    "    mapping[llave] = valor\n",
    "print(\"imprimiendo mapping\",mapping)\n",
    "\n",
    "\n",
    "mapping_2 =dict(zip(lista_llaves,lista_valores))\n",
    "print(\"imprimiendo mapping_2 \",mapping_2)"
   ]
  },
  {
   "cell_type": "markdown",
   "metadata": {},
   "source": [
    "Valores por defecto"
   ]
  },
  {
   "cell_type": "code",
   "execution_count": 312,
   "metadata": {},
   "outputs": [
    {
     "name": "stdout",
     "output_type": "stream",
     "text": [
      "{'a': ['amarillo', 'ahorro'], 'b': ['bate', 'bosque', 'burro']}\n",
      "['amarillo', 'ahorro']\n"
     ]
    }
   ],
   "source": [
    "palabras = ['amarillo', 'bate', 'bosque', 'ahorro', 'burro']\n",
    "por_letra_v2 = {}\n",
    "for palabra in palabras:\n",
    "    inicial = palabra[0]\n",
    "    por_letra_v2.setdefault(inicial, []).append(palabra)\n",
    "    \n",
    "print(por_letra_v2)\n",
    "print(por_letra_v2[\"a\"])\n"
   ]
  },
  {
   "cell_type": "markdown",
   "metadata": {},
   "source": [
    "## Conjuntos\n",
    "Los conjuntos son colecciones sin orden y elementos únicos, se declara de forma similar a los diccionarios con \"{}\" o con la función `set`.  \n",
    "Soportan operaciones de conjuntos como unión, intersección, diferencia y diferencia simétrica."
   ]
  },
  {
   "cell_type": "code",
   "execution_count": 313,
   "metadata": {},
   "outputs": [
    {
     "name": "stdout",
     "output_type": "stream",
     "text": [
      "<class 'set'>\n",
      "<class 'set'>\n",
      "Union  {1, 2, 3, 4, 5}\n",
      "Intersección  {3}\n",
      "{1, 2}\n"
     ]
    }
   ],
   "source": [
    "m={1,2,3}\n",
    "m\n",
    "print(type(m))\n",
    "\n",
    "n=set([3,4,5])\n",
    "print(type(n))\n",
    "\n",
    "### Unión de conjuntos\n",
    "print(\"Union \",m.union(n))\n",
    "\n",
    "### Intersección\n",
    "print(\"Intersección \",m.intersection(n))\n",
    "\n",
    "### diferencia\n",
    "print(m-n)\n"
   ]
  },
  {
   "cell_type": "markdown",
   "metadata": {},
   "source": [
    "## Creación de objetos por comprensión"
   ]
  },
  {
   "cell_type": "code",
   "execution_count": 314,
   "metadata": {},
   "outputs": [
    {
     "data": {
      "text/plain": [
       "['BAT', 'CAR', 'DOVE', 'PYTHON']"
      ]
     },
     "execution_count": 314,
     "metadata": {},
     "output_type": "execute_result"
    }
   ],
   "source": [
    "strings = ['a', 'as', 'bat', 'car', 'dove', 'python']\n",
    "\n",
    "[x.upper() for x in strings if len(x) > 2]"
   ]
  },
  {
   "cell_type": "code",
   "execution_count": 315,
   "metadata": {},
   "outputs": [
    {
     "name": "stdout",
     "output_type": "stream",
     "text": [
      "['a', 'as', 'bat', 'car', 'dove', 'python']\n"
     ]
    }
   ],
   "source": [
    "#### Creación de una lista por comprensión\n",
    "list_Com=[]\n",
    "[list_Com.append(val) for val in strings]\n",
    "print(list_Com)"
   ]
  },
  {
   "cell_type": "code",
   "execution_count": 316,
   "metadata": {},
   "outputs": [
    {
     "name": "stdout",
     "output_type": "stream",
     "text": [
      "{1, 2, 3, 4, 6}\n"
     ]
    }
   ],
   "source": [
    "### Creación de un conjunto con la cantidad de caracteres de los elementos de una lista\n",
    "long_unicas = {len(x) for x in strings}\n",
    "print(long_unicas)"
   ]
  },
  {
   "cell_type": "code",
   "execution_count": 317,
   "metadata": {},
   "outputs": [
    {
     "name": "stdout",
     "output_type": "stream",
     "text": [
      "{'a': 0, 'as': 1, 'bat': 2, 'car': 3, 'dove': 4, 'python': 5}\n"
     ]
    }
   ],
   "source": [
    "### Creación de un diccionario por comprensión\n",
    "\n",
    "loc_mapping = {val : index for index, val in enumerate(strings)}\n",
    "print(loc_mapping)\n"
   ]
  }
 ],
 "metadata": {
  "kernelspec": {
   "display_name": "Python 3",
   "language": "python",
   "name": "python3"
  },
  "language_info": {
   "codemirror_mode": {
    "name": "ipython",
    "version": 3
   },
   "file_extension": ".py",
   "mimetype": "text/x-python",
   "name": "python",
   "nbconvert_exporter": "python",
   "pygments_lexer": "ipython3",
   "version": "3.7.3"
  },
  "toc": {
   "base_numbering": 1,
   "nav_menu": {},
   "number_sections": false,
   "sideBar": true,
   "skip_h1_title": false,
   "title_cell": "Table of Contents",
   "title_sidebar": "Contents",
   "toc_cell": false,
   "toc_position": {},
   "toc_section_display": true,
   "toc_window_display": false
  }
 },
 "nbformat": 4,
 "nbformat_minor": 2
}
