{
  "nbformat": 4,
  "nbformat_minor": 0,
  "metadata": {
    "kernelspec": {
      "display_name": "Python 3",
      "language": "python",
      "name": "python3"
    },
    "language_info": {
      "codemirror_mode": {
        "name": "ipython",
        "version": 3
      },
      "file_extension": ".py",
      "mimetype": "text/x-python",
      "name": "python",
      "nbconvert_exporter": "python",
      "pygments_lexer": "ipython3",
      "version": "3.6.7"
    },
    "toc": {
      "base_numbering": 1,
      "nav_menu": {},
      "number_sections": false,
      "sideBar": true,
      "skip_h1_title": false,
      "title_cell": "Table of Contents",
      "title_sidebar": "Contents",
      "toc_cell": false,
      "toc_position": {},
      "toc_section_display": true,
      "toc_window_display": false
    },
    "colab": {
      "name": "Copia de 06_Objetos.ipynb",
      "provenance": [],
      "include_colab_link": true
    }
  },
  "cells": [
    {
      "cell_type": "markdown",
      "metadata": {
        "id": "view-in-github",
        "colab_type": "text"
      },
      "source": [
        "<a href=\"https://colab.research.google.com/github/HalbardHobby/IntroduccionPython/blob/master/06_Objetos.ipynb\" target=\"_parent\"><img src=\"https://colab.research.google.com/assets/colab-badge.svg\" alt=\"Open In Colab\"/></a>"
      ]
    },
    {
      "cell_type": "markdown",
      "metadata": {
        "id": "tGYa8AQi-A_n",
        "colab_type": "text"
      },
      "source": [
        "# Objetos, Clases & Herencia"
      ]
    },
    {
      "cell_type": "markdown",
      "metadata": {
        "id": "0CyLL3Vx-A_p",
        "colab_type": "text"
      },
      "source": [
        "La programación orientada a objetos es un paradigma de computación dónde cad componente es modelado abstrayendo los elementos del mundo real. Un Objeto es cualquier cosa que posee atributos y puede ejecutar una función."
      ]
    },
    {
      "cell_type": "markdown",
      "metadata": {
        "id": "9gb1rkY7-A_q",
        "colab_type": "text"
      },
      "source": [
        "## Ventajas y Desventajas\n",
        "* Impulsa la reusabilidad de código. El código encapsulado en clases es más fácil de reutilizar en otros contextos.\n",
        "* La separación de responsabilidades ayuda a la mantenibilidad del código.\n",
        "* El uso estricto de objetos puede generar discuciones filosoficas innecesarias.\n",
        "* Debe tenerse un amplio conocimiento del dominio en cuestión para realizar un modelado efectivo, no todo programa ni entidad es candidato para ser implementado como objeto.\n",
        "* A medida que se añaden más y más clases el programa puede aumentar en complejidad debido a las relaciones entre objetos."
      ]
    },
    {
      "cell_type": "markdown",
      "metadata": {
        "id": "T3aZAEGs-A_q",
        "colab_type": "text"
      },
      "source": [
        "## Clases\n",
        "Una Clase en programación orientada a objetos sirve como un \"prototipo\" de un objeto. Hay que tener en cuenta la diferencia entre una clase y un objeto.  \n",
        "las clases se declaran de la siguiente forma:\n",
        "\n",
        "```python\n",
        "class nombre(object):\n",
        "    expresiones\n",
        "```\n",
        "\n",
        "Considerémos un escenario dónde hay que desarrollar un juego. Tenemos una clase que representa los enemigos."
      ]
    },
    {
      "cell_type": "code",
      "metadata": {
        "id": "fVDTLr4m-A_r",
        "colab_type": "code",
        "colab": {}
      },
      "source": [
        "class Enemigo(object):\n",
        "    pass"
      ],
      "execution_count": 0,
      "outputs": []
    },
    {
      "cell_type": "markdown",
      "metadata": {
        "id": "JlYIsTHr-A_u",
        "colab_type": "text"
      },
      "source": [
        "## Objetos\n",
        "Previamente se mostró que que una clase provee un prototipo. Sin embargo, para poder utilizar los objetos y métodos, es necesario crear un objeto de la clase en cuestión.  \n",
        "Un objeto también es llamado \"instancia\". A este proceso se le llama _\"instanciación\"_.\n",
        "\n",
        "Para crear una instancia en Python usamos la misma sintaxis de las funciones."
      ]
    },
    {
      "cell_type": "code",
      "metadata": {
        "id": "k_kwN03i-A_v",
        "colab_type": "code",
        "colab": {}
      },
      "source": [
        "enemigo = Enemigo()"
      ],
      "execution_count": 0,
      "outputs": []
    },
    {
      "cell_type": "code",
      "metadata": {
        "id": "mIZEgr2y-A_x",
        "colab_type": "code",
        "outputId": "e5068b48-2c07-473a-d51c-79defebba801",
        "colab": {}
      },
      "source": [
        "type(enemigo)"
      ],
      "execution_count": 0,
      "outputs": [
        {
          "output_type": "execute_result",
          "data": {
            "text/plain": [
              "__main__.Enemigo"
            ]
          },
          "metadata": {
            "tags": []
          },
          "execution_count": 7
        }
      ]
    },
    {
      "cell_type": "markdown",
      "metadata": {
        "id": "hqWKpWwA-A_0",
        "colab_type": "text"
      },
      "source": [
        "## Inicializar Objetos: `__init__()`\n",
        "Un constructor es un método especial que se llama por defecto al momento de instanciar una clase.  \n",
        "para crear un constructor se declara el método `__init__()`"
      ]
    },
    {
      "cell_type": "code",
      "metadata": {
        "id": "lEAj6epd-A_1",
        "colab_type": "code",
        "colab": {}
      },
      "source": [
        "class Enemigo(object):\n",
        "    def __init__(self):\n",
        "        self.vida = 100"
      ],
      "execution_count": 0,
      "outputs": []
    },
    {
      "cell_type": "markdown",
      "metadata": {
        "id": "bj1gGxHM-A_3",
        "colab_type": "text"
      },
      "source": [
        "`__init__` es una función como cualquier otra, por lo cual es posible pasar cualquier número de parametros como argumentos."
      ]
    },
    {
      "cell_type": "code",
      "metadata": {
        "id": "ziC5LJZG-A_3",
        "colab_type": "code",
        "colab": {}
      },
      "source": [
        "class Enemigo(object):\n",
        "    \n",
        "    def __init__(self, vida):\n",
        "        self.vida = vida\n",
        "    \n",
        "    def __init__(self):\n",
        "        self.vida = 100"
      ],
      "execution_count": 0,
      "outputs": []
    },
    {
      "cell_type": "markdown",
      "metadata": {
        "id": "1VQXB2lm-A_5",
        "colab_type": "text"
      },
      "source": [
        "Adicionalmente es posible tener múltiples constructores dentro de la misma clase, mientras la signatura sea diferente entre los diferentes `__init__`"
      ]
    },
    {
      "cell_type": "markdown",
      "metadata": {
        "id": "JBLjanmM-A_6",
        "colab_type": "text"
      },
      "source": [
        "## Atributos\n",
        "Los atributos son campos dentro de una clase conteniendo diferentes valores. Básicamente son objetos dentro de objetos. Estos pueden ser declarados como variables dentro del cuerpo de la clase."
      ]
    },
    {
      "cell_type": "code",
      "metadata": {
        "id": "0L-RltqW-A_6",
        "colab_type": "code",
        "colab": {}
      },
      "source": [
        "class Enemigo(object):\n",
        "    \n",
        "    vida = 0\n",
        "    \n",
        "    def __init__(self, vida):\n",
        "        self.vida = vida\n",
        "    \n",
        "    def __init__(self):\n",
        "        self.vida = 100"
      ],
      "execution_count": 0,
      "outputs": []
    },
    {
      "cell_type": "markdown",
      "metadata": {
        "id": "tzxu92vu-A_8",
        "colab_type": "text"
      },
      "source": [
        "En Python cada objeto tiene una serie de atributos y métodos predeterminados en adición a los definidos por el usuario. Mediante la función `dir()` es posible ver todos los nombres disponibles en la clase."
      ]
    },
    {
      "cell_type": "code",
      "metadata": {
        "id": "FE4yTheh-A_9",
        "colab_type": "code",
        "outputId": "0e03cc9c-b712-4546-e41b-e10836295500",
        "colab": {}
      },
      "source": [
        "dir(enemigo)"
      ],
      "execution_count": 0,
      "outputs": [
        {
          "output_type": "execute_result",
          "data": {
            "text/plain": [
              "['__class__',\n",
              " '__delattr__',\n",
              " '__dict__',\n",
              " '__dir__',\n",
              " '__doc__',\n",
              " '__eq__',\n",
              " '__format__',\n",
              " '__ge__',\n",
              " '__getattribute__',\n",
              " '__gt__',\n",
              " '__hash__',\n",
              " '__init__',\n",
              " '__init_subclass__',\n",
              " '__le__',\n",
              " '__lt__',\n",
              " '__module__',\n",
              " '__ne__',\n",
              " '__new__',\n",
              " '__reduce__',\n",
              " '__reduce_ex__',\n",
              " '__repr__',\n",
              " '__setattr__',\n",
              " '__sizeof__',\n",
              " '__str__',\n",
              " '__subclasshook__',\n",
              " '__weakref__']"
            ]
          },
          "metadata": {
            "tags": []
          },
          "execution_count": 9
        }
      ]
    },
    {
      "cell_type": "markdown",
      "metadata": {
        "id": "yV6deB8l-A__",
        "colab_type": "text"
      },
      "source": [
        "### Atributos de Clase & Instancia\n",
        "Los atributos tienen 2 categorías principales: los atributos de clase y los de instancia. La diferencia rádica en el acceso. Las variables de instancia como dice su nombre solo pueden ser accesada desde su instancia; en cambio un variable de clase es compartida por todas las instancias de esta misma."
      ]
    },
    {
      "cell_type": "code",
      "metadata": {
        "id": "QW5YFE7r-BAA",
        "colab_type": "code",
        "colab": {}
      },
      "source": [
        "class Enemigo(object):\n",
        "    \n",
        "    tipo = 'algún tipo'    # Las variables de clase se declaran dentro\n",
        "                           # del cuerpo de la clase\n",
        "    \n",
        "    def __init__(self, vida):\n",
        "        self.vida = vida    # las variables de instancia se declaran dentro\n",
        "                            # de los metodos accediendo a self.\n",
        "    \n",
        "    def __init__(self):\n",
        "        self.vida = 100"
      ],
      "execution_count": 0,
      "outputs": []
    },
    {
      "cell_type": "code",
      "metadata": {
        "id": "uEzjNUWE-BAC",
        "colab_type": "code",
        "outputId": "40b1566c-8d1a-49ca-b2f7-7983e69a339a",
        "colab": {}
      },
      "source": [
        "e1 = Enemigo()\n",
        "Enemigo.tipo = 'otro tipo'\n",
        "\n",
        "print(e1.tipo)"
      ],
      "execution_count": 0,
      "outputs": [
        {
          "output_type": "stream",
          "text": [
            "otro tipo\n"
          ],
          "name": "stdout"
        }
      ]
    },
    {
      "cell_type": "markdown",
      "metadata": {
        "id": "kennVC2N-BAF",
        "colab_type": "text"
      },
      "source": [
        "## Métodos\n",
        "Los métodos son funciones asociadas a objetos. Para implementarlas simplemente se declara una función dentro del cuerpo de una clase."
      ]
    },
    {
      "cell_type": "code",
      "metadata": {
        "id": "DzTOB8Px-BAF",
        "colab_type": "code",
        "colab": {}
      },
      "source": [
        "class Enemigo(object):\n",
        "    def hacer_danho(self, other):\n",
        "        print('se hizo danho a ', str(other))"
      ],
      "execution_count": 0,
      "outputs": []
    },
    {
      "cell_type": "code",
      "metadata": {
        "id": "lRmunvtq-BAH",
        "colab_type": "code",
        "outputId": "2fb25899-ef1f-4c03-dbb1-cc8fdcf48bcb",
        "colab": {}
      },
      "source": [
        "e1 = Enemigo()\n",
        "e1.hacer_danho('jugador')"
      ],
      "execution_count": 0,
      "outputs": [
        {
          "output_type": "stream",
          "text": [
            "se hizo danho a  jugador\n"
          ],
          "name": "stdout"
        }
      ]
    },
    {
      "cell_type": "markdown",
      "metadata": {
        "id": "6-5DGZtJ-BAJ",
        "colab_type": "text"
      },
      "source": [
        "### Métodos Estáticos\n",
        "Los métodos estáticos están asociados directamente a la clase, por ende pueden ser llamados sin necesidad de instanciar la clase.  \n",
        "Para crear un método estático se usa el decorador `@staticmethod`"
      ]
    },
    {
      "cell_type": "code",
      "metadata": {
        "id": "TT4wltIH-BAJ",
        "colab_type": "code",
        "colab": {}
      },
      "source": [
        "class Enemigo(object):\n",
        "    \n",
        "    @staticmethod\n",
        "    def detalles():\n",
        "        print('Esta es una clase de enemigo')\n",
        "    \n",
        "    def hacer_danho(self, other):\n",
        "        print('se hizo danho a ', str(other))"
      ],
      "execution_count": 0,
      "outputs": []
    },
    {
      "cell_type": "code",
      "metadata": {
        "id": "clfXEkia-BAL",
        "colab_type": "code",
        "outputId": "61c44705-a012-4713-dd4b-1c7eaeef24d0",
        "colab": {}
      },
      "source": [
        "Enemigo.detalles()"
      ],
      "execution_count": 0,
      "outputs": [
        {
          "output_type": "stream",
          "text": [
            "Esta es una clase de enemigo\n"
          ],
          "name": "stdout"
        }
      ]
    },
    {
      "cell_type": "markdown",
      "metadata": {
        "id": "zH-salbv-BAN",
        "colab_type": "text"
      },
      "source": [
        "### Métodos Especiales\n",
        "Previamente se han visto las funciones `len()` y `str()` que retornan valores basados en los objetos; la longitud en caso de `len()` y un `string` en caso de `str()`.  \n",
        "Contrario a lo aparente, la funcionalidad de estas funciones depende de la implementación de funciones especiales en la propias clases"
      ]
    },
    {
      "cell_type": "code",
      "metadata": {
        "id": "NeqKjhpI-BAN",
        "colab_type": "code",
        "colab": {}
      },
      "source": [
        "class Enemigo(object):\n",
        "    tipo = 'algún tipo'\n",
        "    def __str__(self):\n",
        "        return Enemigo.tipo"
      ],
      "execution_count": 0,
      "outputs": []
    },
    {
      "cell_type": "code",
      "metadata": {
        "id": "qdlOAPJj-BAQ",
        "colab_type": "code",
        "outputId": "8f6ce737-694c-4135-fc02-5ebc8c2783a2",
        "colab": {}
      },
      "source": [
        "e1 = Enemigo()\n",
        "str(e1)"
      ],
      "execution_count": 0,
      "outputs": [
        {
          "output_type": "execute_result",
          "data": {
            "text/plain": [
              "'algún tipo'"
            ]
          },
          "metadata": {
            "tags": []
          },
          "execution_count": 22
        }
      ]
    },
    {
      "cell_type": "markdown",
      "metadata": {
        "id": "iwmou0HD-BAS",
        "colab_type": "text"
      },
      "source": [
        "## Scopes Revisitados\n",
        "Se sabe que hay dos tipo de atributos en Python. Los atributos de una clase también pueden ser referidos como variables"
      ]
    },
    {
      "cell_type": "markdown",
      "metadata": {
        "id": "2ZSAzOSm-BAT",
        "colab_type": "text"
      },
      "source": [
        "### Variables Locales\n",
        "Una variable local es unba variable que solo puede ser accesada dentro del bloque de código en el que fue declarado."
      ]
    },
    {
      "cell_type": "code",
      "metadata": {
        "id": "ZIZFbXJL-BAU",
        "colab_type": "code",
        "colab": {}
      },
      "source": [
        "class Enemigo(object):\n",
        "    \n",
        "    def rugir(self):\n",
        "        message = \"ROOAAARRRR\"\n",
        "        return message"
      ],
      "execution_count": 0,
      "outputs": []
    },
    {
      "cell_type": "code",
      "metadata": {
        "id": "Bb0SxHao-BAX",
        "colab_type": "code",
        "outputId": "e7bc9bc9-46d9-4394-d0ed-3e7a75213708",
        "colab": {}
      },
      "source": [
        "e1 = Enemigo()\n",
        "e1.message"
      ],
      "execution_count": 0,
      "outputs": [
        {
          "output_type": "error",
          "ename": "AttributeError",
          "evalue": "'Enemigo' object has no attribute 'message'",
          "traceback": [
            "\u001b[1;31m---------------------------------------------------------------------------\u001b[0m",
            "\u001b[1;31mAttributeError\u001b[0m                            Traceback (most recent call last)",
            "\u001b[1;32m<ipython-input-31-66692bbcaab6>\u001b[0m in \u001b[0;36m<module>\u001b[1;34m\u001b[0m\n\u001b[0;32m      1\u001b[0m \u001b[0me1\u001b[0m \u001b[1;33m=\u001b[0m \u001b[0mEnemigo\u001b[0m\u001b[1;33m(\u001b[0m\u001b[1;33m)\u001b[0m\u001b[1;33m\u001b[0m\u001b[1;33m\u001b[0m\u001b[0m\n\u001b[1;32m----> 2\u001b[1;33m \u001b[0me1\u001b[0m\u001b[1;33m.\u001b[0m\u001b[0mmessage\u001b[0m\u001b[1;33m\u001b[0m\u001b[1;33m\u001b[0m\u001b[0m\n\u001b[0m",
            "\u001b[1;31mAttributeError\u001b[0m: 'Enemigo' object has no attribute 'message'"
          ]
        }
      ]
    },
    {
      "cell_type": "markdown",
      "metadata": {
        "id": "7iwrKhaH-BAa",
        "colab_type": "text"
      },
      "source": [
        "### Variables Globales\n",
        "Una variable global es definida fuera de un bloque de código y puede ser llamada desde cualquier punto de la clase."
      ]
    },
    {
      "cell_type": "code",
      "metadata": {
        "id": "KKbP5mE7-BAb",
        "colab_type": "code",
        "colab": {}
      },
      "source": [
        "class Enemigo(object):\n",
        "    tipo = 'Un tipo'\n",
        "    \n",
        "    def rugir(self):\n",
        "        message = \"ROOAAARRRR\"\n",
        "        return message"
      ],
      "execution_count": 0,
      "outputs": []
    },
    {
      "cell_type": "code",
      "metadata": {
        "id": "VMrRdphu-BAc",
        "colab_type": "code",
        "outputId": "214b53f1-d951-47b3-9d7a-d0e09b6f6014",
        "colab": {}
      },
      "source": [
        "e1 = Enemigo()\n",
        "e1.tipo"
      ],
      "execution_count": 0,
      "outputs": [
        {
          "output_type": "execute_result",
          "data": {
            "text/plain": [
              "'Un tipo'"
            ]
          },
          "metadata": {
            "tags": []
          },
          "execution_count": 33
        }
      ]
    },
    {
      "cell_type": "markdown",
      "metadata": {
        "id": "QkKIRiye-BAe",
        "colab_type": "text"
      },
      "source": [
        "Adicionalmente Python ofrece el nombre global `self` para declarar atributos de instancia dentro de bloques de código"
      ]
    },
    {
      "cell_type": "code",
      "metadata": {
        "id": "9NLOALAU-BAf",
        "colab_type": "code",
        "colab": {}
      },
      "source": [
        "class Enemigo(object):\n",
        "    def __init__(self):\n",
        "        self.vida = 100"
      ],
      "execution_count": 0,
      "outputs": []
    },
    {
      "cell_type": "code",
      "metadata": {
        "id": "jq8F07BH-BAj",
        "colab_type": "code",
        "outputId": "58375a73-fe6b-4ad1-f9e7-19f0acb1e7a7",
        "colab": {}
      },
      "source": [
        "e1 = Enemigo()\n",
        "e1.vida"
      ],
      "execution_count": 0,
      "outputs": [
        {
          "output_type": "execute_result",
          "data": {
            "text/plain": [
              "100"
            ]
          },
          "metadata": {
            "tags": []
          },
          "execution_count": 35
        }
      ]
    },
    {
      "cell_type": "markdown",
      "metadata": {
        "id": "SDl3vLrb-BAm",
        "colab_type": "text"
      },
      "source": [
        "## Modificadores de acceso\n",
        "Al igual que en otros lenaguajes orientados a objetos es posible modificar el acceso de forma similar, soportando acceso público, privado y protegido."
      ]
    },
    {
      "cell_type": "code",
      "metadata": {
        "id": "uqWF_QaF-BAn",
        "colab_type": "code",
        "colab": {}
      },
      "source": [
        "class Enemigo(object):\n",
        "    def __init__(self):\n",
        "        self.name = \"\"      # público\n",
        "        self._raza = \"\"     # protegido\n",
        "        self.__tipo = \"\"    # privado"
      ],
      "execution_count": 0,
      "outputs": []
    },
    {
      "cell_type": "markdown",
      "metadata": {
        "id": "mZ3pp1RrNK6L",
        "colab_type": "text"
      },
      "source": [
        "Como Se puede ver, cada modificador de acceso limita a cada variable de la siguiente forma:\n",
        "*  **Publico**: Puede ser accesado desde cualquier punto del programa.\n",
        "*  **Protegida**: Puede ser accedida desde el mismo paquete.\n",
        "*  **privada**: Solo puede ser accedida desde la propia clase."
      ]
    },
    {
      "cell_type": "code",
      "metadata": {
        "id": "4GoYkT4C-BAo",
        "colab_type": "code",
        "outputId": "3cf4a04f-efc3-4e7a-bf34-e2390a7380b0",
        "colab": {}
      },
      "source": [
        "e1 = Enemigo()\n",
        "e1.name\n",
        "e1._raza\n",
        "e1.__tipo"
      ],
      "execution_count": 0,
      "outputs": [
        {
          "output_type": "error",
          "ename": "AttributeError",
          "evalue": "'Enemigo' object has no attribute '__tipo'",
          "traceback": [
            "\u001b[1;31m---------------------------------------------------------------------------\u001b[0m",
            "\u001b[1;31mAttributeError\u001b[0m                            Traceback (most recent call last)",
            "\u001b[1;32m<ipython-input-40-d34a07b262e8>\u001b[0m in \u001b[0;36m<module>\u001b[1;34m\u001b[0m\n\u001b[0;32m      2\u001b[0m \u001b[0me1\u001b[0m\u001b[1;33m.\u001b[0m\u001b[0mname\u001b[0m\u001b[1;33m\u001b[0m\u001b[1;33m\u001b[0m\u001b[0m\n\u001b[0;32m      3\u001b[0m \u001b[0me1\u001b[0m\u001b[1;33m.\u001b[0m\u001b[0m_raza\u001b[0m\u001b[1;33m\u001b[0m\u001b[1;33m\u001b[0m\u001b[0m\n\u001b[1;32m----> 4\u001b[1;33m \u001b[0me1\u001b[0m\u001b[1;33m.\u001b[0m\u001b[0m__tipo\u001b[0m\u001b[1;33m\u001b[0m\u001b[1;33m\u001b[0m\u001b[0m\n\u001b[0m",
            "\u001b[1;31mAttributeError\u001b[0m: 'Enemigo' object has no attribute '__tipo'"
          ]
        }
      ]
    },
    {
      "cell_type": "markdown",
      "metadata": {
        "id": "3DANM5f1-BAq",
        "colab_type": "text"
      },
      "source": [
        "## Herencia\n",
        "La herencia es un método en el cual una clase es capaz de ampliar la funcionalidad presente en esta.  \n",
        "para lograr esto usamos la sintaxis:\n",
        "\n",
        "```python\n",
        "class Clasepadre(object):\n",
        "    expresiones\n",
        "\n",
        "class NuevaClase(ClasePadre):\n",
        "    pass\n",
        "```\n",
        "\n",
        "Como se ha visto previamente todas las clases heredan de `object` por defecto"
      ]
    },
    {
      "cell_type": "code",
      "metadata": {
        "id": "f7JrVg5f-BAq",
        "colab_type": "code",
        "colab": {}
      },
      "source": [
        "class Enemigo(object):\n",
        "    def __init__(self):\n",
        "        self.name = \"\"     \n",
        "        self.tipo = \"\"   "
      ],
      "execution_count": 0,
      "outputs": []
    },
    {
      "cell_type": "markdown",
      "metadata": {
        "id": "vFP0N05PTBdU",
        "colab_type": "text"
      },
      "source": [
        "### Ejercicio:\n",
        "Declare una clase derivada de la clase `Enemigo` provista"
      ]
    },
    {
      "cell_type": "code",
      "metadata": {
        "id": "83lAusHPUA7t",
        "colab_type": "code",
        "colab": {}
      },
      "source": [
        ""
      ],
      "execution_count": 0,
      "outputs": []
    },
    {
      "cell_type": "markdown",
      "metadata": {
        "id": "V-4GbtxT-BAw",
        "colab_type": "text"
      },
      "source": [
        "## Polimorfismo\n",
        "El polimorfismo, como dice el nombre; es la capacidad de tener diferentes fomas. En Programación orientada a objetos es una técnica que permite a una clase ser utilizada como otra.  \n",
        "En Java el polimorfismo se logra mediante el uso de clases de tipo `Interface` de la siguiente forma:\n",
        "\n",
        "```java\n",
        "public class Clase implements Funcionalidad {\n",
        "    ...\n",
        "}\n",
        "```\n",
        "\n",
        "Python no cuenta con interfaces, pero los nombres pueden ser utilizados sin ningún problema. Siguiendo esta lógica el Polimorfismo se aplica de la siguiente forma:"
      ]
    },
    {
      "cell_type": "code",
      "metadata": {
        "id": "LkL0nqCv-BAx",
        "colab_type": "code",
        "colab": {}
      },
      "source": [
        "class Ave(object):\n",
        "    def volar(self):\n",
        "        return NotImplemented\n",
        "\n",
        "class Pinguino(object):\n",
        "    def volar(self):\n",
        "        print('los pinguinos no vuelan')\n",
        "        \n",
        "class Grulla(object):\n",
        "    def volar(self):\n",
        "        print('las grullas vuelan')"
      ],
      "execution_count": 0,
      "outputs": []
    },
    {
      "cell_type": "code",
      "metadata": {
        "id": "RDE-XgCweFxx",
        "colab_type": "code",
        "outputId": "0fbf78c0-7d04-406f-e1f9-73fa6fe22707",
        "colab": {
          "base_uri": "https://localhost:8080/",
          "height": 51
        }
      },
      "source": [
        "p = Pinguino()\n",
        "p.volar()\n",
        "\n",
        "g = Grulla()\n",
        "g.volar()"
      ],
      "execution_count": 0,
      "outputs": [
        {
          "output_type": "stream",
          "text": [
            "los pinguinos no vuelan\n",
            "las grullas vuelan\n"
          ],
          "name": "stdout"
        }
      ]
    },
    {
      "cell_type": "markdown",
      "metadata": {
        "id": "FO2hjYhtfiTl",
        "colab_type": "text"
      },
      "source": [
        "Este comportamiento en adición a la habilidad de herencia múltiple, permite que Python sea increiblemente flexible."
      ]
    },
    {
      "cell_type": "markdown",
      "metadata": {
        "id": "NzXyjs97-BAy",
        "colab_type": "text"
      },
      "source": [
        "### Sobrecarga de métodos\n",
        "En el proceso de herencia suele ocurrir que se desea que un método posea un comportamiento diferente según la clase que lo implementa. La sobrecarga de métodos es una técnica que Python utiliza para añadir funcionalidad en una nueva clase."
      ]
    },
    {
      "cell_type": "code",
      "metadata": {
        "id": "az_dYBvk-BA0",
        "colab_type": "code",
        "colab": {}
      },
      "source": [
        "class Enemigo:\n",
        "    def __init__(self):\n",
        "        self.name = \"\"     \n",
        "        self.tipo = \"\"   \n",
        "\n",
        "    def rugir(self):\n",
        "        return NotImplemented\n",
        "    \n",
        "class Orco(Enemigo):\n",
        "    def __init__(self, name):\n",
        "        super.__init__()\n",
        "        self.name = name\n",
        "        self.tipo = orco\n",
        "    \n",
        "    def rugir(self):\n",
        "        print('ROOOARRR!!!')"
      ],
      "execution_count": 0,
      "outputs": []
    },
    {
      "cell_type": "markdown",
      "metadata": {
        "id": "c7vY67xO-BA1",
        "colab_type": "text"
      },
      "source": [
        "### Anulación de Métodos\n",
        "La anulación de métodos es una tecnica similar a la sobrecarga, ya que permite crear múltiples implementaciones del mismo método dentro de una clase. Para hacer uso de la anulación de métodos solo es necesario hacer uso de los argumentos prenombrados de Python. De esta forma es posible implementar diversos comportamientos"
      ]
    },
    {
      "cell_type": "code",
      "metadata": {
        "id": "gZDF1QbJ-BA2",
        "colab_type": "code",
        "colab": {}
      },
      "source": [
        "class Orco(Enemigo):\n",
        "    def __init__(self, name):\n",
        "        super(Orco, self).__init__()\n",
        "        self.name = name\n",
        "        self.tipo = 'orco'\n",
        "    \n",
        "    def rugir(self, rugido='ROOOARRR!!!'):\n",
        "        print(rugido)"
      ],
      "execution_count": 0,
      "outputs": []
    },
    {
      "cell_type": "code",
      "metadata": {
        "id": "aRFuv7JwmRRc",
        "colab_type": "code",
        "outputId": "d6bf40aa-b559-4664-997a-50b41f33c4ea",
        "colab": {
          "base_uri": "https://localhost:8080/",
          "height": 51
        }
      },
      "source": [
        "o = Orco('')\n",
        "o.rugir()\n",
        "o.rugir('roarr')"
      ],
      "execution_count": 0,
      "outputs": [
        {
          "output_type": "stream",
          "text": [
            "ROOOARRR!!!\n",
            "roarr\n"
          ],
          "name": "stdout"
        }
      ]
    },
    {
      "cell_type": "markdown",
      "metadata": {
        "id": "klKZ6BE2-BA6",
        "colab_type": "text"
      },
      "source": [
        "## Sobrecarga de Operadores\n",
        "Asimismo como hay funciones especiales que definen el comportamiento de `str` y `len`. Hay funciones que definen el comportamiento de los operadores en Python. Siguiendo la misma lógica que hemos visto con respecto a la herencia, es posible crear definiciones personalizadas de como estas operaciones se comportan para los tipos definidos por el usuario."
      ]
    },
    {
      "cell_type": "markdown",
      "metadata": {
        "id": "JFu9OSwb-BA8",
        "colab_type": "text"
      },
      "source": [
        "### Operadores Aritméticos\n",
        "Los operadores aritméticos son aquellos que permiten operar dos objetos matemáticamente habalndo. Estos incluyen la suma, resta, multiplicación y división.  \n",
        "Se aconseja que estas posean las propiedades matemáticas relevantes para su tipo especifico."
      ]
    },
    {
      "cell_type": "code",
      "metadata": {
        "id": "mgzmdFun-BA8",
        "colab_type": "code",
        "colab": {}
      },
      "source": [
        "import numbers\n",
        "\n",
        "class Vector2D:\n",
        "    def __init__(self, x=0, y=0):\n",
        "        self.x = x\n",
        "        self.y = y\n",
        "    \n",
        "    def __str__(self): \n",
        "        return \"({0},{1})\".format(self.x,self.y)\n",
        "    \n",
        "    def __add__(self, other):\n",
        "        return Vector2D(x=self.x+other.x, y=self.y+other.y)\n",
        "        "
      ],
      "execution_count": 0,
      "outputs": []
    },
    {
      "cell_type": "code",
      "metadata": {
        "id": "mY5e__jJrd-a",
        "colab_type": "code",
        "outputId": "65f985bf-f709-48c5-db95-734b254674b4",
        "colab": {
          "base_uri": "https://localhost:8080/",
          "height": 34
        }
      },
      "source": [
        "v_0 = Vector2D()\n",
        "v_1 = Vector2D(1, 1)\n",
        "\n",
        "v_2 = v_0 + v_1\n",
        "print(v_2)"
      ],
      "execution_count": 0,
      "outputs": [
        {
          "output_type": "stream",
          "text": [
            "(1,1)\n"
          ],
          "name": "stdout"
        }
      ]
    },
    {
      "cell_type": "markdown",
      "metadata": {
        "id": "NslzxDodtUnq",
        "colab_type": "text"
      },
      "source": [
        "#### Ejercicio:\n",
        "Implemente al multiplicación `__mul__` como el producto punto entre dos vectores y la multiplicación escalar."
      ]
    },
    {
      "cell_type": "code",
      "metadata": {
        "id": "Dqbj8lShth9j",
        "colab_type": "code",
        "colab": {}
      },
      "source": [
        ""
      ],
      "execution_count": 0,
      "outputs": []
    },
    {
      "cell_type": "markdown",
      "metadata": {
        "id": "NiO_liud-BA_",
        "colab_type": "text"
      },
      "source": [
        "### Operadores de comparación\n",
        "De igual manera los operadores de comparación son vitales al momento de ejecutar algoritmos de ordenamiento. Estos siguen la misma lógica de los operadores aritméticos\n",
        "\n",
        "#### Ejercicio:\n",
        "implemente los operadores de comparación <(`__le__`), y >(`__gt__`) de tal forma que comparen el vector basado en su longitud"
      ]
    },
    {
      "cell_type": "code",
      "metadata": {
        "id": "COSmSSZg-BA_",
        "colab_type": "code",
        "colab": {}
      },
      "source": [
        ""
      ],
      "execution_count": 0,
      "outputs": []
    },
    {
      "cell_type": "markdown",
      "metadata": {
        "id": "DkVG4Gyx-BBG",
        "colab_type": "text"
      },
      "source": [
        "### Operadores Unarios\n",
        "Estos son los operadores que sólo requieren un poerador para funcionar. Estos incluyen '+', '-' y '~'\n",
        "\n",
        "#### Ejercicio:\n",
        "Implemente el operador '-' (`__neg__`) de tal forma que invierta el vector al rededor del origen"
      ]
    },
    {
      "cell_type": "code",
      "metadata": {
        "id": "wpvIIteB-BBG",
        "colab_type": "code",
        "colab": {}
      },
      "source": [
        ""
      ],
      "execution_count": 0,
      "outputs": []
    },
    {
      "cell_type": "markdown",
      "metadata": {
        "id": "1mhflMkkwUnO",
        "colab_type": "text"
      },
      "source": [
        "### Accesadores\n",
        "De igual manera a los operadores, el acceso '[ ]' es definido con las funciones `__getitem__` y `__setitem__` con lo cual podemos lograr el comportamiento de una estructura de datos bien formada en Python.\n",
        "\n",
        "#### Ejercicio\n",
        "Implemente los accesores en la clase `Vector2D` para que pueda asignar y retirar las coordenadas con el literal.\n",
        "`vector['x']`"
      ]
    },
    {
      "cell_type": "code",
      "metadata": {
        "id": "ChqljTjxyKZG",
        "colab_type": "code",
        "colab": {}
      },
      "source": [
        ""
      ],
      "execution_count": 0,
      "outputs": []
    }
  ]
}