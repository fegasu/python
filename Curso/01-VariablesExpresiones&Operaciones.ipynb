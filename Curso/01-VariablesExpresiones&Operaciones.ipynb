{
 "cells": [
  {
   "cell_type": "markdown",
   "metadata": {},
   "source": [
    "# Variables, expresiones, operaciones básicas"
   ]
  },
  {
   "cell_type": "markdown",
   "metadata": {},
   "source": [
    "## Semántica\n",
    "Python es en principio pseudocódigo ejecutable regido por los siguientes principios:\n",
    "\n",
    "* Legibilidad\n",
    "* Sencillez\n",
    "* Claridad"
   ]
  },
  {
   "cell_type": "markdown",
   "metadata": {},
   "source": [
    "#### Ejemplo de código en Java\n",
    "```Java\n",
    "public class Test {\n",
    "    public static void main(String args[]){\n",
    "        System.out.println(\"Hello, World!\")\n",
    "    }\n",
    "}\n",
    "```"
   ]
  },
  {
   "cell_type": "markdown",
   "metadata": {},
   "source": [
    "#### Ahora la misma funcionalidad en Python\n",
    "Una de las consecuencias de estos principios es un código mucho más fácil de leer y menos verboso."
   ]
  },
  {
   "cell_type": "code",
   "execution_count": 2,
   "metadata": {},
   "outputs": [
    {
     "name": "stdout",
     "output_type": "stream",
     "text": [
      "Hello, World!\n"
     ]
    }
   ],
   "source": [
    "print(\"Hello, World!\")"
   ]
  },
  {
   "cell_type": "markdown",
   "metadata": {},
   "source": [
    "### Ejercicio\n",
    "\n",
    "Imprima el nombre de alguna mascota"
   ]
  },
  {
   "cell_type": "code",
   "execution_count": null,
   "metadata": {},
   "outputs": [],
   "source": []
  },
  {
   "cell_type": "markdown",
   "metadata": {},
   "source": [
    "### Indentación"
   ]
  },
  {
   "cell_type": "markdown",
   "metadata": {},
   "source": [
    "A diferencia de otros lenguajes derivados de **C**, Python utiliza espcaios en blanco (tabulaciones) para estructurar el código en vez de corchetes \"_{}_\""
   ]
  },
  {
   "cell_type": "code",
   "execution_count": 3,
   "metadata": {},
   "outputs": [
    {
     "name": "stdout",
     "output_type": "stream",
     "text": [
      "apple\n",
      "banana\n",
      "cherry\n"
     ]
    }
   ],
   "source": [
    "fruits = [\"apple\", \"banana\", \"cherry\"]\n",
    "for x in fruits:\n",
    "    print(x)"
   ]
  },
  {
   "cell_type": "markdown",
   "metadata": {},
   "source": [
    "* Los dos puntos \"_:_\" indican el inicio de un bloque indentado\n",
    "* Según la guia de estilo de Python, [**PEP8**](https://www.python.org/dev/peps/pep-0008/#indentation) se usan cuatro espacios por cada nivel de indentación"
   ]
  },
  {
   "cell_type": "code",
   "execution_count": 3,
   "metadata": {},
   "outputs": [
    {
     "name": "stdout",
     "output_type": "stream",
     "text": [
      "5 6 7\n"
     ]
    }
   ],
   "source": [
    "a, b, c = 5, 6, 7 ;print(a, b, c)"
   ]
  },
  {
   "cell_type": "markdown",
   "metadata": {},
   "source": [
    "El punto y coma \"_;_\" no es utlizado, a menos que se desee insertar multiples operaciones en una sola linea. Adicionalemtne las comas \"*,*\" permiten realizar asignaciones en paralelo"
   ]
  },
  {
   "cell_type": "markdown",
   "metadata": {},
   "source": [
    "### Ejercicio\n",
    "\n",
    "Cree una variable llamada `familiares` que contenga el nombre de cinco familiares como lo vio en el ejercicio de las frutas e imprima sus nombres. "
   ]
  },
  {
   "cell_type": "code",
   "execution_count": null,
   "metadata": {},
   "outputs": [],
   "source": []
  },
  {
   "cell_type": "markdown",
   "metadata": {},
   "source": [
    "### Objetos\n",
    "Los objetos son la forma en la que python abstrae los datos (esto se realiza por conveniencia dado que python es un lenguaje multiparadigma). Todos los datos de un programa en Python son representados como objetos o relaciones entre objetos.  \n",
    "Todos los objetos en Python poseen un nombre, un tipo y un valor asociado."
   ]
  },
  {
   "cell_type": "code",
   "execution_count": 6,
   "metadata": {},
   "outputs": [
    {
     "name": "stdout",
     "output_type": "stream",
     "text": [
      "<class 'function'>\n",
      "<class 'int'>\n"
     ]
    }
   ],
   "source": [
    "def test():\n",
    "    pass\n",
    "\n",
    "print(type(test))\n",
    "\n",
    "a = 5\n",
    "print(type(a))"
   ]
  },
  {
   "cell_type": "markdown",
   "metadata": {},
   "source": [
    "### Comentarios\n",
    "Como es de esperarse, Python soporta comentarios. Estos son indicados por numerales \"_#_\" e ignoran el resto de la linea.  \n",
    "Sus usos incluyen:\n",
    "* Agregar comentarios utiles sobre el código\n",
    "* Excluir bloques de código de la ejecución"
   ]
  },
  {
   "cell_type": "code",
   "execution_count": 8,
   "metadata": {},
   "outputs": [
    {
     "name": "stdout",
     "output_type": "stream",
     "text": [
      "5\n"
     ]
    }
   ],
   "source": [
    "a = 5\n",
    "# b = 6\n",
    "print(a) # imprime a"
   ]
  },
  {
   "cell_type": "markdown",
   "metadata": {},
   "source": [
    "### Manejo de Variables & Argumentos"
   ]
  },
  {
   "cell_type": "markdown",
   "metadata": {},
   "source": [
    "#### ¿Que valor toma b?\n",
    "Debajo de la funcionalidad de python todos los datos no puros (e.g. listas) son manejados como apuntadores a memoria. Teniendo esto en cuenta la asignación `b = a` no realiza una copia de los datos, a diferencia de otros lenguajes. Dado esto los nombres `a` y `b` se refieren al mismo objeto."
   ]
  },
  {
   "cell_type": "code",
   "execution_count": 26,
   "metadata": {},
   "outputs": [
    {
     "name": "stdout",
     "output_type": "stream",
     "text": [
      "[1, 2, 3, 4] [1, 2, 3, 4]\n",
      "0x1cc3a23db48 0x1cc3a23db48\n"
     ]
    }
   ],
   "source": [
    "a = [1, 2, 3]\n",
    "b = a\n",
    "\n",
    "# comprobación\n",
    "a.append(4)\n",
    "\n",
    "print(a, b)\n",
    "# hex(id(var)) retoorna un identificador unico,\n",
    "# la posición absoluta en memoria en el caso de las distribuciones estándar\n",
    "print(hex(id(a)), hex(id(b)))"
   ]
  },
  {
   "cell_type": "markdown",
   "metadata": {},
   "source": [
    "#### Pasando Variables como Argumentos\n",
    "Cuando se pasan objetos como argumentos en una función, se crean nuevas variables dentro de la función."
   ]
  },
  {
   "cell_type": "code",
   "execution_count": 1,
   "metadata": {},
   "outputs": [
    {
     "name": "stdout",
     "output_type": "stream",
     "text": [
      "x tiene el valor de 12\n",
      "x tiene el valor de 10\n"
     ]
    }
   ],
   "source": [
    "x = 10\n",
    "\n",
    "def sumar_dos(numero):\n",
    "    numero = numero + 2\n",
    "    print(\"x tiene el valor de\",numero)\n",
    "\n",
    "sumar_dos(x)\n",
    "print(\"x tiene el valor de\",x)"
   ]
  },
  {
   "cell_type": "markdown",
   "metadata": {},
   "source": [
    "Si se hace una asignación dentro de una función, el cambio no se ve fuera de esta."
   ]
  },
  {
   "cell_type": "code",
   "execution_count": 27,
   "metadata": {},
   "outputs": [
    {
     "name": "stdout",
     "output_type": "stream",
     "text": [
      "[1, 2, 3, 4]\n"
     ]
    }
   ],
   "source": [
    "def agregar(lista, elemento):\n",
    "    lista.append(elemento)\n",
    "    \n",
    "data = [1, 2, 3]\n",
    "agregar(data, 4)\n",
    "\n",
    "# comprobación\n",
    "print(data) "
   ]
  },
  {
   "cell_type": "markdown",
   "metadata": {},
   "source": [
    "Sin embargo, es posible modificar un argumento mutable."
   ]
  },
  {
   "cell_type": "markdown",
   "metadata": {},
   "source": [
    "### Ejercicio\n",
    "\n",
    "Cree una función que reciba dos números y los multiplique"
   ]
  },
  {
   "cell_type": "code",
   "execution_count": null,
   "metadata": {},
   "outputs": [],
   "source": []
  },
  {
   "cell_type": "markdown",
   "metadata": {},
   "source": [
    "### Referencias Dinámicas & Tipado"
   ]
  },
  {
   "cell_type": "markdown",
   "metadata": {},
   "source": [
    "Las _referencias_ en python no tienen un tipo de dato asociado, en vez de esto, la información del tipo de objeto es almacenada en el objeto mismo sin reflejarse en el nombre de la referencia."
   ]
  },
  {
   "cell_type": "markdown",
   "metadata": {},
   "source": [
    "#### Ejemplo en Java\n",
    "```java\n",
    "int number = 7;\n",
    "```"
   ]
  },
  {
   "cell_type": "markdown",
   "metadata": {},
   "source": [
    "#### El mismo ejemplo en Python"
   ]
  },
  {
   "cell_type": "code",
   "execution_count": 3,
   "metadata": {},
   "outputs": [
    {
     "data": {
      "text/plain": [
       "int"
      ]
     },
     "execution_count": 3,
     "metadata": {},
     "output_type": "execute_result"
    }
   ],
   "source": [
    "number = 5\n",
    "type(number)"
   ]
  },
  {
   "cell_type": "markdown",
   "metadata": {},
   "source": [
    "Todo objeto en Python tiene un tipo específico. Solo se realizan conversiones implícitas en circunstancias obvias"
   ]
  },
  {
   "cell_type": "code",
   "execution_count": 7,
   "metadata": {},
   "outputs": [
    {
     "data": {
      "text/plain": [
       "2.5"
      ]
     },
     "execution_count": 7,
     "metadata": {},
     "output_type": "execute_result"
    }
   ],
   "source": [
    "a = 5\n",
    "b = 2\n",
    "a / b"
   ]
  },
  {
   "cell_type": "code",
   "execution_count": 9,
   "metadata": {},
   "outputs": [
    {
     "ename": "TypeError",
     "evalue": "unsupported operand type(s) for +: 'int' and 'str'",
     "output_type": "error",
     "traceback": [
      "\u001b[1;31m---------------------------------------------------------------------------\u001b[0m",
      "\u001b[1;31mTypeError\u001b[0m                                 Traceback (most recent call last)",
      "\u001b[1;32m<ipython-input-9-76fc485f9842>\u001b[0m in \u001b[0;36m<module>\u001b[1;34m\u001b[0m\n\u001b[0;32m      1\u001b[0m \u001b[0ma\u001b[0m \u001b[1;33m=\u001b[0m \u001b[1;36m5\u001b[0m\u001b[1;33m\u001b[0m\u001b[1;33m\u001b[0m\u001b[0m\n\u001b[0;32m      2\u001b[0m \u001b[0mb\u001b[0m \u001b[1;33m=\u001b[0m \u001b[1;34m'5'\u001b[0m\u001b[1;33m\u001b[0m\u001b[1;33m\u001b[0m\u001b[0m\n\u001b[1;32m----> 3\u001b[1;33m \u001b[0ma\u001b[0m \u001b[1;33m+\u001b[0m \u001b[0mb\u001b[0m\u001b[1;33m\u001b[0m\u001b[1;33m\u001b[0m\u001b[0m\n\u001b[0m",
      "\u001b[1;31mTypeError\u001b[0m: unsupported operand type(s) for +: 'int' and 'str'"
     ]
    }
   ],
   "source": [
    "a = 5 \n",
    "b = '5'\n",
    "a + b"
   ]
  },
  {
   "cell_type": "markdown",
   "metadata": {},
   "source": [
    "#### ¿Cómo identificar el tipo de una variable?\n",
    "Para identificar el tipo de una referencia en Python existen las siguientes funciones:\n",
    "* `type(var)`: Retorna un string identificando el tipo de la variable\n",
    "* `isinstance(var, type)`: Retorna True si el tipo de la variable coincide con el tipo especificado, False de lo contrario"
   ]
  },
  {
   "cell_type": "code",
   "execution_count": 12,
   "metadata": {},
   "outputs": [
    {
     "name": "stdout",
     "output_type": "stream",
     "text": [
      "<class 'str'>\n",
      "False\n"
     ]
    }
   ],
   "source": [
    "a = '5'\n",
    "print(type(a))\n",
    "print(isinstance(a, int))"
   ]
  },
  {
   "cell_type": "markdown",
   "metadata": {},
   "source": [
    "### Ejercicio\n",
    "\n",
    "¿Cuál es el tipo de los siguientes objetos?\n",
    "\n",
    "``` python\n",
    "a = (1, 3, 4)}\n",
    "b = {1, 4, 5}\n",
    "c = {\"saludo\":\"Hola\", \"despedida\": \"chao\"}\n",
    "d = None\n",
    "```"
   ]
  },
  {
   "cell_type": "code",
   "execution_count": null,
   "metadata": {},
   "outputs": [],
   "source": []
  },
  {
   "cell_type": "markdown",
   "metadata": {},
   "source": [
    "### Importar Módulos\n",
    "Los módulos son simplemente archivos o carpetas que contienen código Python.  \n",
    "Para importar un modulo existen diferentes métodos."
   ]
  },
  {
   "cell_type": "code",
   "execution_count": 19,
   "metadata": {},
   "outputs": [],
   "source": [
    "import datetime                            # Importa el modulo completo\n",
    "from datetime import time                  # Importa solo los nombres escritos\n",
    "from datetime import timedelta as delta    # Crea un alias del nombre importado"
   ]
  },
  {
   "cell_type": "markdown",
   "metadata": {},
   "source": [
    "### Atributos & Métodos\n",
    "* **Atributos**: Son objetos dentro de objetos\n",
    "* **Métodos**: Funciones asociadas al objeto que acceden a los datos internos del objeto"
   ]
  },
  {
   "cell_type": "code",
   "execution_count": 20,
   "metadata": {},
   "outputs": [
    {
     "data": {
      "text/plain": [
       "datetime.date(1999, 5, 15)"
      ]
     },
     "execution_count": 20,
     "metadata": {},
     "output_type": "execute_result"
    }
   ],
   "source": [
    "datetime.date(year=1999, month=5, day=15)"
   ]
  },
  {
   "cell_type": "markdown",
   "metadata": {},
   "source": [
    "### Operadores Binarios y Comparaciones\n",
    "Para validar si dos referencias apuntan al mismo objeto se puede usar el operador '_is_'"
   ]
  },
  {
   "cell_type": "code",
   "execution_count": 22,
   "metadata": {},
   "outputs": [
    {
     "name": "stdout",
     "output_type": "stream",
     "text": [
      "True\n",
      "False\n"
     ]
    }
   ],
   "source": [
    "a = [1, 2, 3]\n",
    "b = a\n",
    "print(a is b)\n",
    "print(a is not b)"
   ]
  },
  {
   "cell_type": "markdown",
   "metadata": {},
   "source": [
    "El objeto '**None**' es el valor nulo de python. En Python solo existe una instancia de este objeto."
   ]
  },
  {
   "cell_type": "code",
   "execution_count": 25,
   "metadata": {},
   "outputs": [
    {
     "name": "stdout",
     "output_type": "stream",
     "text": [
      "True\n",
      "0x5b9ea490\n"
     ]
    }
   ],
   "source": [
    "n = None\n",
    "print(n is None)\n",
    "print(hex(id(n))) # La dirección de None \n",
    "# siempre es la misma durante la ejecución"
   ]
  },
  {
   "cell_type": "markdown",
   "metadata": {},
   "source": [
    "### Tipos básicos de datos\n",
    "Python cuenta con una serie de tipos de datos en su librería estándar para manejar datos númericos, strings (cadenas de caracteres) y booleanos, entre otros.  \n",
    "Estos tipos de datos se conocen como \"Escalares\" pidienddo el nombre prestado de los valores matemáticos pertenecientes espacios de una dimensión."
   ]
  },
  {
   "cell_type": "code",
   "execution_count": 28,
   "metadata": {},
   "outputs": [
    {
     "name": "stdout",
     "output_type": "stream",
     "text": [
      "<class 'NoneType'>\n",
      "<class 'str'>\n",
      "<class 'bytes'>\n",
      "<class 'int'>\n",
      "<class 'float'>\n",
      "<class 'bool'>\n"
     ]
    }
   ],
   "source": [
    "a = None\n",
    "print(type(a))    # NoneType\n",
    "\n",
    "a = 'hello'\n",
    "print(type(a))    # str\n",
    "\n",
    "a = b'hello'\n",
    "print(type(a))    # bytes\n",
    "\n",
    "a = 1\n",
    "print(type(a))    # int\n",
    "\n",
    "a = 1.0\n",
    "print(type(a))    # float\n",
    "\n",
    "a = True\n",
    "print(type(a))    # bool"
   ]
  }
 ],
 "metadata": {
  "kernelspec": {
   "display_name": "Python 3",
   "language": "python",
   "name": "python3"
  },
  "language_info": {
   "codemirror_mode": {
    "name": "ipython",
    "version": 3
   },
   "file_extension": ".py",
   "mimetype": "text/x-python",
   "name": "python",
   "nbconvert_exporter": "python",
   "pygments_lexer": "ipython3",
   "version": "3.7.3"
  },
  "toc": {
   "base_numbering": 1,
   "nav_menu": {},
   "number_sections": false,
   "sideBar": true,
   "skip_h1_title": false,
   "title_cell": "Table of Contents",
   "title_sidebar": "Contents",
   "toc_cell": false,
   "toc_position": {},
   "toc_section_display": true,
   "toc_window_display": false
  }
 },
 "nbformat": 4,
 "nbformat_minor": 2
}
