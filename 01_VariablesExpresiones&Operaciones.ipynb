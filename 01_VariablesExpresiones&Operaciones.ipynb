{
  "nbformat": 4,
  "nbformat_minor": 0,
  "metadata": {
    "kernelspec": {
      "display_name": "Python 3",
      "language": "python",
      "name": "python3"
    },
    "language_info": {
      "codemirror_mode": {
        "name": "ipython",
        "version": 3
      },
      "file_extension": ".py",
      "mimetype": "text/x-python",
      "name": "python",
      "nbconvert_exporter": "python",
      "pygments_lexer": "ipython3",
      "version": "3.7.3"
    },
    "toc": {
      "base_numbering": 1,
      "nav_menu": {},
      "number_sections": false,
      "sideBar": true,
      "skip_h1_title": false,
      "title_cell": "Table of Contents",
      "title_sidebar": "Contents",
      "toc_cell": false,
      "toc_position": {},
      "toc_section_display": true,
      "toc_window_display": false
    },
    "colab": {
      "name": "01_VariablesExpresiones&Operaciones.ipynb",
      "provenance": [],
      "include_colab_link": true
    }
  },
  "cells": [
    {
      "cell_type": "markdown",
      "metadata": {
        "id": "view-in-github",
        "colab_type": "text"
      },
      "source": [
        "<a href=\"https://colab.research.google.com/github/fegasu/python/blob/master/01_VariablesExpresiones%26Operaciones.ipynb\" target=\"_parent\"><img src=\"https://colab.research.google.com/assets/colab-badge.svg\" alt=\"Open In Colab\"/></a>"
      ]
    },
    {
      "cell_type": "markdown",
      "metadata": {
        "id": "7u09Oae85yln"
      },
      "source": [
        "# Variables, expresiones, operaciones básicas"
      ]
    },
    {
      "cell_type": "markdown",
      "metadata": {
        "id": "Onp4-UW_5ylr"
      },
      "source": [
        "## Semántica\n",
        "Python es en principio pseudocódigo ejecutable regido por los siguientes principios:\n",
        "\n",
        "* Legibilidad\n",
        "* Sencillez\n",
        "* Claridad"
      ]
    },
    {
      "cell_type": "markdown",
      "metadata": {
        "id": "_sJksTUu5ylt"
      },
      "source": [
        "#### Ejemplo de código en Java\n",
        "```Java\n",
        "public class Test {\n",
        "    public static void main(String args[]){\n",
        "        System.out.println(\"Hello, World!\")\n",
        "    }\n",
        "}\n",
        "```"
      ]
    },
    {
      "cell_type": "markdown",
      "metadata": {
        "id": "ABEiiTg75ylu"
      },
      "source": [
        "#### Ahora la misma funcionalidad en Python\n",
        "Una de las consecuencias de estos principios es un código mucho más fácil de leer y menos verboso."
      ]
    },
    {
      "cell_type": "code",
      "metadata": {
        "id": "VxrIYrAX5ylw",
        "outputId": "8f7b46cd-53a7-4ecd-e0f5-0773a6b15ce4"
      },
      "source": [
        "print(\"Hello, World!\")"
      ],
      "execution_count": null,
      "outputs": [
        {
          "output_type": "stream",
          "text": [
            "Hello, World!\n"
          ],
          "name": "stdout"
        }
      ]
    },
    {
      "cell_type": "markdown",
      "metadata": {
        "id": "EhKCq4k25yl2"
      },
      "source": [
        "### Ejercicio\n",
        "\n",
        "Imprima el nombre de alguna mascota"
      ]
    },
    {
      "cell_type": "code",
      "metadata": {
        "id": "9_cTueYa5yl3"
      },
      "source": [
        ""
      ],
      "execution_count": null,
      "outputs": []
    },
    {
      "cell_type": "markdown",
      "metadata": {
        "id": "vnW7UouO5yl7"
      },
      "source": [
        "### Indentación"
      ]
    },
    {
      "cell_type": "markdown",
      "metadata": {
        "id": "jeDEUMkz5yl9"
      },
      "source": [
        "A diferencia de otros lenguajes derivados de **C**, Python utiliza espcaios en blanco (tabulaciones) para estructurar el código en vez de corchetes \"_{}_\""
      ]
    },
    {
      "cell_type": "code",
      "metadata": {
        "id": "ufuBr1h65yl-",
        "outputId": "a4034be7-7a20-4ecc-cb26-c51b3c64371a"
      },
      "source": [
        "fruits = [\"apple\", \"banana\", \"cherry\"]\n",
        "for x in fruits:\n",
        "    print(x)"
      ],
      "execution_count": null,
      "outputs": [
        {
          "output_type": "stream",
          "text": [
            "apple\n",
            "banana\n",
            "cherry\n"
          ],
          "name": "stdout"
        }
      ]
    },
    {
      "cell_type": "markdown",
      "metadata": {
        "id": "fA1YdUsC5ymC"
      },
      "source": [
        "* Los dos puntos \"_:_\" indican el inicio de un bloque indentado\n",
        "* Según la guia de estilo de Python, [**PEP8**](https://www.python.org/dev/peps/pep-0008/#indentation) se usan cuatro espacios por cada nivel de indentación"
      ]
    },
    {
      "cell_type": "code",
      "metadata": {
        "id": "oJkV7aVk5ymE",
        "outputId": "8cfe6249-096d-430b-b083-a69d30240764"
      },
      "source": [
        "a, b, c = 5, 6, 7 ;print(a, b, c)"
      ],
      "execution_count": null,
      "outputs": [
        {
          "output_type": "stream",
          "text": [
            "5 6 7\n"
          ],
          "name": "stdout"
        }
      ]
    },
    {
      "cell_type": "markdown",
      "metadata": {
        "id": "Kz5FDFZL5ymJ"
      },
      "source": [
        "El punto y coma \"_;_\" no es utlizado, a menos que se desee insertar multiples operaciones en una sola linea. Adicionalemtne las comas \"*,*\" permiten realizar asignaciones en paralelo"
      ]
    },
    {
      "cell_type": "markdown",
      "metadata": {
        "id": "H4-mM9ax5ymK"
      },
      "source": [
        "### Ejercicio\n",
        "\n",
        "Cree una variable llamada `familiares` que contenga el nombre de cinco familiares como lo vio en el ejercicio de las frutas e imprima sus nombres. "
      ]
    },
    {
      "cell_type": "code",
      "metadata": {
        "id": "6ostQwJp5ymM"
      },
      "source": [
        ""
      ],
      "execution_count": null,
      "outputs": []
    },
    {
      "cell_type": "markdown",
      "metadata": {
        "id": "TwxXDad_5ymP"
      },
      "source": [
        "### Objetos\n",
        "Los objetos son la forma en la que python abstrae los datos (esto se realiza por conveniencia dado que python es un lenguaje multiparadigma). Todos los datos de un programa en Python son representados como objetos o relaciones entre objetos.  \n",
        "Todos los objetos en Python poseen un nombre, un tipo y un valor asociado."
      ]
    },
    {
      "cell_type": "code",
      "metadata": {
        "id": "CTd1aCT35ymR",
        "outputId": "fd89eca7-c46e-406c-e1dc-e4a560960d7f"
      },
      "source": [
        "def test():\n",
        "    pass\n",
        "\n",
        "print(type(test))\n",
        "\n",
        "a = 5\n",
        "print(type(a))"
      ],
      "execution_count": null,
      "outputs": [
        {
          "output_type": "stream",
          "text": [
            "<class 'function'>\n",
            "<class 'int'>\n"
          ],
          "name": "stdout"
        }
      ]
    },
    {
      "cell_type": "markdown",
      "metadata": {
        "id": "rskZvqmo5ymV"
      },
      "source": [
        "### Comentarios\n",
        "Como es de esperarse, Python soporta comentarios. Estos son indicados por numerales \"_#_\" e ignoran el resto de la linea.  \n",
        "Sus usos incluyen:\n",
        "* Agregar comentarios utiles sobre el código\n",
        "* Excluir bloques de código de la ejecución"
      ]
    },
    {
      "cell_type": "code",
      "metadata": {
        "id": "DlRjxj6V5ymW",
        "outputId": "ac86b93e-dfc7-4959-f9bf-e76d726dc134"
      },
      "source": [
        "a = 5\n",
        "# b = 6\n",
        "print(a) # imprime a"
      ],
      "execution_count": null,
      "outputs": [
        {
          "output_type": "stream",
          "text": [
            "5\n"
          ],
          "name": "stdout"
        }
      ]
    },
    {
      "cell_type": "markdown",
      "metadata": {
        "id": "_om7fGBk5ymb"
      },
      "source": [
        "### Manejo de Variables & Argumentos"
      ]
    },
    {
      "cell_type": "markdown",
      "metadata": {
        "id": "hDPoBQ6x5ymc"
      },
      "source": [
        "#### ¿Que valor toma b?\n",
        "Debajo de la funcionalidad de python todos los datos no puros (e.g. listas) son manejados como apuntadores a memoria. Teniendo esto en cuenta la asignación `b = a` no realiza una copia de los datos, a diferencia de otros lenguajes. Dado esto los nombres `a` y `b` se refieren al mismo objeto."
      ]
    },
    {
      "cell_type": "code",
      "metadata": {
        "id": "Nfs-5KVB5ymd",
        "outputId": "4c68fd87-2015-4ac3-d888-ecce0dd3ed79"
      },
      "source": [
        "a = [1, 2, 3]\n",
        "b = a\n",
        "\n",
        "# comprobación\n",
        "a.append(4)\n",
        "\n",
        "print(a, b)\n",
        "# hex(id(var)) retoorna un identificador unico,\n",
        "# la posición absoluta en memoria en el caso de las distribuciones estándar\n",
        "print(hex(id(a)), hex(id(b)))"
      ],
      "execution_count": null,
      "outputs": [
        {
          "output_type": "stream",
          "text": [
            "[1, 2, 3, 4] [1, 2, 3, 4]\n",
            "0x1cc3a23db48 0x1cc3a23db48\n"
          ],
          "name": "stdout"
        }
      ]
    },
    {
      "cell_type": "markdown",
      "metadata": {
        "id": "9u671Vh15ymh"
      },
      "source": [
        "#### Pasando Variables como Argumentos\n",
        "Cuando se pasan objetos como argumentos en una función, se crean nuevas variables dentro de la función."
      ]
    },
    {
      "cell_type": "code",
      "metadata": {
        "id": "OuINg9Xn5ymi",
        "outputId": "cfc62913-85f3-4e8e-8eba-3d8882ab4287"
      },
      "source": [
        "x = 10\n",
        "\n",
        "def sumar_dos(numero):\n",
        "    numero = numero + 2\n",
        "    print(\"x tiene el valor de\",numero)\n",
        "\n",
        "sumar_dos(x)\n",
        "print(\"x tiene el valor de\",x)"
      ],
      "execution_count": null,
      "outputs": [
        {
          "output_type": "stream",
          "text": [
            "x tiene el valor de 12\n",
            "x tiene el valor de 10\n"
          ],
          "name": "stdout"
        }
      ]
    },
    {
      "cell_type": "markdown",
      "metadata": {
        "id": "JB_0MZub5ymm"
      },
      "source": [
        "Si se hace una asignación dentro de una función, el cambio no se ve fuera de esta."
      ]
    },
    {
      "cell_type": "code",
      "metadata": {
        "id": "6XaP95j_5ymn",
        "outputId": "6ecbb89f-73fe-4ea0-9359-cd3a6616685f"
      },
      "source": [
        "def agregar(lista, elemento):\n",
        "    lista.append(elemento)\n",
        "    \n",
        "data = [1, 2, 3]\n",
        "agregar(data, 4)\n",
        "\n",
        "# comprobación\n",
        "print(data) "
      ],
      "execution_count": null,
      "outputs": [
        {
          "output_type": "stream",
          "text": [
            "[1, 2, 3, 4]\n"
          ],
          "name": "stdout"
        }
      ]
    },
    {
      "cell_type": "markdown",
      "metadata": {
        "id": "xQ3Hfd2a5yms"
      },
      "source": [
        "Sin embargo, es posible modificar un argumento mutable."
      ]
    },
    {
      "cell_type": "markdown",
      "metadata": {
        "id": "4k7qgnjy5ymt"
      },
      "source": [
        "### Ejercicio\n",
        "\n",
        "Cree una función que reciba dos números y los multiplique"
      ]
    },
    {
      "cell_type": "code",
      "metadata": {
        "id": "h5CMHo4S5ymu"
      },
      "source": [
        ""
      ],
      "execution_count": null,
      "outputs": []
    },
    {
      "cell_type": "markdown",
      "metadata": {
        "id": "O7pyfXUJ5ymy"
      },
      "source": [
        "### Referencias Dinámicas & Tipado"
      ]
    },
    {
      "cell_type": "markdown",
      "metadata": {
        "id": "ycw1z8Vm5ymz"
      },
      "source": [
        "Las _referencias_ en python no tienen un tipo de dato asociado, en vez de esto, la información del tipo de objeto es almacenada en el objeto mismo sin reflejarse en el nombre de la referencia."
      ]
    },
    {
      "cell_type": "markdown",
      "metadata": {
        "id": "fYxaLnQG5ym0"
      },
      "source": [
        "#### Ejemplo en Java\n",
        "```java\n",
        "int number = 7;\n",
        "```"
      ]
    },
    {
      "cell_type": "markdown",
      "metadata": {
        "id": "z8CU5JyC5ym1"
      },
      "source": [
        "#### El mismo ejemplo en Python"
      ]
    },
    {
      "cell_type": "code",
      "metadata": {
        "id": "ygO1pH4M5ym2",
        "outputId": "7bf35dc7-8a53-42be-ae2b-dfe60aa74a62"
      },
      "source": [
        "number = 5\n",
        "type(number)"
      ],
      "execution_count": null,
      "outputs": [
        {
          "output_type": "execute_result",
          "data": {
            "text/plain": [
              "int"
            ]
          },
          "metadata": {
            "tags": []
          },
          "execution_count": 3
        }
      ]
    },
    {
      "cell_type": "markdown",
      "metadata": {
        "id": "eV1twb0C5ym9"
      },
      "source": [
        "Todo objeto en Python tiene un tipo específico. Solo se realizan conversiones implícitas en circunstancias obvias"
      ]
    },
    {
      "cell_type": "code",
      "metadata": {
        "id": "XcGgibnm5ym-",
        "outputId": "3d7835b0-0a8f-4ed0-8053-f0d4aa047677"
      },
      "source": [
        "a = 5\n",
        "b = 2\n",
        "a / b"
      ],
      "execution_count": null,
      "outputs": [
        {
          "output_type": "execute_result",
          "data": {
            "text/plain": [
              "2.5"
            ]
          },
          "metadata": {
            "tags": []
          },
          "execution_count": 7
        }
      ]
    },
    {
      "cell_type": "code",
      "metadata": {
        "id": "S2NBVZLQ5ynC",
        "outputId": "4f5dd103-f86d-4067-c107-9c80d80201b9"
      },
      "source": [
        "a = 5 \n",
        "b = '5'\n",
        "a + b"
      ],
      "execution_count": null,
      "outputs": [
        {
          "output_type": "error",
          "ename": "TypeError",
          "evalue": "unsupported operand type(s) for +: 'int' and 'str'",
          "traceback": [
            "\u001b[1;31m---------------------------------------------------------------------------\u001b[0m",
            "\u001b[1;31mTypeError\u001b[0m                                 Traceback (most recent call last)",
            "\u001b[1;32m<ipython-input-9-76fc485f9842>\u001b[0m in \u001b[0;36m<module>\u001b[1;34m\u001b[0m\n\u001b[0;32m      1\u001b[0m \u001b[0ma\u001b[0m \u001b[1;33m=\u001b[0m \u001b[1;36m5\u001b[0m\u001b[1;33m\u001b[0m\u001b[1;33m\u001b[0m\u001b[0m\n\u001b[0;32m      2\u001b[0m \u001b[0mb\u001b[0m \u001b[1;33m=\u001b[0m \u001b[1;34m'5'\u001b[0m\u001b[1;33m\u001b[0m\u001b[1;33m\u001b[0m\u001b[0m\n\u001b[1;32m----> 3\u001b[1;33m \u001b[0ma\u001b[0m \u001b[1;33m+\u001b[0m \u001b[0mb\u001b[0m\u001b[1;33m\u001b[0m\u001b[1;33m\u001b[0m\u001b[0m\n\u001b[0m",
            "\u001b[1;31mTypeError\u001b[0m: unsupported operand type(s) for +: 'int' and 'str'"
          ]
        }
      ]
    },
    {
      "cell_type": "markdown",
      "metadata": {
        "id": "xS3ugwhJ5ynF"
      },
      "source": [
        "#### ¿Cómo identificar el tipo de una variable?\n",
        "Para identificar el tipo de una referencia en Python existen las siguientes funciones:\n",
        "* `type(var)`: Retorna un string identificando el tipo de la variable\n",
        "* `isinstance(var, type)`: Retorna True si el tipo de la variable coincide con el tipo especificado, False de lo contrario"
      ]
    },
    {
      "cell_type": "code",
      "metadata": {
        "id": "47cN80nQ5ynG",
        "outputId": "825b53b1-1bbb-4772-ed93-6399fe608d59"
      },
      "source": [
        "a = '5'\n",
        "print(type(a))\n",
        "print(isinstance(a, int))"
      ],
      "execution_count": null,
      "outputs": [
        {
          "output_type": "stream",
          "text": [
            "<class 'str'>\n",
            "False\n"
          ],
          "name": "stdout"
        }
      ]
    },
    {
      "cell_type": "markdown",
      "metadata": {
        "id": "WcZfWTcD5ynK"
      },
      "source": [
        "### Ejercicio\n",
        "\n",
        "¿Cuál es el tipo de los siguientes objetos?\n",
        "\n",
        "``` python\n",
        "a = (1, 3, 4)}\n",
        "b = {1, 4, 5}\n",
        "c = {\"saludo\":\"Hola\", \"despedida\": \"chao\"}\n",
        "d = None\n",
        "```"
      ]
    },
    {
      "cell_type": "code",
      "metadata": {
        "id": "jBDtTANG5ynL"
      },
      "source": [
        ""
      ],
      "execution_count": null,
      "outputs": []
    },
    {
      "cell_type": "markdown",
      "metadata": {
        "id": "5vvqPgGn5ynO"
      },
      "source": [
        "### Importar Módulos\n",
        "Los módulos son simplemente archivos o carpetas que contienen código Python.  \n",
        "Para importar un modulo existen diferentes métodos."
      ]
    },
    {
      "cell_type": "code",
      "metadata": {
        "id": "IeQh0aYP5ynO"
      },
      "source": [
        "import datetime                            # Importa el modulo completo\n",
        "from datetime import time                  # Importa solo los nombres escritos\n",
        "from datetime import timedelta as delta    # Crea un alias del nombre importado"
      ],
      "execution_count": null,
      "outputs": []
    },
    {
      "cell_type": "markdown",
      "metadata": {
        "id": "NQKN1tMn5ynR"
      },
      "source": [
        "### Atributos & Métodos\n",
        "* **Atributos**: Son objetos dentro de objetos\n",
        "* **Métodos**: Funciones asociadas al objeto que acceden a los datos internos del objeto"
      ]
    },
    {
      "cell_type": "code",
      "metadata": {
        "id": "iZPsTgDs5ynS",
        "outputId": "71a1ab40-f6eb-430d-9be2-acd08b50cd4a"
      },
      "source": [
        "datetime.date(year=1999, month=5, day=15)"
      ],
      "execution_count": null,
      "outputs": [
        {
          "output_type": "execute_result",
          "data": {
            "text/plain": [
              "datetime.date(1999, 5, 15)"
            ]
          },
          "metadata": {
            "tags": []
          },
          "execution_count": 20
        }
      ]
    },
    {
      "cell_type": "markdown",
      "metadata": {
        "id": "CXX2poSm5ynV"
      },
      "source": [
        "### Operadores Binarios y Comparaciones\n",
        "Para validar si dos referencias apuntan al mismo objeto se puede usar el operador '_is_'"
      ]
    },
    {
      "cell_type": "code",
      "metadata": {
        "id": "qOr_IQss5ynW",
        "outputId": "4d3b0a3c-de94-478a-cabf-a61e65c7ab18"
      },
      "source": [
        "a = [1, 2, 3]\n",
        "b = a\n",
        "print(a is b)\n",
        "print(a is not b)"
      ],
      "execution_count": null,
      "outputs": [
        {
          "output_type": "stream",
          "text": [
            "True\n",
            "False\n"
          ],
          "name": "stdout"
        }
      ]
    },
    {
      "cell_type": "markdown",
      "metadata": {
        "id": "pwBsd9W-5yna"
      },
      "source": [
        "El objeto '**None**' es el valor nulo de python. En Python solo existe una instancia de este objeto."
      ]
    },
    {
      "cell_type": "code",
      "metadata": {
        "id": "LqrUzS4X5ynb",
        "outputId": "405a6cca-c886-4b85-bef3-b8a665125a75"
      },
      "source": [
        "n = None\n",
        "print(n is None)\n",
        "print(hex(id(n))) # La dirección de None \n",
        "# siempre es la misma durante la ejecución"
      ],
      "execution_count": null,
      "outputs": [
        {
          "output_type": "stream",
          "text": [
            "True\n",
            "0x5b9ea490\n"
          ],
          "name": "stdout"
        }
      ]
    },
    {
      "cell_type": "markdown",
      "metadata": {
        "id": "GQYAoH595yng"
      },
      "source": [
        "### Tipos básicos de datos\n",
        "Python cuenta con una serie de tipos de datos en su librería estándar para manejar datos númericos, strings (cadenas de caracteres) y booleanos, entre otros.  \n",
        "Estos tipos de datos se conocen como \"Escalares\" pidienddo el nombre prestado de los valores matemáticos pertenecientes espacios de una dimensión."
      ]
    },
    {
      "cell_type": "code",
      "metadata": {
        "id": "o54leVhd5ynh",
        "outputId": "a09c5b2e-d645-4c90-ee98-a62ccbe4a85a"
      },
      "source": [
        "a = None\n",
        "print(type(a))    # NoneType\n",
        "\n",
        "a = 'hello'\n",
        "print(type(a))    # str\n",
        "\n",
        "a = b'hello'\n",
        "print(type(a))    # bytes\n",
        "\n",
        "a = 1\n",
        "print(type(a))    # int\n",
        "\n",
        "a = 1.0\n",
        "print(type(a))    # float\n",
        "\n",
        "a = True\n",
        "print(type(a))    # bool"
      ],
      "execution_count": null,
      "outputs": [
        {
          "output_type": "stream",
          "text": [
            "<class 'NoneType'>\n",
            "<class 'str'>\n",
            "<class 'bytes'>\n",
            "<class 'int'>\n",
            "<class 'float'>\n",
            "<class 'bool'>\n"
          ],
          "name": "stdout"
        }
      ]
    }
  ]
}