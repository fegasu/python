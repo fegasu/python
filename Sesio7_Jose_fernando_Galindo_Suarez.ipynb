{
  "nbformat": 4,
  "nbformat_minor": 0,
  "metadata": {
    "colab": {
      "name": "Sesio7 Jose fernando Galindo Suarez.ipynb",
      "provenance": [],
      "authorship_tag": "ABX9TyN7y4hIOTP7dF95bSSpp/oa",
      "include_colab_link": true
    },
    "kernelspec": {
      "name": "python3",
      "display_name": "Python 3"
    }
  },
  "cells": [
    {
      "cell_type": "markdown",
      "metadata": {
        "id": "view-in-github",
        "colab_type": "text"
      },
      "source": [
        "<a href=\"https://colab.research.google.com/github/fegasu/python/blob/master/Sesio7_Jose_fernando_Galindo_Suarez.ipynb\" target=\"_parent\"><img src=\"https://colab.research.google.com/assets/colab-badge.svg\" alt=\"Open In Colab\"/></a>"
      ]
    },
    {
      "cell_type": "code",
      "metadata": {
        "id": "X15159NZQiEi",
        "colab": {
          "base_uri": "https://localhost:8080/",
          "height": 204
        },
        "outputId": "1eeae70f-de89-4e37-ecb0-4eac7d1bbf46"
      },
      "source": [
        "import pandas as pd\n",
        "import numpy as np\n",
        "\n",
        "# Diccionario\n",
        "\n",
        "polizas = {\n",
        " 'Area':['Comercial','Gerencia','Produccion','Gerencia','Produccion','Comercial','Gerencia','Comercial','Produccion','Comercial'],\n",
        " 'Edad':[28,50,37,35,42,35,None,47,51,36],\n",
        " 'Monto':[51000,68000,73000,61000,None,55000,63000,60000,81000,58000],\n",
        " 'Renovada':['No','Si','No','No','Si','Si','No','Si','No','Si']}\n",
        "\n",
        "# DataFrame\n",
        "df = pd.DataFrame(polizas)\n",
        "\n",
        "# Imprimir el DataFrame\n",
        "print(df)"
      ],
      "execution_count": null,
      "outputs": [
        {
          "output_type": "stream",
          "text": [
            "         Area  Edad    Monto Renovada\n",
            "0   Comercial  28.0  51000.0       No\n",
            "1    Gerencia  50.0  68000.0       Si\n",
            "2  Produccion  37.0  73000.0       No\n",
            "3    Gerencia  35.0  61000.0       No\n",
            "4  Produccion  42.0      NaN       Si\n",
            "5   Comercial  35.0  55000.0       Si\n",
            "6    Gerencia   NaN  63000.0       No\n",
            "7   Comercial  47.0  60000.0       Si\n",
            "8  Produccion  51.0  81000.0       No\n",
            "9   Comercial  36.0  58000.0       Si\n"
          ],
          "name": "stdout"
        }
      ]
    },
    {
      "cell_type": "code",
      "metadata": {
        "id": "QrRKhY4cSMVH",
        "colab": {
          "base_uri": "https://localhost:8080/",
          "height": 204
        },
        "outputId": "8abdbce6-47b3-4dba-d0bc-f860987b933c"
      },
      "source": [
        "# Vectores con las feautures y el label o target\n",
        "X = df.iloc[:,[0,1,2]].values\n",
        "y = df.iloc[:,3].values\n",
        "print(X)\n",
        "print(y)"
      ],
      "execution_count": null,
      "outputs": [
        {
          "output_type": "stream",
          "text": [
            "[['Comercial' 28.0 51000.0]\n",
            " ['Gerencia' 50.0 68000.0]\n",
            " ['Produccion' 37.0 73000.0]\n",
            " ['Gerencia' 35.0 61000.0]\n",
            " ['Produccion' 42.0 nan]\n",
            " ['Comercial' 35.0 55000.0]\n",
            " ['Gerencia' nan 63000.0]\n",
            " ['Comercial' 47.0 60000.0]\n",
            " ['Produccion' 51.0 81000.0]\n",
            " ['Comercial' 36.0 58000.0]]\n",
            "['No' 'Si' 'No' 'No' 'Si' 'Si' 'No' 'Si' 'No' 'Si']\n"
          ],
          "name": "stdout"
        }
      ]
    },
    {
      "cell_type": "code",
      "metadata": {
        "id": "8Pa8tit5TSj2",
        "colab": {
          "base_uri": "https://localhost:8080/",
          "height": 187
        },
        "outputId": "3b596534-9b7c-4463-9179-ac51e1c838a4"
      },
      "source": [
        "# Imputar la media a los valores faltantes con vectores\n",
        "\n",
        "from sklearn.impute import SimpleImputer\n",
        "\n",
        "imputer = SimpleImputer(missing_values=np.nan,strategy=\"mean\")\n",
        "\n",
        "imputer.fit(X[:,1:3])\n",
        "\n",
        "X[:,1:3] = imputer.transform(X[:,1:3])\n",
        "\n",
        "print(X)"
      ],
      "execution_count": null,
      "outputs": [
        {
          "output_type": "stream",
          "text": [
            "[['Comercial' 28.0 51000.0]\n",
            " ['Gerencia' 50.0 68000.0]\n",
            " ['Produccion' 37.0 73000.0]\n",
            " ['Gerencia' 35.0 61000.0]\n",
            " ['Produccion' 42.0 63333.333333333336]\n",
            " ['Comercial' 35.0 55000.0]\n",
            " ['Gerencia' 40.111111111111114 63000.0]\n",
            " ['Comercial' 47.0 60000.0]\n",
            " ['Produccion' 51.0 81000.0]\n",
            " ['Comercial' 36.0 58000.0]]\n"
          ],
          "name": "stdout"
        }
      ]
    },
    {
      "cell_type": "code",
      "metadata": {
        "id": "d5HjKMH7U8lJ",
        "colab": {
          "base_uri": "https://localhost:8080/",
          "height": 34
        },
        "outputId": "ca5a76b1-fee6-4b1c-b7b4-f35d1625c3d6"
      },
      "source": [
        "# Codificar el label convirtiéndolo en una variable numérica\n",
        "from sklearn.preprocessing import LabelEncoder\n",
        "\n",
        "le = LabelEncoder()\n",
        "\n",
        "y = le.fit_transform(y)\n",
        "\n",
        "print(y)"
      ],
      "execution_count": null,
      "outputs": [
        {
          "output_type": "stream",
          "text": [
            "[0 1 0 0 1 1 0 1 0 1]\n"
          ],
          "name": "stdout"
        }
      ]
    },
    {
      "cell_type": "code",
      "metadata": {
        "id": "OJrtbhJSV3Rw",
        "colab": {
          "base_uri": "https://localhost:8080/",
          "height": 306
        },
        "outputId": "69b66ee5-4037-4bbf-989c-2a657a4a0856"
      },
      "source": [
        "# DataFrames con las feautures y el label o target\n",
        "X = df[['Area','Edad','Monto']]\n",
        "y = df[['Renovada']]\n",
        "# Imputar la media a los valores faltantes con DataFrames\n",
        "X.loc[(X.Edad.isnull()),'Edad'] = X.Edad.mean()\n",
        "X.loc[(X.Monto.isnull()),'Monto'] = X.Monto.mean()\n",
        "print(X)"
      ],
      "execution_count": null,
      "outputs": [
        {
          "output_type": "stream",
          "text": [
            "         Area       Edad         Monto\n",
            "0   Comercial  28.000000  51000.000000\n",
            "1    Gerencia  50.000000  68000.000000\n",
            "2  Produccion  37.000000  73000.000000\n",
            "3    Gerencia  35.000000  61000.000000\n",
            "4  Produccion  42.000000  63333.333333\n",
            "5   Comercial  35.000000  55000.000000\n",
            "6    Gerencia  40.111111  63000.000000\n",
            "7   Comercial  47.000000  60000.000000\n",
            "8  Produccion  51.000000  81000.000000\n",
            "9   Comercial  36.000000  58000.000000\n"
          ],
          "name": "stdout"
        },
        {
          "output_type": "stream",
          "text": [
            "/usr/local/lib/python3.6/dist-packages/pandas/core/indexing.py:966: SettingWithCopyWarning: \n",
            "A value is trying to be set on a copy of a slice from a DataFrame.\n",
            "Try using .loc[row_indexer,col_indexer] = value instead\n",
            "\n",
            "See the caveats in the documentation: https://pandas.pydata.org/pandas-docs/stable/user_guide/indexing.html#returning-a-view-versus-a-copy\n",
            "  self.obj[item] = s\n"
          ],
          "name": "stderr"
        }
      ]
    },
    {
      "cell_type": "code",
      "metadata": {
        "id": "0GkKezYRW2ek",
        "colab": {
          "base_uri": "https://localhost:8080/",
          "height": 204
        },
        "outputId": "d7947ce9-a218-404c-d64f-4c8ada797fdc"
      },
      "source": [
        "# \"Dumificar\" variable categórica\n",
        "\n",
        "dummies = pd.get_dummies(X['Area']).rename(columns=lambda o: 'Area_' + str(o))\n",
        "X = pd.concat([X, dummies], axis=1)\n",
        "X = X.drop(['Area'], axis=1)\n",
        "print(X)"
      ],
      "execution_count": null,
      "outputs": [
        {
          "output_type": "stream",
          "text": [
            "        Edad         Monto  Area_Comercial  Area_Gerencia  Area_Produccion\n",
            "0  28.000000  51000.000000               1              0                0\n",
            "1  50.000000  68000.000000               0              1                0\n",
            "2  37.000000  73000.000000               0              0                1\n",
            "3  35.000000  61000.000000               0              1                0\n",
            "4  42.000000  63333.333333               0              0                1\n",
            "5  35.000000  55000.000000               1              0                0\n",
            "6  40.111111  63000.000000               0              1                0\n",
            "7  47.000000  60000.000000               1              0                0\n",
            "8  51.000000  81000.000000               0              0                1\n",
            "9  36.000000  58000.000000               1              0                0\n"
          ],
          "name": "stdout"
        }
      ]
    }
  ]
}