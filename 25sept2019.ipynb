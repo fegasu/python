{
  "nbformat": 4,
  "nbformat_minor": 0,
  "metadata": {
    "colab": {
      "name": "25sept2019.ipynb",
      "provenance": [],
      "collapsed_sections": [],
      "include_colab_link": true
    },
    "kernelspec": {
      "name": "python3",
      "display_name": "Python 3"
    }
  },
  "cells": [
    {
      "cell_type": "markdown",
      "metadata": {
        "id": "view-in-github",
        "colab_type": "text"
      },
      "source": [
        "<a href=\"https://colab.research.google.com/github/fegasu/python/blob/master/25sept2019.ipynb\" target=\"_parent\"><img src=\"https://colab.research.google.com/assets/colab-badge.svg\" alt=\"Open In Colab\"/></a>"
      ]
    },
    {
      "cell_type": "code",
      "metadata": {
        "id": "0g-oj5OgoxfG",
        "outputId": "573d1607-9a63-4b36-8f1f-fbdc51f85565",
        "colab": {
          "base_uri": "https://localhost:8080/"
        }
      },
      "source": [
        "tupla=4,5,6\n",
        "tupla_anidada=(4,5,6),(7,8)\n",
        "print(tupla[2])\n",
        "((1,2,3)+(4,5,6))*3\n",
        "tupla*3\n",
        "\n"
      ],
      "execution_count": null,
      "outputs": [
        {
          "output_type": "stream",
          "name": "stdout",
          "text": [
            "6\n"
          ]
        },
        {
          "output_type": "execute_result",
          "data": {
            "text/plain": [
              "(4, 5, 6, 4, 5, 6, 4, 5, 6)"
            ]
          },
          "metadata": {},
          "execution_count": 1
        }
      ]
    },
    {
      "cell_type": "code",
      "metadata": {
        "id": "VGIEGYGPr6JM",
        "outputId": "fe64be0f-221a-49a7-dc46-a136f0e5961c",
        "colab": {
          "base_uri": "https://localhost:8080/"
        }
      },
      "source": [
        "tupla=1,2,3\n",
        "x,y,z=tupla\n",
        "x\n",
        "y\n",
        "z\n",
        "tupla=4,5,(6,7)\n",
        "a,b,(c,d)=tupla\n",
        "c"
      ],
      "execution_count": null,
      "outputs": [
        {
          "output_type": "execute_result",
          "data": {
            "text/plain": [
              "6"
            ]
          },
          "metadata": {},
          "execution_count": 2
        }
      ]
    },
    {
      "cell_type": "code",
      "metadata": {
        "id": "Nc7XM5Pfs8KI",
        "outputId": "b056df43-07d9-4e50-d318-4477f71bd9a2",
        "colab": {
          "base_uri": "https://localhost:8080/",
          "height": 34
        }
      },
      "source": [
        "a,b=10,5\n",
        "a\n",
        "b,a=a,b\n",
        "a"
      ],
      "execution_count": null,
      "outputs": [
        {
          "output_type": "execute_result",
          "data": {
            "text/plain": [
              "5"
            ]
          },
          "metadata": {
            "tags": []
          },
          "execution_count": 20
        }
      ]
    },
    {
      "cell_type": "code",
      "metadata": {
        "id": "IVFHNIuitgPt",
        "outputId": "dfeaa5ee-9971-413f-b3fb-b49b504d5204",
        "colab": {
          "base_uri": "https://localhost:8080/",
          "height": 51
        }
      },
      "source": [
        "values=tuple(range(10))\n",
        "a,b,c,*rest=values\n",
        "print(a,b,c,rest)\n",
        "\n",
        "a,b,c,*_=values\n",
        "print(_)\n",
        "\n"
      ],
      "execution_count": null,
      "outputs": [
        {
          "output_type": "stream",
          "text": [
            "0 1 2 [3, 4, 5, 6, 7, 8, 9]\n",
            "[3, 4, 5, 6, 7, 8, 9]\n"
          ],
          "name": "stdout"
        }
      ]
    },
    {
      "cell_type": "markdown",
      "metadata": {
        "id": "GbOWQdNLvjJP"
      },
      "source": [
        "Cuenta repeticiones en una tupla"
      ]
    },
    {
      "cell_type": "code",
      "metadata": {
        "id": "Ep3dDl91uTRL",
        "outputId": "3f08d8cf-06ce-4ac3-c23f-6e054a151984",
        "colab": {
          "base_uri": "https://localhost:8080/",
          "height": 34
        }
      },
      "source": [
        "a=11,2,2,2,2,3,60,5,3,7,2\n",
        "a.count(2)"
      ],
      "execution_count": null,
      "outputs": [
        {
          "output_type": "execute_result",
          "data": {
            "text/plain": [
              "5"
            ]
          },
          "metadata": {
            "tags": []
          },
          "execution_count": 24
        }
      ]
    },
    {
      "cell_type": "markdown",
      "metadata": {
        "id": "5bEr5MTIvwLm"
      },
      "source": [
        "Listas"
      ]
    },
    {
      "cell_type": "code",
      "metadata": {
        "id": "d1qmIfj6vy31",
        "outputId": "2395b1b7-ccc5-4852-d818-2957c0942f21",
        "colab": {
          "base_uri": "https://localhost:8080/",
          "height": 34
        }
      },
      "source": [
        "lista_0=[2,3,5,7]\n",
        "tupla=(1,2,3,4,5)\n",
        "lista=list(tupla)\n",
        "\n",
        "gen=range(15)\n",
        "list(gen)\n",
        "# numero pares\n",
        "l=range(0,40,2)\n",
        "print(l[3])"
      ],
      "execution_count": null,
      "outputs": [
        {
          "output_type": "stream",
          "text": [
            "6\n"
          ],
          "name": "stdout"
        }
      ]
    },
    {
      "cell_type": "markdown",
      "metadata": {
        "id": "ktBnQz-Xwqnx"
      },
      "source": [
        "insercion y remocion"
      ]
    },
    {
      "cell_type": "code",
      "metadata": {
        "id": "s5ry6rcWwtg1",
        "outputId": "66ac4585-f306-4422-95dd-7b375a775b0c",
        "colab": {
          "base_uri": "https://localhost:8080/",
          "height": 187
        }
      },
      "source": [
        "lista_2=[\"uno\",\"dos\",\"tres\"]\n",
        "lista_2.append(\"cuatro\")\n",
        "lista_2.insert(1,\"uno y medio\")\n",
        "for i in lista_2:\n",
        "  print(i)\n",
        "lista_2[-1]=\"cinco\"\n",
        "for i in lista_2:\n",
        "  print(i)\n"
      ],
      "execution_count": null,
      "outputs": [
        {
          "output_type": "stream",
          "text": [
            "uno\n",
            "uno y medio\n",
            "dos\n",
            "tres\n",
            "cuatro\n",
            "uno\n",
            "uno y medio\n",
            "dos\n",
            "tres\n",
            "cinco\n"
          ],
          "name": "stdout"
        }
      ]
    },
    {
      "cell_type": "markdown",
      "metadata": {
        "id": "Lrq5emeCxwKI"
      },
      "source": [
        "insertar valores"
      ]
    },
    {
      "cell_type": "code",
      "metadata": {
        "id": "2_XlXZE0xyMU",
        "outputId": "77b11c66-0c6e-476b-9edc-b9c08866bb01",
        "colab": {
          "base_uri": "https://localhost:8080/",
          "height": 68
        }
      },
      "source": [
        "lista_2.pop(3)\n",
        "lista_2.pop()\n",
        "for i in lista_2:\n",
        "  print(i)"
      ],
      "execution_count": null,
      "outputs": [
        {
          "output_type": "stream",
          "text": [
            "uno\n",
            "uno y medio\n",
            "dos\n"
          ],
          "name": "stdout"
        }
      ]
    },
    {
      "cell_type": "markdown",
      "metadata": {
        "id": "bVG2feJzz7Ad"
      },
      "source": [
        "Busca un valor en la lista"
      ]
    },
    {
      "cell_type": "code",
      "metadata": {
        "id": "GsHlQDCKzxEC",
        "outputId": "457183b2-d0c1-4215-9c20-aa3733831bf6",
        "colab": {
          "base_uri": "https://localhost:8080/",
          "height": 34
        }
      },
      "source": [
        "\"dos\" in lista_2\n"
      ],
      "execution_count": null,
      "outputs": [
        {
          "output_type": "execute_result",
          "data": {
            "text/plain": [
              "True"
            ]
          },
          "metadata": {
            "tags": []
          },
          "execution_count": 49
        }
      ]
    },
    {
      "cell_type": "code",
      "metadata": {
        "id": "ZVj1hEFi0y16",
        "outputId": "ae01062f-b68a-4e5b-fffc-cc50db54aacf",
        "colab": {
          "base_uri": "https://localhost:8080/",
          "height": 34
        }
      },
      "source": [
        "a=[1,2,3,4]+[5,6,7,8]\n",
        "a.extend([7,8,(2,3)])\n",
        "a.extend(range(4))\n",
        "print(a)"
      ],
      "execution_count": null,
      "outputs": [
        {
          "output_type": "stream",
          "text": [
            "[1, 2, 3, 4, 5, 6, 7, 8, 7, 8, (2, 3), 0, 1, 2, 3]\n"
          ],
          "name": "stdout"
        }
      ]
    },
    {
      "cell_type": "code",
      "metadata": {
        "id": "obkrfuZ12OrC",
        "outputId": "166aaf83-c072-4f71-be51-c99fafb6c49a",
        "colab": {
          "base_uri": "https://localhost:8080/",
          "height": 54
        }
      },
      "source": [
        "fila1=[]\n",
        "fila2=[]\n",
        "i=0\n",
        "a=0\n",
        "while i<8:\n",
        "  if i%2==0:\n",
        "    fila1.append(\"B\")\n",
        "  else:\n",
        "    fila1.append(\"N\")\n",
        "  if i%2==0:\n",
        "    fila2.append(\"N\")\n",
        "  else:\n",
        "    fila2.append(\"B\")\n",
        "  i=i+1\n",
        "tab=[]\n",
        "for i in range(8):\n",
        "  tab.append(\"N\" if i%2 ==0 else \"B\")\n",
        "for i in range(8):\n",
        "  tab.append(fila1 if i%2 ==0 else fila2)\n",
        "print(tab)"
      ],
      "execution_count": null,
      "outputs": [
        {
          "output_type": "stream",
          "text": [
            "['N', 'B', 'N', 'B', 'N', 'B', 'N', 'B', ['B', 'N', 'B', 'N', 'B', 'N', 'B', 'N'], ['N', 'B', 'N', 'B', 'N', 'B', 'N', 'B'], ['B', 'N', 'B', 'N', 'B', 'N', 'B', 'N'], ['N', 'B', 'N', 'B', 'N', 'B', 'N', 'B'], ['B', 'N', 'B', 'N', 'B', 'N', 'B', 'N'], ['N', 'B', 'N', 'B', 'N', 'B', 'N', 'B'], ['B', 'N', 'B', 'N', 'B', 'N', 'B', 'N'], ['N', 'B', 'N', 'B', 'N', 'B', 'N', 'B']]\n"
          ],
          "name": "stdout"
        }
      ]
    },
    {
      "cell_type": "code",
      "metadata": {
        "id": "8g-vjssG9JpI",
        "outputId": "3961ce7d-2719-4bca-fbdb-597b54621532",
        "colab": {
          "base_uri": "https://localhost:8080/",
          "height": 34
        }
      },
      "source": [
        "a=[7,2,5,1,3]\n",
        "a.sort()\n",
        "print(a)"
      ],
      "execution_count": null,
      "outputs": [
        {
          "output_type": "stream",
          "text": [
            "[1, 2, 3, 5, 7]\n"
          ],
          "name": "stdout"
        }
      ]
    },
    {
      "cell_type": "code",
      "metadata": {
        "id": "73gczVY_-21S",
        "outputId": "c254384f-0b4a-4190-ca59-2087d76664ef",
        "colab": {
          "base_uri": "https://localhost:8080/",
          "height": 34
        }
      },
      "source": [
        "import bisect\n",
        "c=[1,2,2,2,3,4,7]\n",
        "bisect.bisect(c,2)\n"
      ],
      "execution_count": null,
      "outputs": [
        {
          "output_type": "execute_result",
          "data": {
            "text/plain": [
              "4"
            ]
          },
          "metadata": {
            "tags": []
          },
          "execution_count": 77
        }
      ]
    },
    {
      "cell_type": "markdown",
      "metadata": {
        "id": "kjX096WeG9xE"
      },
      "source": [
        "Rebanados\n"
      ]
    },
    {
      "cell_type": "code",
      "metadata": {
        "id": "9zAs7OBxHARh",
        "outputId": "d3e41a2a-983c-474b-9d38-cef6f9f0a993",
        "colab": {
          "base_uri": "https://localhost:8080/",
          "height": 34
        }
      },
      "source": [
        "seq=[7,2,3,7,5,6,0,1]\n",
        "seq[1:5]\n",
        "seq[3:]\n",
        "seq[::2]"
      ],
      "execution_count": null,
      "outputs": [
        {
          "output_type": "execute_result",
          "data": {
            "text/plain": [
              "[7, 3, 5, 0]"
            ]
          },
          "metadata": {
            "tags": []
          },
          "execution_count": 81
        }
      ]
    },
    {
      "cell_type": "markdown",
      "metadata": {
        "id": "XugqnTZRISAw"
      },
      "source": [
        "colecciones "
      ]
    },
    {
      "cell_type": "code",
      "metadata": {
        "id": "grGloBMNIMLQ",
        "outputId": "6299ac5c-6daa-4ef8-e96a-d902b46e37bc",
        "colab": {
          "base_uri": "https://localhost:8080/",
          "height": 119
        }
      },
      "source": [
        "coleccion=[2,3,6,44,12,9]\n",
        "i=0\n",
        "for valor in coleccion:\n",
        "  print('Este ciclo {0}'.format(i))\n",
        "  i+=1"
      ],
      "execution_count": null,
      "outputs": [
        {
          "output_type": "stream",
          "text": [
            "Este ciclo 0\n",
            "Este ciclo 1\n",
            "Este ciclo 2\n",
            "Este ciclo 3\n",
            "Este ciclo 4\n",
            "Este ciclo 5\n"
          ],
          "name": "stdout"
        }
      ]
    },
    {
      "cell_type": "markdown",
      "metadata": {
        "id": "xZFGabaFIvQz"
      },
      "source": [
        "Diccionario"
      ]
    },
    {
      "cell_type": "code",
      "metadata": {
        "id": "klCXqAATIx-m",
        "outputId": "239ff367-3977-45ee-a10a-0e5c6e4ff047",
        "colab": {
          "base_uri": "https://localhost:8080/",
          "height": 34
        }
      },
      "source": [
        "diccionario=dict()\n",
        "d1={\"a\":\"un valor\",\"b\":\"otro valor\"}\n",
        "d1[\"b\"]=\"todavia otra\"\n",
        "d1[\"b\"]\n",
        "d1.keys()\n",
        "d1.values()"
      ],
      "execution_count": null,
      "outputs": [
        {
          "output_type": "execute_result",
          "data": {
            "text/plain": [
              "dict_values(['un valor', 'todavia otra'])"
            ]
          },
          "metadata": {
            "tags": []
          },
          "execution_count": 88
        }
      ]
    },
    {
      "cell_type": "markdown",
      "metadata": {
        "id": "SrarlXHLKIv3"
      },
      "source": [
        "Conjuntos"
      ]
    },
    {
      "cell_type": "code",
      "metadata": {
        "id": "3wAUkAofKK4U",
        "outputId": "f91d1a0e-3e98-4a5f-8332-7110e6aeb31d",
        "colab": {
          "base_uri": "https://localhost:8080/",
          "height": 34
        }
      },
      "source": [
        "a=set([2,2,2,1,3,3])\n",
        "a={1,2,3,4,5}\n",
        "b={3,4,5,6,7,8}\n",
        "a.union(b)\n",
        "a & b\n",
        "a.intersection(b)"
      ],
      "execution_count": null,
      "outputs": [
        {
          "output_type": "execute_result",
          "data": {
            "text/plain": [
              "{3, 4, 5}"
            ]
          },
          "metadata": {
            "tags": []
          },
          "execution_count": 92
        }
      ]
    },
    {
      "cell_type": "markdown",
      "metadata": {
        "id": "UddrJSEBL_iW"
      },
      "source": [
        "Lista conjuntos y diccionarios por comprensión"
      ]
    },
    {
      "cell_type": "code",
      "metadata": {
        "id": "6VtBtz38MGML",
        "outputId": "aa59265c-331f-4a56-bfe6-7c576ae4f844",
        "colab": {
          "base_uri": "https://localhost:8080/",
          "height": 34
        }
      },
      "source": [
        "strings=[\"a\", \"as\",\"bat\",\"car\",\"dove\",\"python\"]\n",
        "a=[x.upper() for x in strings if len(x)>2]\n",
        "a\n",
        "long_unicas={len}"
      ],
      "execution_count": null,
      "outputs": [
        {
          "output_type": "execute_result",
          "data": {
            "text/plain": [
              "['BAT', 'CAR', 'DOVE', 'PYTHON']"
            ]
          },
          "metadata": {
            "tags": []
          },
          "execution_count": 97
        }
      ]
    },
    {
      "cell_type": "markdown",
      "metadata": {
        "id": "AIXE0l1sOec_"
      },
      "source": [
        "zip\n"
      ]
    },
    {
      "cell_type": "code",
      "metadata": {
        "id": "74QtRNEfOyS5"
      },
      "source": [
        "seq1=[\"uno\",\"dos\",\"tres\"]\n",
        "seq2=[\"a\",\"b\",\"ce\"]\n",
        "seq3=[False,True]\n",
        "lista_de_tuplas=zip(seq1,seq2,seq3)\n"
      ],
      "execution_count": null,
      "outputs": []
    },
    {
      "cell_type": "code",
      "metadata": {
        "id": "05WNlOcEPr0L",
        "outputId": "bf97a3b9-c034-4da8-d347-3498aecaa5a2",
        "colab": {
          "base_uri": "https://localhost:8080/",
          "height": 34
        }
      },
      "source": [
        "nombres_completos=[(\"Andres\",\"Agudelos\"),\n",
        "                  (\"Brayan\",\"Beltran\"),\n",
        "                  (\"Camila\",\"Cruz\")]\n",
        "nombres,apellidos=zip(*nombres_completos)\n",
        "nombres\n",
        "apellidos"
      ],
      "execution_count": null,
      "outputs": [
        {
          "output_type": "execute_result",
          "data": {
            "text/plain": [
              "('Agudelos', 'Beltran', 'Cruz')"
            ]
          },
          "metadata": {
            "tags": []
          },
          "execution_count": 107
        }
      ]
    },
    {
      "cell_type": "code",
      "metadata": {
        "id": "an7dVn3_QUDj",
        "outputId": "4c4fb93f-7be9-4314-8d29-d17af557bbc6",
        "colab": {
          "base_uri": "https://localhost:8080/",
          "height": 34
        }
      },
      "source": [
        "list(reversed(range(10)))"
      ],
      "execution_count": null,
      "outputs": [
        {
          "output_type": "execute_result",
          "data": {
            "text/plain": [
              "[9, 8, 7, 6, 5, 4, 3, 2, 1, 0]"
            ]
          },
          "metadata": {
            "tags": []
          },
          "execution_count": 108
        }
      ]
    },
    {
      "cell_type": "markdown",
      "metadata": {
        "id": "PDrx1KFvRI8S"
      },
      "source": [
        "Reto:\n",
        "Usando comprension de listas, modelar una baraja de cartas, donde cada una de las cartas se escriba con una tupla. Asuma que J=10, Q=11 y K=12"
      ]
    },
    {
      "cell_type": "code",
      "metadata": {
        "id": "YZfc3grDReYi",
        "outputId": "e6532757-f758-45bf-93d5-d5e00ebaa647",
        "colab": {
          "base_uri": "https://localhost:8080/",
          "height": 901
        }
      },
      "source": [
        "cartas=[(\"T\",range(13)),\n",
        "        (\"C\",range(13)),\n",
        "        (\"P\",range(13)),\n",
        "        (\"D\",range(13))\n",
        "       ]\n",
        "        \n",
        "[x for x in zip((\"T\",\"C\",\"P\",\"D\")*13,list(range(1,14))*14)]"
      ],
      "execution_count": null,
      "outputs": [
        {
          "output_type": "execute_result",
          "data": {
            "text/plain": [
              "[('T', 1),\n",
              " ('C', 2),\n",
              " ('P', 3),\n",
              " ('D', 4),\n",
              " ('T', 5),\n",
              " ('C', 6),\n",
              " ('P', 7),\n",
              " ('D', 8),\n",
              " ('T', 9),\n",
              " ('C', 10),\n",
              " ('P', 11),\n",
              " ('D', 12),\n",
              " ('T', 13),\n",
              " ('C', 1),\n",
              " ('P', 2),\n",
              " ('D', 3),\n",
              " ('T', 4),\n",
              " ('C', 5),\n",
              " ('P', 6),\n",
              " ('D', 7),\n",
              " ('T', 8),\n",
              " ('C', 9),\n",
              " ('P', 10),\n",
              " ('D', 11),\n",
              " ('T', 12),\n",
              " ('C', 13),\n",
              " ('P', 1),\n",
              " ('D', 2),\n",
              " ('T', 3),\n",
              " ('C', 4),\n",
              " ('P', 5),\n",
              " ('D', 6),\n",
              " ('T', 7),\n",
              " ('C', 8),\n",
              " ('P', 9),\n",
              " ('D', 10),\n",
              " ('T', 11),\n",
              " ('C', 12),\n",
              " ('P', 13),\n",
              " ('D', 1),\n",
              " ('T', 2),\n",
              " ('C', 3),\n",
              " ('P', 4),\n",
              " ('D', 5),\n",
              " ('T', 6),\n",
              " ('C', 7),\n",
              " ('P', 8),\n",
              " ('D', 9),\n",
              " ('T', 10),\n",
              " ('C', 11),\n",
              " ('P', 12),\n",
              " ('D', 13)]"
            ]
          },
          "metadata": {
            "tags": []
          },
          "execution_count": 131
        }
      ]
    },
    {
      "cell_type": "markdown",
      "metadata": {
        "id": "nFnH8uyLpSQp"
      },
      "source": [
        "Funciones"
      ]
    },
    {
      "cell_type": "code",
      "metadata": {
        "id": "N-Htd6xBq7mE",
        "outputId": "7ba6addf-e45f-4e5c-a47c-5bea185bbdde",
        "colab": {
          "base_uri": "https://localhost:8080/",
          "height": 68
        }
      },
      "source": [
        "w=5\n",
        "def my_function(x,y,z=1.5):\n",
        "  if z>1:\n",
        "    w=z*(x+y)\n",
        "    return w\n",
        "  else:\n",
        "    return z/(x+y)\n",
        "# print(my_function(1,20,5))\n",
        "\n",
        "def f(x,y,z):\n",
        "  return x**2+y**2+z**2\n",
        "print(f(1,2,3))\n",
        "def w(x,y,z):\n",
        "  return 5\n",
        "print(w(1,2,3))\n",
        "\n",
        "def m(x,y):\n",
        "  if x>y:\n",
        "    return x\n",
        "  if x==y:\n",
        "    return x+y\n",
        "  if x<y:\n",
        "    return y\n",
        "print(m(8,8))"
      ],
      "execution_count": null,
      "outputs": [
        {
          "output_type": "stream",
          "text": [
            "14\n",
            "5\n",
            "16\n"
          ],
          "name": "stdout"
        }
      ]
    },
    {
      "cell_type": "code",
      "metadata": {
        "id": "4Z1ns3Gcy-YZ",
        "outputId": "8533034d-8ddc-4ead-a127-605b29d5723e",
        "colab": {
          "base_uri": "https://localhost:8080/",
          "height": 34
        }
      },
      "source": [
        "def nombrecompleto(pnombre=\"\",snombre=\"\",papellido=\"\",sapellido=\"\"):\n",
        "  return pnombre+\" \"+snombre+\" \"+papellido+\" \"+sapellido\n",
        "\n",
        "nombrecompleto(snombre=\"Orlando\",sapellido=\"Alzate\")"
      ],
      "execution_count": null,
      "outputs": [
        {
          "output_type": "execute_result",
          "data": {
            "text/plain": [
              "' Orlando  Alzate'"
            ]
          },
          "metadata": {
            "tags": []
          },
          "execution_count": 161
        }
      ]
    },
    {
      "cell_type": "markdown",
      "metadata": {
        "id": "dyH3mmDv6qm9"
      },
      "source": [
        "Namespaces, Scope, Funciones Locales"
      ]
    },
    {
      "cell_type": "code",
      "metadata": {
        "id": "hYPTq_c06vlT",
        "outputId": "fbeba4ee-00da-4cd0-aace-1e10b58e5dd8",
        "colab": {
          "base_uri": "https://localhost:8080/",
          "height": 333
        }
      },
      "source": [
        "def func():\n",
        "  del a\n",
        "  a=[]\n",
        "  for i in range(5):\n",
        "    a.append(1)\n",
        "    \n",
        "a=[]\n",
        "def func():\n",
        "  for i in range(5):\n",
        "    a.append(i) \n",
        " \n",
        "a=None\n",
        "def cambiar_a():\n",
        "  global a\n",
        "  a=[]\n",
        "\n",
        "func()\n",
        "print(a)\n"
      ],
      "execution_count": null,
      "outputs": [
        {
          "output_type": "error",
          "ename": "AttributeError",
          "evalue": "ignored",
          "traceback": [
            "\u001b[0;31m---------------------------------------------------------------------------\u001b[0m",
            "\u001b[0;31mAttributeError\u001b[0m                            Traceback (most recent call last)",
            "\u001b[0;32m<ipython-input-173-805ef5c2ab3c>\u001b[0m in \u001b[0;36m<module>\u001b[0;34m()\u001b[0m\n\u001b[1;32m     15\u001b[0m   \u001b[0ma\u001b[0m\u001b[0;34m=\u001b[0m\u001b[0;34m[\u001b[0m\u001b[0;34m]\u001b[0m\u001b[0;34m\u001b[0m\u001b[0;34m\u001b[0m\u001b[0m\n\u001b[1;32m     16\u001b[0m \u001b[0;34m\u001b[0m\u001b[0m\n\u001b[0;32m---> 17\u001b[0;31m \u001b[0mfunc\u001b[0m\u001b[0;34m(\u001b[0m\u001b[0;34m)\u001b[0m\u001b[0;34m\u001b[0m\u001b[0;34m\u001b[0m\u001b[0m\n\u001b[0m\u001b[1;32m     18\u001b[0m \u001b[0mprint\u001b[0m\u001b[0;34m(\u001b[0m\u001b[0ma\u001b[0m\u001b[0;34m)\u001b[0m\u001b[0;34m\u001b[0m\u001b[0;34m\u001b[0m\u001b[0m\n",
            "\u001b[0;32m<ipython-input-173-805ef5c2ab3c>\u001b[0m in \u001b[0;36mfunc\u001b[0;34m()\u001b[0m\n\u001b[1;32m      8\u001b[0m \u001b[0;32mdef\u001b[0m \u001b[0mfunc\u001b[0m\u001b[0;34m(\u001b[0m\u001b[0;34m)\u001b[0m\u001b[0;34m:\u001b[0m\u001b[0;34m\u001b[0m\u001b[0;34m\u001b[0m\u001b[0m\n\u001b[1;32m      9\u001b[0m   \u001b[0;32mfor\u001b[0m \u001b[0mi\u001b[0m \u001b[0;32min\u001b[0m \u001b[0mrange\u001b[0m\u001b[0;34m(\u001b[0m\u001b[0;36m5\u001b[0m\u001b[0;34m)\u001b[0m\u001b[0;34m:\u001b[0m\u001b[0;34m\u001b[0m\u001b[0;34m\u001b[0m\u001b[0m\n\u001b[0;32m---> 10\u001b[0;31m     \u001b[0ma\u001b[0m\u001b[0;34m.\u001b[0m\u001b[0mappend\u001b[0m\u001b[0;34m(\u001b[0m\u001b[0mi\u001b[0m\u001b[0;34m)\u001b[0m\u001b[0;34m\u001b[0m\u001b[0;34m\u001b[0m\u001b[0m\n\u001b[0m\u001b[1;32m     11\u001b[0m \u001b[0;34m\u001b[0m\u001b[0m\n\u001b[1;32m     12\u001b[0m \u001b[0ma\u001b[0m\u001b[0;34m=\u001b[0m\u001b[0;32mNone\u001b[0m\u001b[0;34m\u001b[0m\u001b[0;34m\u001b[0m\u001b[0m\n",
            "\u001b[0;31mAttributeError\u001b[0m: 'NoneType' object has no attribute 'append'"
          ]
        }
      ]
    },
    {
      "cell_type": "code",
      "metadata": {
        "id": "hv-Ip7rEKeAX"
      },
      "source": [
        "def f():\n",
        "  a=5\n",
        "  b=6\n",
        "  c=7\n",
        "  return a,b,c\n",
        "retorno=f()\n",
        "x,y,z=f()\n"
      ],
      "execution_count": null,
      "outputs": []
    },
    {
      "cell_type": "code",
      "metadata": {
        "id": "MpiIdmSaNKJt",
        "outputId": "83c9456d-c651-4aa2-c106-369438de2a53",
        "colab": {
          "base_uri": "https://localhost:8080/",
          "height": 136
        }
      },
      "source": [
        "import re\n",
        "ciudades=[\n",
        "    '   Bogota    ','    Bucaramanga      ','bogota','Bogotá!','MEDELLIN','santa marta##','bogota?'\n",
        "]\n",
        "ciudades\n",
        "def limpiar(strings):\n",
        "  resultado=[]\n",
        "  for valor in strings:\n",
        "    valor=valor.strip()\n",
        "    valor=re.sub('[!#?]','',valor)\n",
        "    valor=valor.title()\n",
        "    resultado.append(valor)\n",
        "  return resultado\n",
        "ciudades=limpiar(ciudades)\n",
        "ciudades"
      ],
      "execution_count": null,
      "outputs": [
        {
          "output_type": "execute_result",
          "data": {
            "text/plain": [
              "['Bogota',\n",
              " 'Bucaramanga',\n",
              " 'Bogota',\n",
              " 'Bogotá',\n",
              " 'Medellin',\n",
              " 'Santa Marta',\n",
              " 'Bogota']"
            ]
          },
          "metadata": {
            "tags": []
          },
          "execution_count": 180
        }
      ]
    },
    {
      "cell_type": "code",
      "metadata": {
        "id": "7v6B01CXQZ8L"
      },
      "source": [
        "def puntuacion(valor):\n",
        "   return r.sub('[!#?]','' valor)\n",
        "operaciones=[str.strip,puntuacion,str.title]\n",
        "def limpiar_v2(strings,ops):\n",
        "  resultado=[]\n",
        "  for valor in strings:\n",
        "    for operacion\n",
        "  "
      ],
      "execution_count": null,
      "outputs": []
    }
  ]
}