{
  "nbformat": 4,
  "nbformat_minor": 0,
  "metadata": {
    "colab": {
      "name": "VacasLeche.ipynb",
      "provenance": [],
      "collapsed_sections": [],
      "authorship_tag": "ABX9TyMFqaYjIOKA5MQ737vwIHfk",
      "include_colab_link": true
    },
    "kernelspec": {
      "name": "python3",
      "display_name": "Python 3"
    },
    "language_info": {
      "name": "python"
    }
  },
  "cells": [
    {
      "cell_type": "markdown",
      "metadata": {
        "id": "view-in-github",
        "colab_type": "text"
      },
      "source": [
        "<a href=\"https://colab.research.google.com/github/fegasu/python/blob/master/VacasLeche.ipynb\" target=\"_parent\"><img src=\"https://colab.research.google.com/assets/colab-badge.svg\" alt=\"Open In Colab\"/></a>"
      ]
    },
    {
      "cell_type": "code",
      "source": [
        "import numpy as np\n"
      ],
      "metadata": {
        "id": "RVhjAXbgNl-z"
      },
      "execution_count": 67,
      "outputs": []
    },
    {
      "cell_type": "code",
      "execution_count": 103,
      "metadata": {
        "colab": {
          "base_uri": "https://localhost:8080/"
        },
        "id": "Y2llrqq0MSny",
        "outputId": "646e3345-c94e-4687-ef15-7a7d3a12dec4"
      },
      "outputs": [
        {
          "output_type": "stream",
          "name": "stdout",
          "text": [
            "Cuantos días: 5\n",
            "Cuantas Vacas: 3\n",
            "[[0. 0. 0.]\n",
            " [0. 0. 0.]\n",
            " [0. 0. 0.]\n",
            " [0. 0. 0.]\n",
            " [0. 0. 0.]]\n"
          ]
        }
      ],
      "source": [
        "\n",
        "nfil=int(input(\"Cuantos días: \"))\n",
        "ncol=int(input(\"Cuantas Vacas: \"))\n",
        "M=np.zeros((nfil,ncol))\n",
        "print(M)"
      ]
    },
    {
      "cell_type": "code",
      "source": [
        "for i in range(nfil):\n",
        "  for j in range(ncol):\n",
        "    M[i][j]=int(input(\"Cantidad de litros de leche: \"))"
      ],
      "metadata": {
        "colab": {
          "base_uri": "https://localhost:8080/"
        },
        "id": "ApKG1IBmOQj5",
        "outputId": "26c192ff-ebc9-4125-83c4-855f04f60ff6"
      },
      "execution_count": 104,
      "outputs": [
        {
          "name": "stdout",
          "output_type": "stream",
          "text": [
            "Cantidad de litros de leche: 4\n",
            "Cantidad de litros de leche: 5\n",
            "Cantidad de litros de leche: 1\n",
            "Cantidad de litros de leche: 8\n",
            "Cantidad de litros de leche: 5\n",
            "Cantidad de litros de leche: 4\n",
            "Cantidad de litros de leche: 3\n",
            "Cantidad de litros de leche: 2\n",
            "Cantidad de litros de leche: 1\n",
            "Cantidad de litros de leche: 1\n",
            "Cantidad de litros de leche: 2\n",
            "Cantidad de litros de leche: 3\n",
            "Cantidad de litros de leche: 4\n",
            "Cantidad de litros de leche: 5\n",
            "Cantidad de litros de leche: 6\n"
          ]
        }
      ]
    },
    {
      "cell_type": "code",
      "source": [
        "print(M)"
      ],
      "metadata": {
        "colab": {
          "base_uri": "https://localhost:8080/"
        },
        "id": "JgEjrklbO0t7",
        "outputId": "2307e401-e128-4548-eb63-4bcb7d9535b3"
      },
      "execution_count": 105,
      "outputs": [
        {
          "output_type": "stream",
          "name": "stdout",
          "text": [
            "[[4. 5. 1.]\n",
            " [8. 5. 4.]\n",
            " [3. 2. 1.]\n",
            " [1. 2. 3.]\n",
            " [4. 5. 6.]]\n"
          ]
        }
      ]
    },
    {
      "cell_type": "code",
      "source": [
        "Sume=lambda M: [ sum(i) for i in M]\n",
        "x=Sume(M)\n",
        "y=[]\n",
        "y=np.zeros(nfil)\n",
        "y[0]=3\n",
        "print(M)\n",
        "print(\"**************\")\n",
        "for i in range(nfil):\n",
        "  print(\"Leche \"+str(i+1)+\" dia: \"+str(x[i]))\n",
        "\n"
      ],
      "metadata": {
        "colab": {
          "base_uri": "https://localhost:8080/"
        },
        "id": "pvApJm2hPiJy",
        "outputId": "e2cd32be-10f3-4b9a-e9f3-bc678e7d0916"
      },
      "execution_count": 120,
      "outputs": [
        {
          "output_type": "stream",
          "name": "stdout",
          "text": [
            "[[4. 5. 1.]\n",
            " [8. 5. 4.]\n",
            " [3. 2. 1.]\n",
            " [1. 2. 3.]\n",
            " [4. 5. 6.]]\n",
            "**************\n",
            "Leche 1 dia: 10.0\n",
            "Leche 2 dia: 17.0\n",
            "Leche 3 dia: 6.0\n",
            "Leche 4 dia: 6.0\n",
            "Leche 5 dia: 15.0\n"
          ]
        }
      ]
    },
    {
      "cell_type": "code",
      "source": [
        "for i in range(nfil):\n",
        "  print(M[i])\n",
        "  z=max(M[i])\n",
        "  w=list(M[i])\n",
        "  y[i]=w.index(z)\n",
        "print(\"**************\")\n",
        "for i in range(nfil):\n",
        "  print(\"El \"+str(i+1)+\" dia la vaca que mas dio leche fue=\"+str(y[i]+1))\n"
      ],
      "metadata": {
        "colab": {
          "base_uri": "https://localhost:8080/"
        },
        "id": "u3Mm9K0oR2U9",
        "outputId": "73d7719b-dff8-4b36-aa21-32823acc5bde"
      },
      "execution_count": 122,
      "outputs": [
        {
          "output_type": "stream",
          "name": "stdout",
          "text": [
            "[4. 5. 1.]\n",
            "[8. 5. 4.]\n",
            "[3. 2. 1.]\n",
            "[1. 2. 3.]\n",
            "[4. 5. 6.]\n",
            "**************\n",
            "El 1 dia la vaca que mas dio leche fue=2.0\n",
            "El 2 dia la vaca que mas dio leche fue=1.0\n",
            "El 3 dia la vaca que mas dio leche fue=1.0\n",
            "El 4 dia la vaca que mas dio leche fue=3.0\n",
            "El 5 dia la vaca que mas dio leche fue=3.0\n"
          ]
        }
      ]
    }
  ]
}