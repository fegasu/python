{
  "nbformat": 4,
  "nbformat_minor": 0,
  "metadata": {
    "kernelspec": {
      "display_name": "Python 3",
      "language": "python",
      "name": "python3"
    },
    "language_info": {
      "codemirror_mode": {
        "name": "ipython",
        "version": 3
      },
      "file_extension": ".py",
      "mimetype": "text/x-python",
      "name": "python",
      "nbconvert_exporter": "python",
      "pygments_lexer": "ipython3",
      "version": "3.7.3"
    },
    "toc": {
      "base_numbering": 1,
      "nav_menu": {},
      "number_sections": false,
      "sideBar": true,
      "skip_h1_title": false,
      "title_cell": "Table of Contents",
      "title_sidebar": "Contents",
      "toc_cell": false,
      "toc_position": {},
      "toc_section_display": true,
      "toc_window_display": false
    },
    "colab": {
      "name": "02_ControlDeFlujo.ipynb",
      "provenance": [],
      "include_colab_link": true
    }
  },
  "cells": [
    {
      "cell_type": "markdown",
      "metadata": {
        "id": "view-in-github",
        "colab_type": "text"
      },
      "source": [
        "<a href=\"https://colab.research.google.com/github/fegasu/python/blob/master/02_ControlDeFlujo.ipynb\" target=\"_parent\"><img src=\"https://colab.research.google.com/assets/colab-badge.svg\" alt=\"Open In Colab\"/></a>"
      ]
    },
    {
      "cell_type": "markdown",
      "metadata": {
        "id": "cKnz3ZRD_aMx"
      },
      "source": [
        "# Control de Flujo"
      ]
    },
    {
      "cell_type": "markdown",
      "metadata": {
        "id": "gCEtRcJ6_aM0"
      },
      "source": [
        "Al igual que otros lenguajes python posee la capacidad de controlar el flujo de ejecución del programa."
      ]
    },
    {
      "cell_type": "markdown",
      "metadata": {
        "id": "seQnm4mf_aM2"
      },
      "source": [
        "## `if`, `elif` & `else`\n",
        "la declaración `if` evalua una condición; en caso de evaluar `True`, se ejecuta el código en el bloque indentado."
      ]
    },
    {
      "cell_type": "code",
      "metadata": {
        "id": "iQOP65B__aM3"
      },
      "source": [
        "if True:\n",
        "    print('Solo True')\n",
        "\n",
        "if False: # Este bloque no va a ejecutarse\n",
        "    print('Solo False')"
      ],
      "execution_count": null,
      "outputs": []
    },
    {
      "cell_type": "markdown",
      "metadata": {
        "id": "19TNq9EP_aM9"
      },
      "source": [
        "Una declaración `if` puede tener uno o más bloques `elif`.  \n",
        "Cada uno de estos bloques son ejecutados en orden; si alguna de las expresiones es `True` el bloque indentado es ejecutado y se detiene la ejecución del `if`.  \n",
        "También es posible tener un bloque `else` que se ejecuta en caso que ninguna de las condiciones previas sean `True`."
      ]
    },
    {
      "cell_type": "code",
      "metadata": {
        "id": "cePW_zcl_aM-"
      },
      "source": [
        "x = 3\n",
        "\n",
        "if x < 0:\n",
        "    print('x es negativo')\n",
        "elif x == 0:\n",
        "    print('x es cero')\n",
        "elif x < 5:\n",
        "    print('x es un positivo menor a 5')\n",
        "else:\n",
        "    print('x es un positivo mayor o igual a cinco')"
      ],
      "execution_count": null,
      "outputs": []
    },
    {
      "cell_type": "markdown",
      "metadata": {
        "id": "E4VxtlTV_aNC"
      },
      "source": [
        "En el caso de tener una condición compuesta `and` o `or`, las condiciones se evalúan de izquierda a derecha y pueden hacer corto circuito."
      ]
    },
    {
      "cell_type": "code",
      "metadata": {
        "id": "U5x2w3_6_aND",
        "colab": {
          "base_uri": "https://localhost:8080/",
          "height": 35
        },
        "outputId": "05604def-0c80-4a1d-b933-1149f6d012bf"
      },
      "source": [
        "a = 5; b = 7;\n",
        "c = 8; d = 4;\n",
        "\n",
        "if a < b or c > d: # c>d no se evalúa\n",
        "    print('Se cumple la condición')"
      ],
      "execution_count": null,
      "outputs": [
        {
          "output_type": "stream",
          "text": [
            "Se cumple la condición\n"
          ],
          "name": "stdout"
        }
      ]
    },
    {
      "cell_type": "markdown",
      "metadata": {
        "id": "vmKbpJ5S_aNH"
      },
      "source": [
        "### Ejercicio\n",
        "\n",
        "Cree una declaración que permita encontrar el valor absoluto de un número"
      ]
    },
    {
      "cell_type": "code",
      "metadata": {
        "id": "NN3HEwbd_aNJ"
      },
      "source": [
        ""
      ],
      "execution_count": null,
      "outputs": []
    },
    {
      "cell_type": "markdown",
      "metadata": {
        "id": "xuphy1Wj_aNN"
      },
      "source": [
        "## Ciclos `for`\n",
        "Los ciclos permiten ejecutar un fragmento de codigo de forma repetitiva, especificamente recorrer un rango númerico o una lista"
      ]
    },
    {
      "cell_type": "code",
      "metadata": {
        "id": "Uc1S8cLz_aNP",
        "colab": {
          "base_uri": "https://localhost:8080/",
          "height": 87
        },
        "outputId": "25bea45c-f1e5-4a41-833b-922dadb8c1a3"
      },
      "source": [
        "c = [1, 2, 3, 4]\n",
        "\n",
        "for valor in c:\n",
        "    print('Imprimendo el valor {0:d}'.format(valor))"
      ],
      "execution_count": null,
      "outputs": [
        {
          "output_type": "stream",
          "text": [
            "Imprimendo el valor 1\n",
            "Imprimendo el valor 2\n",
            "Imprimendo el valor 3\n",
            "Imprimendo el valor 4\n"
          ],
          "name": "stdout"
        }
      ]
    },
    {
      "cell_type": "markdown",
      "metadata": {
        "id": "9Ha2otnl_aNT"
      },
      "source": [
        "Es posible continuar terminar la iteración actual con la palabra `continue`"
      ]
    },
    {
      "cell_type": "code",
      "metadata": {
        "id": "FneAixAx_aNU"
      },
      "source": [
        "coleccion = [1,2,None,3,None,4]\n",
        "total = 0\n",
        "\n",
        "for valor in coleccion:\n",
        "    if valor is None:\n",
        "        continue\n",
        "    total += valor\n",
        "\n",
        "print('El total es {0:d}'.format(total))"
      ],
      "execution_count": null,
      "outputs": []
    },
    {
      "cell_type": "markdown",
      "metadata": {
        "id": "yrS_JUnZ_aNY"
      },
      "source": [
        "De igual forma la palabra `break` rompe (termina) la ejecución del ciclo."
      ]
    },
    {
      "cell_type": "code",
      "metadata": {
        "id": "xUv12srT_aNZ"
      },
      "source": [
        "coleccion = [1,2,9,3,8,6,9,4]\n",
        "total_hasta_8 = 0\n",
        "\n",
        "for valor in coleccion:\n",
        "    if valor == 8:\n",
        "        break\n",
        "    total_hasta_8 += valor\n",
        "\n",
        "print('El total hasta el valor 8 es {0:d}'.format(total_hasta_8))"
      ],
      "execution_count": null,
      "outputs": []
    },
    {
      "cell_type": "markdown",
      "metadata": {
        "id": "c6aaD2BB_aNd"
      },
      "source": [
        "Es importante tener en cuenta que `break` solo interrumpe el ciclo del bloque en el que está."
      ]
    },
    {
      "cell_type": "code",
      "metadata": {
        "id": "Amv4jPOv_aNe",
        "colab": {
          "base_uri": "https://localhost:8080/",
          "height": 193
        },
        "outputId": "df73fb68-f131-4e23-ef05-69c2fa7e58c4"
      },
      "source": [
        "for i in range(4):\n",
        "    for j in range(4):\n",
        "        if j > i:\n",
        "            break\n",
        "        print((i,j))"
      ],
      "execution_count": null,
      "outputs": [
        {
          "output_type": "stream",
          "text": [
            "(0, 0)\n",
            "(1, 0)\n",
            "(1, 1)\n",
            "(2, 0)\n",
            "(2, 1)\n",
            "(2, 2)\n",
            "(3, 0)\n",
            "(3, 1)\n",
            "(3, 2)\n",
            "(3, 3)\n"
          ],
          "name": "stdout"
        }
      ]
    },
    {
      "cell_type": "markdown",
      "metadata": {
        "id": "Bew5vQyP_aNi"
      },
      "source": [
        "### Ejercicio 1\n",
        "\n",
        "Haga un ciclo que imprima los números impares del 1 al 50. Bonificación si no usa una declaración `if`."
      ]
    },
    {
      "cell_type": "code",
      "metadata": {
        "id": "Qugtqfaw_aNj"
      },
      "source": [
        ""
      ],
      "execution_count": null,
      "outputs": []
    },
    {
      "cell_type": "markdown",
      "metadata": {
        "id": "5vkiaNxW_aNn"
      },
      "source": [
        "### Ejercicio 2\n",
        "\n",
        "Plantear un ejercicio que cumpla las siguientes condiciones:\n",
        "* Uso de ciclos anidados (dos ciclos)\n",
        "* Uso de anomalo del ciclo (break, continue)\n",
        "* Un condicional (if/else)"
      ]
    },
    {
      "cell_type": "markdown",
      "metadata": {
        "id": "LX1Pwf44_aNo"
      },
      "source": [
        "#### Ejercicio propuesto y solución:\n",
        "\n"
      ]
    },
    {
      "cell_type": "code",
      "metadata": {
        "id": "icdcbYd__aNp"
      },
      "source": [
        ""
      ],
      "execution_count": null,
      "outputs": []
    },
    {
      "cell_type": "markdown",
      "metadata": {
        "id": "g3atbd4j_aNs"
      },
      "source": [
        "## Ciclos `while`\n",
        "Los ciclos `while` se ejecutan hasta que la condición del ciclo sea `False`."
      ]
    },
    {
      "cell_type": "code",
      "metadata": {
        "id": "LpdI-3ui_aNt"
      },
      "source": [
        "x = 256\n",
        "total = 0\n",
        "\n",
        "while x > 0:\n",
        "    if total > 500:\n",
        "        break\n",
        "    total += x\n",
        "    x = x//2\n",
        "\n",
        "print(total)"
      ],
      "execution_count": null,
      "outputs": []
    },
    {
      "cell_type": "markdown",
      "metadata": {
        "id": "STtCTO23_aNy"
      },
      "source": [
        "### Ejercicio\n",
        "\n",
        "Escriba un código que permita calcular los primos de un número entero positivo usando un `while`."
      ]
    },
    {
      "cell_type": "code",
      "metadata": {
        "id": "_USnC_Lj_aN0"
      },
      "source": [
        ""
      ],
      "execution_count": null,
      "outputs": []
    },
    {
      "cell_type": "markdown",
      "metadata": {
        "id": "-H1I4Zl5_aN3"
      },
      "source": [
        "## Utilidades"
      ]
    },
    {
      "cell_type": "markdown",
      "metadata": {
        "id": "1AXdUIhp_aN4"
      },
      "source": [
        "### palabra `pass`\n",
        "Esta palabra indica que no se realiza ninguna operación"
      ]
    },
    {
      "cell_type": "code",
      "metadata": {
        "id": "j6zM8nDl_aN5"
      },
      "source": [
        "if True:\n",
        "    pass    # No se ejecuta nada"
      ],
      "execution_count": null,
      "outputs": []
    },
    {
      "cell_type": "markdown",
      "metadata": {
        "id": "kot0Ry-V_aN-"
      },
      "source": [
        "### Función `range`\n",
        "La función `range` retorna un iterador que tiene una secuencia de enteros igualmente espaciados."
      ]
    },
    {
      "cell_type": "code",
      "metadata": {
        "id": "jt1tY2uv_aN_"
      },
      "source": [
        "range(10)\n",
        "range(0,10)\n",
        "range(0,10, 2)"
      ],
      "execution_count": null,
      "outputs": []
    },
    {
      "cell_type": "markdown",
      "metadata": {
        "id": "dRTBEorx_aOD"
      },
      "source": [
        "## Expresiones Ternarias\n",
        "Estas expresiones resumen una expresión `if/else` a una sola linea"
      ]
    },
    {
      "cell_type": "markdown",
      "metadata": {
        "id": "3ndMlht3_aOE"
      },
      "source": [
        "### Bloque `if/else`\n",
        "\n",
        "```python\n",
        "if condición:\n",
        "    expresión True\n",
        "else:\n",
        "    expresión false\n",
        "```\n",
        "\n",
        "### Expresión Ternaria\n",
        "\n",
        "```python\n",
        "expresión True if condición else expresión False\n",
        "```"
      ]
    },
    {
      "cell_type": "code",
      "metadata": {
        "id": "IPS3ffoM_aOF"
      },
      "source": [
        "x = 10\n",
        "'Positivo' if x > 0 else 'Negativo o cero'"
      ],
      "execution_count": null,
      "outputs": []
    },
    {
      "cell_type": "markdown",
      "metadata": {
        "id": "wh73jerK_aOI"
      },
      "source": [
        "### Ejercicio\n",
        "\n",
        "Escribir a través de una expresión terniaria un código que permita calcular el valor absoluto de un número "
      ]
    },
    {
      "cell_type": "code",
      "metadata": {
        "id": "vFYMKOTq_aOJ"
      },
      "source": [
        ""
      ],
      "execution_count": null,
      "outputs": []
    }
  ]
}